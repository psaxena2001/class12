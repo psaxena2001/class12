{
 "cells": [
  {
   "cell_type": "code",
   "execution_count": 2,
   "metadata": {},
   "outputs": [],
   "source": [
    "# Series in Python Pandas"
   ]
  },
  {
   "cell_type": "code",
   "execution_count": 1,
   "metadata": {},
   "outputs": [
    {
     "name": "stdout",
     "output_type": "stream",
     "text": [
      "Series([], dtype: float64)\n"
     ]
    },
    {
     "name": "stderr",
     "output_type": "stream",
     "text": [
      "<ipython-input-1-a25eb6f6dc9c>:3: DeprecationWarning: The default dtype for empty Series will be 'object' instead of 'float64' in a future version. Specify a dtype explicitly to silence this warning.\n",
      "  s = pd.Series()\n"
     ]
    }
   ],
   "source": [
    "# creating empty Series\n",
    "import pandas as pd\n",
    "s = pd.Series()\n",
    "print(s)"
   ]
  },
  {
   "cell_type": "code",
   "execution_count": 6,
   "metadata": {},
   "outputs": [
    {
     "name": "stdout",
     "output_type": "stream",
     "text": [
      "0    35\n",
      "1    40\n",
      "2    48\n",
      "3    52\n",
      "Name: Age, dtype: int64\n"
     ]
    }
   ],
   "source": [
    "# creating series from scalar values with name \n",
    "import pandas as pd\n",
    "s=pd.Series([35,40,48,52],name=\"Age\")\n",
    "print(s)"
   ]
  },
  {
   "cell_type": "code",
   "execution_count": 12,
   "metadata": {},
   "outputs": [
    {
     "name": "stdout",
     "output_type": "stream",
     "text": [
      "2    35\n",
      "4    40\n",
      "6    48\n",
      "8    52\n",
      "Name: Age, dtype: int64\n"
     ]
    }
   ],
   "source": [
    "# creating series from scalar values with user defined numeric index\n",
    "import pandas as pd\n",
    "s=pd.Series([35,40,48,52],index=[2,4,6,8],name=\"Age\")\n",
    "print(s)"
   ]
  },
  {
   "cell_type": "code",
   "execution_count": 13,
   "metadata": {},
   "outputs": [
    {
     "name": "stdout",
     "output_type": "stream",
     "text": [
      "Ramesh     35\n",
      "Tarun      40\n",
      "Shan       48\n",
      "Utkarsh    52\n",
      "Name: Age, dtype: int64\n"
     ]
    }
   ],
   "source": [
    "# creating series from scalar values with user defined labelled index\n",
    "import pandas as pd\n",
    "s=pd.Series([35,40,48,52],index=[\"Ramesh\",\"Tarun\",\"Shan\",\"Utkarsh\"],name=\"Age\")\n",
    "print(s)"
   ]
  },
  {
   "cell_type": "code",
   "execution_count": 15,
   "metadata": {},
   "outputs": [
    {
     "name": "stdout",
     "output_type": "stream",
     "text": [
      "a    11\n",
      "b    12\n",
      "c    13\n",
      "d    14\n",
      "Name: UTmarks, dtype: int64\n"
     ]
    }
   ],
   "source": [
    "# creating series from dictionary\n",
    "import pandas as pd\n",
    "d1 = {\"a\":11,\"b\":12,\"c\":13,\"d\":14}\n",
    "s = pd.Series(d1,name=\"UTmarks\")\n",
    "print(s)"
   ]
  },
  {
   "cell_type": "code",
   "execution_count": 24,
   "metadata": {},
   "outputs": [
    {
     "name": "stdout",
     "output_type": "stream",
     "text": [
      "a    11\n",
      "b    12\n",
      "c    13\n",
      "d    14\n",
      "Name: UTmarks, dtype: int64\n"
     ]
    }
   ],
   "source": [
    "# creating series from dictionary\n",
    "import pandas as pd\n",
    "d1 = {\"a\":11,\"b\":12,\"c\":13,\"d\":14}\n",
    "s = pd.Series(d1,index=[\"a\",\"b\",\"c\",\"d\"],name=\"UTmarks\")\n",
    "print(s)"
   ]
  },
  {
   "cell_type": "code",
   "execution_count": 25,
   "metadata": {},
   "outputs": [
    {
     "name": "stdout",
     "output_type": "stream",
     "text": [
      "jan   NaN\n",
      "feb   NaN\n",
      "mar   NaN\n",
      "apr   NaN\n",
      "Name: UTmarks, dtype: float64\n"
     ]
    }
   ],
   "source": [
    "# creating series from dictionary\n",
    "import pandas as pd\n",
    "d1 = {\"a\":11,\"b\":12,\"c\":13,\"d\":14}\n",
    "s = pd.Series(d1,index=[\"jan\",\"feb\",\"mar\",\"apr\"],name=\"UTmarks\")\n",
    "print(s)"
   ]
  },
  {
   "cell_type": "code",
   "execution_count": 34,
   "metadata": {},
   "outputs": [
    {
     "name": "stdout",
     "output_type": "stream",
     "text": [
      "0    42500\n",
      "1    35500\n",
      "2    25000\n",
      "3    51000\n",
      "4    42000\n",
      "dtype: int32\n"
     ]
    }
   ],
   "source": [
    "# creating series from ndarray\n",
    "import pandas as pd\n",
    "import numpy as np\n",
    "data = np.array([42500,35500,25000,51000,42000])\n",
    "s = pd.Series(data)\n",
    "print(s)\n"
   ]
  },
  {
   "cell_type": "code",
   "execution_count": 19,
   "metadata": {},
   "outputs": [
    {
     "name": "stdout",
     "output_type": "stream",
     "text": [
      "jan    42500\n",
      "feb    35500\n",
      "mar    25000\n",
      "apr    51000\n",
      "may    42000\n",
      "Name: expenditure, dtype: int32\n"
     ]
    }
   ],
   "source": [
    "# creating series from ndarray\n",
    "import pandas as pd\n",
    "import numpy as np\n",
    "data = np.array([42500,35500,25000,51000,42000])\n",
    "s = pd.Series(data,index=['jan','feb','mar','apr','may'], name=\"expenditure\")\n",
    "print(s)"
   ]
  },
  {
   "cell_type": "code",
   "execution_count": 22,
   "metadata": {},
   "outputs": [
    {
     "name": "stdout",
     "output_type": "stream",
     "text": [
      "0    11000\n",
      "1    13000\n",
      "2    15000\n",
      "3    17000\n",
      "4    19000\n",
      "dtype: int32\n"
     ]
    }
   ],
   "source": [
    "# creating series from ndarray using arange method\n",
    "import pandas as pd\n",
    "import numpy as np\n",
    "data = np.arange(11000,20000,2000)\n",
    "s = pd.Series(data)\n",
    "print(s)"
   ]
  },
  {
   "cell_type": "code",
   "execution_count": 50,
   "metadata": {},
   "outputs": [
    {
     "name": "stdout",
     "output_type": "stream",
     "text": [
      "0    25000\n",
      "1    37000\n",
      "2    28000\n",
      "3    44000\n",
      "dtype: int64\n"
     ]
    }
   ],
   "source": [
    "# accessing elements of a series\n",
    "import pandas as pd\n",
    "salary= pd.Series([25000,37000,28000,44000])\n",
    "print(salary)"
   ]
  },
  {
   "cell_type": "code",
   "execution_count": 47,
   "metadata": {},
   "outputs": [
    {
     "name": "stdout",
     "output_type": "stream",
     "text": [
      "0    25000\n",
      "1    37000\n",
      "2    28000\n",
      "3    44000\n",
      "dtype: int64\n",
      "Accessing 1st to 3rd element from the series\n",
      "1    37000\n",
      "2    28000\n",
      "dtype: int64\n"
     ]
    }
   ],
   "source": [
    "# accessing elements of a series\n",
    "import pandas as pd\n",
    "salary= pd.Series([25000,37000,28000,44000])\n",
    "print(salary)\n",
    "print(\"Accessing 1st to 3rd element from the series\")\n",
    "print(salary[1:3])"
   ]
  },
  {
   "cell_type": "code",
   "execution_count": 48,
   "metadata": {},
   "outputs": [
    {
     "name": "stdout",
     "output_type": "stream",
     "text": [
      "0    25000\n",
      "1    37000\n",
      "2    28000\n",
      "3    44000\n",
      "dtype: int64\n",
      "Accessing 1st to 3rd element from the series\n",
      "1    37000\n",
      "3    44000\n",
      "dtype: int64\n"
     ]
    }
   ],
   "source": [
    "# accessing elements of a series\n",
    "import pandas as pd\n",
    "salary= pd.Series([25000,37000,28000,44000])\n",
    "print(salary)\n",
    "print(\"Accessing 1st to 3rd element from the series\")\n",
    "print(salary[[1,3]])"
   ]
  },
  {
   "cell_type": "code",
   "execution_count": 56,
   "metadata": {},
   "outputs": [
    {
     "name": "stdout",
     "output_type": "stream",
     "text": [
      "0    25000\n",
      "1    37000\n",
      "2    28000\n",
      "3    44000\n",
      "dtype: int64\n",
      "Accessing 1st and 3rd element from the series\n",
      "1    37000\n",
      "3    44000\n",
      "dtype: int64\n"
     ]
    }
   ],
   "source": [
    "# accessing elements of a series using labelled index\n",
    "import pandas as pd\n",
    "salary= pd.Series([25000,37000,28000,44000])\n",
    "print(salary)\n",
    "print(\"Accessing 1st and 3rd element from the series\")\n",
    "print(salary[[1,3]])"
   ]
  },
  {
   "cell_type": "code",
   "execution_count": 54,
   "metadata": {},
   "outputs": [
    {
     "name": "stdout",
     "output_type": "stream",
     "text": [
      "jan    25000\n",
      "feb    37000\n",
      "mar    28000\n",
      "apr    44000\n",
      "dtype: int64\n",
      "Accessing 1st to 3rd element from the series\n",
      "37000\n"
     ]
    }
   ],
   "source": [
    "# accessing elements of a series using labelled index\n",
    "import pandas as pd\n",
    "salary= pd.Series([25000,37000,28000,44000],index=[\"jan\",\"feb\",\"mar\",\"apr\"])\n",
    "print(salary)\n",
    "print(\"Accessing 2nd element from the series\")\n",
    "print(salary[\"feb\"])"
   ]
  },
  {
   "cell_type": "code",
   "execution_count": 52,
   "metadata": {},
   "outputs": [
    {
     "name": "stdout",
     "output_type": "stream",
     "text": [
      "jan    25000\n",
      "feb    37000\n",
      "mar    28000\n",
      "apr    44000\n",
      "dtype: int64\n",
      "Accessing 1st to 3rd element from the series\n",
      "jan    25000\n",
      "feb    37000\n",
      "mar    28000\n",
      "dtype: int64\n"
     ]
    }
   ],
   "source": [
    "# accessing elements of a series using labelled index\n",
    "import pandas as pd\n",
    "salary= pd.Series([25000,37000,28000,44000],index=[\"jan\",\"feb\",\"mar\",\"apr\"])\n",
    "print(salary)\n",
    "print(\"Accessing 1st to 3rd element from the series\")\n",
    "print(salary[\"jan\": \"mar\"])"
   ]
  },
  {
   "cell_type": "code",
   "execution_count": 53,
   "metadata": {},
   "outputs": [
    {
     "name": "stdout",
     "output_type": "stream",
     "text": [
      "jan    25000\n",
      "feb    37000\n",
      "mar    28000\n",
      "apr    44000\n",
      "dtype: int64\n",
      "Accessing 1st to 3rd element from the series\n",
      "jan    25000\n",
      "mar    28000\n",
      "dtype: int64\n"
     ]
    }
   ],
   "source": [
    "# accessing elements of a series using labelled index\n",
    "import pandas as pd\n",
    "salary= pd.Series([25000,37000,28000,44000],index=[\"jan\",\"feb\",\"mar\",\"apr\"])\n",
    "print(salary)\n",
    "print(\"Accessing 1st and 3rd element from the series\")\n",
    "print(salary[[\"jan\", \"mar\"]])"
   ]
  },
  {
   "cell_type": "code",
   "execution_count": 1,
   "metadata": {},
   "outputs": [
    {
     "name": "stdout",
     "output_type": "stream",
     "text": [
      "jan    25000\n",
      "feb    37000\n",
      "mar    28000\n",
      "apr    44000\n",
      "dtype: int64\n",
      "Accessing element from the series in reverse order\n",
      "apr    44000\n",
      "mar    28000\n",
      "feb    37000\n",
      "jan    25000\n",
      "dtype: int64\n"
     ]
    }
   ],
   "source": [
    "# displaying the series elements in reverse order\n",
    "import pandas as pd\n",
    "salary= pd.Series([25000,37000,28000,44000],index=[\"jan\",\"feb\",\"mar\",\"apr\"])\n",
    "print(salary)\n",
    "print(\"Accessing element from the series in reverse order\")\n",
    "print(salary[: : -1])"
   ]
  },
  {
   "cell_type": "code",
   "execution_count": 2,
   "metadata": {},
   "outputs": [
    {
     "name": "stdout",
     "output_type": "stream",
     "text": [
      "jan    25000\n",
      "feb    37000\n",
      "mar    28000\n",
      "apr    44000\n",
      "dtype: int64\n",
      "modifying the values of a series \n",
      "jan    25000\n",
      "feb    50000\n",
      "mar    50000\n",
      "apr    44000\n",
      "dtype: int64\n"
     ]
    }
   ],
   "source": [
    "# modifying the values of a series using positional index\n",
    "import pandas as pd\n",
    "salary= pd.Series([25000,37000,28000,44000],index=[\"jan\",\"feb\",\"mar\",\"apr\"])\n",
    "print(salary)\n",
    "print(\"modifying the values of a series using positional index\")\n",
    "salary[1:3]=50000\n",
    "print(salary)"
   ]
  },
  {
   "cell_type": "code",
   "execution_count": 3,
   "metadata": {},
   "outputs": [
    {
     "name": "stdout",
     "output_type": "stream",
     "text": [
      "jan    25000\n",
      "feb    37000\n",
      "mar    28000\n",
      "apr    44000\n",
      "dtype: int64\n",
      "modifying the values of a series \n",
      "jan    60000\n",
      "feb    60000\n",
      "mar    60000\n",
      "apr    44000\n",
      "dtype: int64\n"
     ]
    }
   ],
   "source": [
    "# modifying the values of a series using labelled index\n",
    "import pandas as pd\n",
    "salary= pd.Series([25000,37000,28000,44000],index=[\"jan\",\"feb\",\"mar\",\"apr\"])\n",
    "print(salary)\n",
    "print(\"modifying the values of a series using labelled index \")\n",
    "salary[\"jan\":\"mar\"]=60000\n",
    "print(salary)"
   ]
  },
  {
   "cell_type": "code",
   "execution_count": 57,
   "metadata": {},
   "outputs": [
    {
     "name": "stdout",
     "output_type": "stream",
     "text": [
      "sun    25000\n",
      "mon    37000\n",
      "tue    28000\n",
      "wed    44000\n",
      "dtype: int64\n"
     ]
    }
   ],
   "source": [
    "# modifying the index labels of a series\n",
    "salary.index=['sun','mon','tue','wed']\n",
    "print(salary)"
   ]
  },
  {
   "cell_type": "code",
   "execution_count": 4,
   "metadata": {},
   "outputs": [
    {
     "name": "stdout",
     "output_type": "stream",
     "text": [
      "Arun     14\n",
      "Tejas    16\n",
      "Seema    17\n",
      "Raj      15\n",
      "dtype: int64\n"
     ]
    }
   ],
   "source": [
    "# Example of attribute of series\n",
    "import pandas as pd\n",
    "S1=pd.Series([14,16,17,15],index=['Arun','Tejas','Seema','Raj'])\n",
    "print(S1)"
   ]
  },
  {
   "cell_type": "code",
   "execution_count": 2,
   "metadata": {},
   "outputs": [
    {
     "name": "stdout",
     "output_type": "stream",
     "text": [
      "Arun     14\n",
      "Tejas    16\n",
      "Seema    17\n",
      "Raj      15\n",
      "Name: Age, dtype: int64\n"
     ]
    }
   ],
   "source": [
    "# Attributes of pandas # name \n",
    "import pandas as pd\n",
    "S1=pd.Series([14,16,17,15],index=['Arun','Tejas','Seema','Raj'])\n",
    "S1.name= \"Age\"\n",
    "print(S1)"
   ]
  },
  {
   "cell_type": "code",
   "execution_count": 3,
   "metadata": {},
   "outputs": [
    {
     "name": "stdout",
     "output_type": "stream",
     "text": [
      "Age\n",
      "Arun     14\n",
      "Tejas    16\n",
      "Seema    17\n",
      "Raj      15\n",
      "dtype: int64\n"
     ]
    }
   ],
   "source": [
    "# Attributes of pandas # index name \n",
    "import pandas as pd\n",
    "S1=pd.Series([14,16,17,15],index=['Arun','Tejas','Seema','Raj'])\n",
    "S1.index.name= \"Age\"\n",
    "print(S1)"
   ]
  },
  {
   "cell_type": "code",
   "execution_count": 5,
   "metadata": {},
   "outputs": [
    {
     "name": "stdout",
     "output_type": "stream",
     "text": [
      "[14 16 17 15]\n"
     ]
    }
   ],
   "source": [
    "# Attributes of pandas # Value \n",
    "import pandas as pd\n",
    "S1=pd.Series([14,16,17,15],index=['Arun','Tejas','Seema','Raj'])\n",
    "print(S1.values)"
   ]
  },
  {
   "cell_type": "code",
   "execution_count": 19,
   "metadata": {},
   "outputs": [
    {
     "name": "stdout",
     "output_type": "stream",
     "text": [
      "Jack     5\n",
      "Jill     5\n",
      "John     5\n",
      "James    5\n",
      "dtype: int64\n"
     ]
    }
   ],
   "source": [
    "#Creating Series using scalar values\n",
    "import pandas as pd\n",
    "s = pd.Series(15,index=[\"Jack\", \"Jill\", \"John\", \"James\"])\n",
    "print(s)"
   ]
  },
  {
   "cell_type": "code",
   "execution_count": 6,
   "metadata": {},
   "outputs": [
    {
     "name": "stdout",
     "output_type": "stream",
     "text": [
      "4\n"
     ]
    }
   ],
   "source": [
    "# Attributes of pandas # size \n",
    "import pandas as pd\n",
    "S1=pd.Series([14,16,17,15],index=['Arun','Tejas','Seema','Raj'])\n",
    "print(S1.size)"
   ]
  },
  {
   "cell_type": "code",
   "execution_count": 22,
   "metadata": {},
   "outputs": [
    {
     "name": "stdout",
     "output_type": "stream",
     "text": [
      "Jack     3\n",
      "Damie    1\n",
      "Mill     2\n",
      "Brown    4\n",
      "dtype: int64\n"
     ]
    }
   ],
   "source": [
    "#Creating Series using the index order\n",
    "import pandas as pd\n",
    "data = {\"Jack\":3, \"Mill\":2, \"Brown\":4, \"Damie\":1,}\n",
    "s = pd.Series(data,index=[\"Jack\", \"Damie\",\"Mill\", \"Brown\"])\n",
    "print(s)"
   ]
  },
  {
   "cell_type": "code",
   "execution_count": 11,
   "metadata": {},
   "outputs": [
    {
     "name": "stdout",
     "output_type": "stream",
     "text": [
      "Is S1 empty? False\n",
      "Is S2 empty? True\n"
     ]
    },
    {
     "name": "stderr",
     "output_type": "stream",
     "text": [
      "<ipython-input-11-0d1d1489e04f>:4: DeprecationWarning: The default dtype for empty Series will be 'object' instead of 'float64' in a future version. Specify a dtype explicitly to silence this warning.\n",
      "  S2=pd.Series()\n"
     ]
    }
   ],
   "source": [
    "# Attributes of pandas # empty \n",
    "import pandas as pd\n",
    "S1=pd.Series([14,16,17,15],index=['Arun','Tejas','Seema','Raj'])\n",
    "S2=pd.Series()\n",
    "print(\"Is S1 empty?\", S1.empty)\n",
    "print(\"Is S2 empty?\",S2.empty)"
   ]
  },
  {
   "cell_type": "code",
   "execution_count": 5,
   "metadata": {},
   "outputs": [
    {
     "name": "stdout",
     "output_type": "stream",
     "text": [
      "Tea         350\n",
      "biscuit     120\n",
      "soap         65\n",
      "almonds     789\n",
      "coffee      250\n",
      "Register     79\n",
      "Seeds       190\n",
      "dtype: int64\n"
     ]
    }
   ],
   "source": [
    "import pandas as pd \n",
    "S1=pd.Series([350,120,65,789,250,79,190], index=['Tea','biscuit','soap','almonds','coffee','Register','Seeds'])\n",
    "print(S1) # this will display the values of the series "
   ]
  },
  {
   "cell_type": "code",
   "execution_count": 6,
   "metadata": {},
   "outputs": [
    {
     "name": "stdout",
     "output_type": "stream",
     "text": [
      "Tea        350\n",
      "biscuit    120\n",
      "soap        65\n",
      "dtype: int64\n"
     ]
    }
   ],
   "source": [
    "print(S1.head(3)) # this will display first 3 records\n"
   ]
  },
  {
   "cell_type": "code",
   "execution_count": 7,
   "metadata": {},
   "outputs": [
    {
     "name": "stdout",
     "output_type": "stream",
     "text": [
      "Tea        350\n",
      "biscuit    120\n",
      "soap        65\n",
      "almonds    789\n",
      "coffee     250\n",
      "dtype: int64\n"
     ]
    }
   ],
   "source": [
    "print(S1.head())  # this will display first 5 records by default"
   ]
  },
  {
   "cell_type": "code",
   "execution_count": 8,
   "metadata": {},
   "outputs": [
    {
     "name": "stdout",
     "output_type": "stream",
     "text": [
      "Tea         350\n",
      "biscuit     120\n",
      "soap         65\n",
      "almonds     789\n",
      "coffee      250\n",
      "Register     79\n",
      "Seeds       190\n",
      "dtype: int64\n"
     ]
    }
   ],
   "source": [
    "import pandas as pd \n",
    "S1=pd.Series([350,120,65,789,250,79,190], index=['Tea','biscuit','soap','almonds','coffee','Register','Seeds'])\n",
    "print(S1) # this will display the values of the series "
   ]
  },
  {
   "cell_type": "code",
   "execution_count": 10,
   "metadata": {},
   "outputs": [
    {
     "name": "stdout",
     "output_type": "stream",
     "text": [
      "7\n"
     ]
    }
   ],
   "source": [
    "print(S1.count())"
   ]
  },
  {
   "cell_type": "code",
   "execution_count": 11,
   "metadata": {},
   "outputs": [
    {
     "name": "stdout",
     "output_type": "stream",
     "text": [
      "Tea         350\n",
      "biscuit     120\n",
      "soap         65\n",
      "almonds     789\n",
      "coffee      250\n",
      "Register     79\n",
      "Seeds       190\n",
      "dtype: int64\n"
     ]
    }
   ],
   "source": [
    "import pandas as pd \n",
    "S1=pd.Series([350,120,65,789,250,79,190], index=['Tea','biscuit','soap','almonds','coffee','Register','Seeds'])\n",
    "print(S1) # this will display the values of the series "
   ]
  },
  {
   "cell_type": "code",
   "execution_count": 12,
   "metadata": {},
   "outputs": [
    {
     "name": "stdout",
     "output_type": "stream",
     "text": [
      "Register     79\n",
      "Seeds       190\n",
      "dtype: int64\n"
     ]
    }
   ],
   "source": [
    "print(S1.tail(2)) # this will display last 2 records"
   ]
  },
  {
   "cell_type": "code",
   "execution_count": 13,
   "metadata": {},
   "outputs": [
    {
     "name": "stdout",
     "output_type": "stream",
     "text": [
      "soap         65\n",
      "almonds     789\n",
      "coffee      250\n",
      "Register     79\n",
      "Seeds       190\n",
      "dtype: int64\n"
     ]
    }
   ],
   "source": [
    "print(S1.tail())  # this will display last 5 records by default"
   ]
  },
  {
   "cell_type": "code",
   "execution_count": 19,
   "metadata": {},
   "outputs": [
    {
     "name": "stdout",
     "output_type": "stream",
     "text": [
      "[12000 45000 67000 89000]\n",
      "0     12000\n",
      "4     45000\n",
      "8     67000\n",
      "10    89000\n",
      "dtype: int32\n"
     ]
    }
   ],
   "source": [
    "# Q1 CBSE file a) part \n",
    "import numpy as np\n",
    "import pandas as pd\n",
    "a1=np.array([12000,45000,67000,89000])\n",
    "print(a1)\n",
    "s1=pd.Series(a1, index=[0,4,8,10])\n",
    "print(s1)"
   ]
  },
  {
   "cell_type": "code",
   "execution_count": 20,
   "metadata": {},
   "outputs": [
    {
     "name": "stdout",
     "output_type": "stream",
     "text": [
      "jan      23000\n",
      "feb      35000\n",
      "march    44000\n",
      "april    55000\n",
      "may      67000\n",
      "dtype: int64\n",
      "[23000 35000 44000 55000 67000]\n",
      "5\n",
      "5\n",
      "jan      23000\n",
      "feb      35000\n",
      "march    44000\n",
      "dtype: int64\n",
      "may    67000\n",
      "dtype: int64\n"
     ]
    }
   ],
   "source": [
    "# Q1 CBSE file b) part \n",
    "import numpy as np\n",
    "import pandas as pd\n",
    "a1={\"jan\": 23000,\"feb\": 35000,\"march\": 44000, \"april\": 55000, \"may\":67000}\n",
    "s1=pd.Series(a1)\n",
    "print(s1)\n",
    "print(s1.values)\n",
    "print(s1.size)\n",
    "print(s1.count())\n",
    "print(s1.head(3))\n",
    "print(s1.tail(1))"
   ]
  },
  {
   "cell_type": "code",
   "execution_count": 11,
   "metadata": {},
   "outputs": [],
   "source": [
    "import numpy as np\n",
    "import pandas as pd\n",
    "s1 = pd.Series(np.arange(10,18,1),index = ['a', 'b', 'c', 'd', 'e', 'f','g','h'])\n",
    "s2=pd.Series(np.arange(400,408,1),index = ['a', 'm', 'd', 'e', 'f','g','h','i'])"
   ]
  },
  {
   "cell_type": "code",
   "execution_count": 15,
   "metadata": {},
   "outputs": [
    {
     "name": "stdout",
     "output_type": "stream",
     "text": [
      "a    10\n",
      "b    11\n",
      "c    12\n",
      "d    13\n",
      "e    14\n",
      "f    15\n",
      "g    16\n",
      "h    17\n",
      "dtype: int32\n"
     ]
    }
   ],
   "source": [
    "print(s1)"
   ]
  },
  {
   "cell_type": "code",
   "execution_count": 16,
   "metadata": {},
   "outputs": [
    {
     "name": "stdout",
     "output_type": "stream",
     "text": [
      "a    400\n",
      "m    401\n",
      "d    402\n",
      "e    403\n",
      "f    404\n",
      "g    405\n",
      "h    406\n",
      "i    407\n",
      "dtype: int32\n"
     ]
    }
   ],
   "source": [
    "print(s2)"
   ]
  },
  {
   "cell_type": "code",
   "execution_count": 17,
   "metadata": {},
   "outputs": [
    {
     "name": "stdout",
     "output_type": "stream",
     "text": [
      "a    410.0\n",
      "b      NaN\n",
      "c      NaN\n",
      "d    415.0\n",
      "e    417.0\n",
      "f    419.0\n",
      "g    421.0\n",
      "h    423.0\n",
      "i      NaN\n",
      "m      NaN\n",
      "dtype: float64\n"
     ]
    }
   ],
   "source": [
    "s3=s1+s2\n",
    "print(s3)"
   ]
  },
  {
   "cell_type": "code",
   "execution_count": 19,
   "metadata": {},
   "outputs": [
    {
     "name": "stdout",
     "output_type": "stream",
     "text": [
      "a    410.0\n",
      "b     21.0\n",
      "c     22.0\n",
      "d    415.0\n",
      "e    417.0\n",
      "f    419.0\n",
      "g    421.0\n",
      "h    423.0\n",
      "i    417.0\n",
      "m    411.0\n",
      "dtype: float64\n"
     ]
    }
   ],
   "source": [
    "import numpy as np\n",
    "import pandas as pd\n",
    "s1 = pd.Series(np.arange(10,18,1),index = ['a', 'b', 'c', 'd', 'e', 'f','g','h'])\n",
    "s2=pd.Series(np.arange(400,408,1),index = ['a', 'm', 'd', 'e', 'f','g','h','i'])\n",
    "s3=s1.add(s2,fill_value=10)\n",
    "print(s3)"
   ]
  },
  {
   "cell_type": "code",
   "execution_count": 4,
   "metadata": {},
   "outputs": [
    {
     "name": "stdout",
     "output_type": "stream",
     "text": [
      "a    390.0\n",
      "b      NaN\n",
      "c      NaN\n",
      "d    389.0\n",
      "e    389.0\n",
      "f    389.0\n",
      "g    389.0\n",
      "h    389.0\n",
      "i      NaN\n",
      "m      NaN\n",
      "dtype: float64\n"
     ]
    }
   ],
   "source": [
    "# performing subtraction with series \n",
    "print(s2-s1)"
   ]
  },
  {
   "cell_type": "code",
   "execution_count": 6,
   "metadata": {
    "scrolled": true
   },
   "outputs": [
    {
     "name": "stdout",
     "output_type": "stream",
     "text": [
      "a    390.0\n",
      "b     -1.0\n",
      "c     -2.0\n",
      "d    389.0\n",
      "e    389.0\n",
      "f    389.0\n",
      "g    389.0\n",
      "h    389.0\n",
      "i    397.0\n",
      "m    391.0\n",
      "dtype: float64\n"
     ]
    }
   ],
   "source": [
    "# performing subtraction using sub() method\n",
    "import numpy as np\n",
    "import pandas as pd\n",
    "s1 = pd.Series(np.arange(10,18,1),index = ['a', 'b', 'c', 'd', 'e', 'f','g','h'])\n",
    "s2=pd.Series(np.arange(400,408,1),index = ['a', 'm', 'd', 'e', 'f','g','h','i'])\n",
    "s3=s2.sub(s1,fill_value=10)\n",
    "print(s3)"
   ]
  },
  {
   "cell_type": "code",
   "execution_count": 7,
   "metadata": {},
   "outputs": [
    {
     "name": "stdout",
     "output_type": "stream",
     "text": [
      "a    4000.0\n",
      "b       NaN\n",
      "c       NaN\n",
      "d    5226.0\n",
      "e    5642.0\n",
      "f    6060.0\n",
      "g    6480.0\n",
      "h    6902.0\n",
      "i       NaN\n",
      "m       NaN\n",
      "dtype: float64\n"
     ]
    }
   ],
   "source": [
    "# performing multiplication  with series \n",
    "print(s2*s1)"
   ]
  },
  {
   "cell_type": "code",
   "execution_count": 8,
   "metadata": {},
   "outputs": [
    {
     "name": "stdout",
     "output_type": "stream",
     "text": [
      "a    4000.0\n",
      "b     110.0\n",
      "c     120.0\n",
      "d    5226.0\n",
      "e    5642.0\n",
      "f    6060.0\n",
      "g    6480.0\n",
      "h    6902.0\n",
      "i    4070.0\n",
      "m    4010.0\n",
      "dtype: float64\n"
     ]
    }
   ],
   "source": [
    "# performing multiplication using mul() method\n",
    "import numpy as np\n",
    "import pandas as pd\n",
    "s1 = pd.Series(np.arange(10,18,1),index = ['a', 'b', 'c', 'd', 'e', 'f','g','h'])\n",
    "s2=pd.Series(np.arange(400,408,1),index = ['a', 'm', 'd', 'e', 'f','g','h','i'])\n",
    "s3=s2.mul(s1,fill_value=10)\n",
    "print(s3)"
   ]
  },
  {
   "cell_type": "code",
   "execution_count": 9,
   "metadata": {},
   "outputs": [
    {
     "name": "stdout",
     "output_type": "stream",
     "text": [
      "a    40.000000\n",
      "b          NaN\n",
      "c          NaN\n",
      "d    30.923077\n",
      "e    28.785714\n",
      "f    26.933333\n",
      "g    25.312500\n",
      "h    23.882353\n",
      "i          NaN\n",
      "m          NaN\n",
      "dtype: float64\n"
     ]
    }
   ],
   "source": [
    "# performing division  with series \n",
    "print(s2/s1)"
   ]
  },
  {
   "cell_type": "code",
   "execution_count": 10,
   "metadata": {},
   "outputs": [
    {
     "name": "stdout",
     "output_type": "stream",
     "text": [
      "a    40.000000\n",
      "b     0.909091\n",
      "c     0.833333\n",
      "d    30.923077\n",
      "e    28.785714\n",
      "f    26.933333\n",
      "g    25.312500\n",
      "h    23.882353\n",
      "i    40.700000\n",
      "m    40.100000\n",
      "dtype: float64\n"
     ]
    }
   ],
   "source": [
    "# performing division using div() method\n",
    "import numpy as np\n",
    "import pandas as pd\n",
    "s1 = pd.Series(np.arange(10,18,1),index = ['a', 'b', 'c', 'd', 'e', 'f','g','h'])\n",
    "s2=pd.Series(np.arange(400,408,1),index = ['a', 'm', 'd', 'e', 'f','g','h','i'])\n",
    "s3=s2.div(s1,fill_value=10)\n",
    "print(s3)"
   ]
  },
  {
   "cell_type": "code",
   "execution_count": 39,
   "metadata": {},
   "outputs": [
    {
     "name": "stdout",
     "output_type": "stream",
     "text": [
      "       prodname  price  discount    city\n",
      "401       brush    158        45  jaipur\n",
      "402  toothpaste     78        20   alwar\n",
      "403        soap     74        15    kota\n",
      "404         tea    345        54   surat\n",
      "       prodname  price  discount    city\n",
      "401       brush    158        45  jaipur\n",
      "402  toothpaste     78        20   alwar\n",
      "403        soap     74        15    kota\n"
     ]
    }
   ],
   "source": [
    "import pandas as pd\n",
    "ld = [{'prodname':'brush','price':158,'discount':45},{'prodname':'toothpaste','price':78,'discount':20},{'prodname':'soap','price':74,'discount':15}]\n",
    "d1=pd.DataFrame(ld,index=['401','402','403'])\n",
    "d1['city']=['jaipur','alwar','kota']  # city is added as column\n",
    "d1.loc['404']=['tea',345,54,'surat']   # row is added\n",
    "# d2=d1.drop(['discount'],axis=1)\n",
    "d2=d1.drop(['404'],axis=0)\n",
    "d3=d2.rename({'401':'pr401','402': 'pr402','403': 'pr403','404': 'pr404'},axis=0)\n",
    "d4=d3.rename({'prodname':'prname','price': 'prodprice','city': 'prodcity'},axis=1)\n",
    "print(d1)\n",
    "print(d2)"
   ]
  },
  {
   "cell_type": "code",
   "execution_count": null,
   "metadata": {},
   "outputs": [],
   "source": []
  },
  {
   "cell_type": "code",
   "execution_count": null,
   "metadata": {},
   "outputs": [],
   "source": []
  }
 ],
 "metadata": {
  "kernelspec": {
   "display_name": "Python 3",
   "language": "python",
   "name": "python3"
  },
  "language_info": {
   "codemirror_mode": {
    "name": "ipython",
    "version": 3
   },
   "file_extension": ".py",
   "mimetype": "text/x-python",
   "name": "python",
   "nbconvert_exporter": "python",
   "pygments_lexer": "ipython3",
   "version": "3.8.5"
  }
 },
 "nbformat": 4,
 "nbformat_minor": 4
}
