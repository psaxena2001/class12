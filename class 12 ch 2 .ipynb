{
 "cells": [
  {
   "cell_type": "code",
   "execution_count": 8,
   "metadata": {},
   "outputs": [
    {
     "name": "stdout",
     "output_type": "stream",
     "text": [
      "enter lines4\n",
      "1  \n",
      "1 2  \n",
      "1 2 3  \n",
      "1 2 3 4  \n"
     ]
    }
   ],
   "source": [
    "# example of For loop \n",
    "x= int(input(\"enter lines\"))\n",
    "for i in range(1,x+1):\n",
    "    for j in range(1,i+1):\n",
    "        print(j,end=\" \")\n",
    "    print(\" \")\n",
    "    \n"
   ]
  },
  {
   "cell_type": "code",
   "execution_count": 9,
   "metadata": {},
   "outputs": [
    {
     "name": "stdout",
     "output_type": "stream",
     "text": [
      "enter lines4\n",
      "1 1 1 1  \n",
      "2 2 2  \n",
      "3 3  \n",
      "4  \n"
     ]
    }
   ],
   "source": [
    "x= int(input(\"enter lines\"))\n",
    "for i in range(1,x+1):\n",
    "    for j in range(x,i-1,-1):\n",
    "        print(i,end=\" \")\n",
    "    print(\" \")"
   ]
  },
  {
   "cell_type": "code",
   "execution_count": 10,
   "metadata": {},
   "outputs": [
    {
     "name": "stdout",
     "output_type": "stream",
     "text": [
      "['10.23' '20' 'a' '30']\n",
      "1\n",
      "(4,)\n"
     ]
    }
   ],
   "source": [
    "import numpy as np\n",
    "array1 = np.array([10.23,20,'a',30])\n",
    "print(array1)\n",
    "\n",
    "print(array1.ndim)\n",
    "print(array1.shape)"
   ]
  },
  {
   "cell_type": "code",
   "execution_count": 11,
   "metadata": {},
   "outputs": [
    {
     "name": "stdout",
     "output_type": "stream",
     "text": [
      "2\n",
      "(4, 3)\n",
      "[[78 67 56]\n",
      " [76 56 47]\n",
      " [84 59 60]\n",
      " [67 72 54]]\n",
      "i 4 j  3\n",
      "776\n",
      "84\n"
     ]
    }
   ],
   "source": [
    "# sum the values of array\n",
    "import numpy as np\n",
    "array3 = np.array([[78,67,56], [76,56,47],[84,59,60],[67,72,54]])\n",
    "print(array3.ndim)\n",
    "print(array3.shape)\n",
    "print(array3)\n",
    "a=array3.shape\n",
    "i=a[0]\n",
    "j=a[1]\n",
    "print(\"i\",i, \"j \", j)\n",
    "sum=0\n",
    "for c in range(i):\n",
    "    for x in range(j):\n",
    "        sum=sum+array3[c,x]\n",
    "print(sum)\n",
    "\n",
    "print(array3.max())"
   ]
  },
  {
   "cell_type": "code",
   "execution_count": 12,
   "metadata": {},
   "outputs": [
    {
     "name": "stdout",
     "output_type": "stream",
     "text": [
      "['False', 'None', 'True', 'and', 'as', 'assert', 'async', 'await', 'break', 'class', 'continue', 'def', 'del', 'elif', 'else', 'except', 'finally', 'for', 'from', 'global', 'if', 'import', 'in', 'is', 'lambda', 'nonlocal', 'not', 'or', 'pass', 'raise', 'return', 'try', 'while', 'with', 'yield']\n"
     ]
    }
   ],
   "source": [
    "import keyword\n",
    "print(keyword.kwlist)"
   ]
  },
  {
   "cell_type": "code",
   "execution_count": 13,
   "metadata": {},
   "outputs": [
    {
     "name": "stdout",
     "output_type": "stream",
     "text": [
      "8\n"
     ]
    }
   ],
   "source": [
    "enum=8\n",
    "print(enum)"
   ]
  },
  {
   "cell_type": "code",
   "execution_count": 14,
   "metadata": {},
   "outputs": [
    {
     "ename": "OSError",
     "evalue": "C:/Users/user/a1.txt not found.",
     "output_type": "error",
     "traceback": [
      "\u001b[1;31m---------------------------------------------------------------------------\u001b[0m",
      "\u001b[1;31mOSError\u001b[0m                                   Traceback (most recent call last)",
      "\u001b[1;32m<ipython-input-14-2052fbbecbc7>\u001b[0m in \u001b[0;36m<module>\u001b[1;34m\u001b[0m\n\u001b[1;32m----> 1\u001b[1;33m \u001b[0ms1\u001b[0m\u001b[1;33m,\u001b[0m\u001b[0ms2\u001b[0m\u001b[1;33m,\u001b[0m\u001b[0ms3\u001b[0m\u001b[1;33m,\u001b[0m\u001b[0ms4\u001b[0m \u001b[1;33m=\u001b[0m \u001b[0mnp\u001b[0m\u001b[1;33m.\u001b[0m\u001b[0mloadtxt\u001b[0m\u001b[1;33m(\u001b[0m\u001b[1;34m'C:/Users/user/a1.txt'\u001b[0m\u001b[1;33m,\u001b[0m \u001b[0mskiprows\u001b[0m\u001b[1;33m=\u001b[0m\u001b[1;36m1\u001b[0m\u001b[1;33m,\u001b[0m \u001b[0mdelimiter\u001b[0m\u001b[1;33m=\u001b[0m\u001b[1;34m','\u001b[0m\u001b[1;33m,\u001b[0m\u001b[0munpack\u001b[0m\u001b[1;33m=\u001b[0m\u001b[1;32mTrue\u001b[0m\u001b[1;33m,\u001b[0m\u001b[0mdtype\u001b[0m \u001b[1;33m=\u001b[0m \u001b[0mint\u001b[0m\u001b[1;33m)\u001b[0m\u001b[1;33m\u001b[0m\u001b[1;33m\u001b[0m\u001b[0m\n\u001b[0m\u001b[0;32m      2\u001b[0m \u001b[0mprint\u001b[0m\u001b[1;33m(\u001b[0m\u001b[0ms1\u001b[0m\u001b[1;33m)\u001b[0m\u001b[1;33m\u001b[0m\u001b[1;33m\u001b[0m\u001b[0m\n\u001b[0;32m      3\u001b[0m \u001b[0mprint\u001b[0m\u001b[1;33m(\u001b[0m\u001b[0ms2\u001b[0m\u001b[1;33m)\u001b[0m\u001b[1;33m\u001b[0m\u001b[1;33m\u001b[0m\u001b[0m\n\u001b[0;32m      4\u001b[0m \u001b[0mprint\u001b[0m\u001b[1;33m(\u001b[0m\u001b[0ms3\u001b[0m\u001b[1;33m)\u001b[0m\u001b[1;33m\u001b[0m\u001b[1;33m\u001b[0m\u001b[0m\n\u001b[0;32m      5\u001b[0m \u001b[0mprint\u001b[0m\u001b[1;33m(\u001b[0m\u001b[0ms4\u001b[0m\u001b[1;33m)\u001b[0m\u001b[1;33m\u001b[0m\u001b[1;33m\u001b[0m\u001b[0m\n",
      "\u001b[1;32mD:\\Anaconda-Personal\\lib\\site-packages\\numpy\\lib\\npyio.py\u001b[0m in \u001b[0;36mloadtxt\u001b[1;34m(fname, dtype, comments, delimiter, converters, skiprows, usecols, unpack, ndmin, encoding, max_rows)\u001b[0m\n\u001b[0;32m    959\u001b[0m             \u001b[0mfname\u001b[0m \u001b[1;33m=\u001b[0m \u001b[0mos_fspath\u001b[0m\u001b[1;33m(\u001b[0m\u001b[0mfname\u001b[0m\u001b[1;33m)\u001b[0m\u001b[1;33m\u001b[0m\u001b[1;33m\u001b[0m\u001b[0m\n\u001b[0;32m    960\u001b[0m         \u001b[1;32mif\u001b[0m \u001b[0m_is_string_like\u001b[0m\u001b[1;33m(\u001b[0m\u001b[0mfname\u001b[0m\u001b[1;33m)\u001b[0m\u001b[1;33m:\u001b[0m\u001b[1;33m\u001b[0m\u001b[1;33m\u001b[0m\u001b[0m\n\u001b[1;32m--> 961\u001b[1;33m             \u001b[0mfh\u001b[0m \u001b[1;33m=\u001b[0m \u001b[0mnp\u001b[0m\u001b[1;33m.\u001b[0m\u001b[0mlib\u001b[0m\u001b[1;33m.\u001b[0m\u001b[0m_datasource\u001b[0m\u001b[1;33m.\u001b[0m\u001b[0mopen\u001b[0m\u001b[1;33m(\u001b[0m\u001b[0mfname\u001b[0m\u001b[1;33m,\u001b[0m \u001b[1;34m'rt'\u001b[0m\u001b[1;33m,\u001b[0m \u001b[0mencoding\u001b[0m\u001b[1;33m=\u001b[0m\u001b[0mencoding\u001b[0m\u001b[1;33m)\u001b[0m\u001b[1;33m\u001b[0m\u001b[1;33m\u001b[0m\u001b[0m\n\u001b[0m\u001b[0;32m    962\u001b[0m             \u001b[0mfencoding\u001b[0m \u001b[1;33m=\u001b[0m \u001b[0mgetattr\u001b[0m\u001b[1;33m(\u001b[0m\u001b[0mfh\u001b[0m\u001b[1;33m,\u001b[0m \u001b[1;34m'encoding'\u001b[0m\u001b[1;33m,\u001b[0m \u001b[1;34m'latin1'\u001b[0m\u001b[1;33m)\u001b[0m\u001b[1;33m\u001b[0m\u001b[1;33m\u001b[0m\u001b[0m\n\u001b[0;32m    963\u001b[0m             \u001b[0mfh\u001b[0m \u001b[1;33m=\u001b[0m \u001b[0miter\u001b[0m\u001b[1;33m(\u001b[0m\u001b[0mfh\u001b[0m\u001b[1;33m)\u001b[0m\u001b[1;33m\u001b[0m\u001b[1;33m\u001b[0m\u001b[0m\n",
      "\u001b[1;32mD:\\Anaconda-Personal\\lib\\site-packages\\numpy\\lib\\_datasource.py\u001b[0m in \u001b[0;36mopen\u001b[1;34m(path, mode, destpath, encoding, newline)\u001b[0m\n\u001b[0;32m    193\u001b[0m \u001b[1;33m\u001b[0m\u001b[0m\n\u001b[0;32m    194\u001b[0m     \u001b[0mds\u001b[0m \u001b[1;33m=\u001b[0m \u001b[0mDataSource\u001b[0m\u001b[1;33m(\u001b[0m\u001b[0mdestpath\u001b[0m\u001b[1;33m)\u001b[0m\u001b[1;33m\u001b[0m\u001b[1;33m\u001b[0m\u001b[0m\n\u001b[1;32m--> 195\u001b[1;33m     \u001b[1;32mreturn\u001b[0m \u001b[0mds\u001b[0m\u001b[1;33m.\u001b[0m\u001b[0mopen\u001b[0m\u001b[1;33m(\u001b[0m\u001b[0mpath\u001b[0m\u001b[1;33m,\u001b[0m \u001b[0mmode\u001b[0m\u001b[1;33m,\u001b[0m \u001b[0mencoding\u001b[0m\u001b[1;33m=\u001b[0m\u001b[0mencoding\u001b[0m\u001b[1;33m,\u001b[0m \u001b[0mnewline\u001b[0m\u001b[1;33m=\u001b[0m\u001b[0mnewline\u001b[0m\u001b[1;33m)\u001b[0m\u001b[1;33m\u001b[0m\u001b[1;33m\u001b[0m\u001b[0m\n\u001b[0m\u001b[0;32m    196\u001b[0m \u001b[1;33m\u001b[0m\u001b[0m\n\u001b[0;32m    197\u001b[0m \u001b[1;33m\u001b[0m\u001b[0m\n",
      "\u001b[1;32mD:\\Anaconda-Personal\\lib\\site-packages\\numpy\\lib\\_datasource.py\u001b[0m in \u001b[0;36mopen\u001b[1;34m(self, path, mode, encoding, newline)\u001b[0m\n\u001b[0;32m    533\u001b[0m                                       encoding=encoding, newline=newline)\n\u001b[0;32m    534\u001b[0m         \u001b[1;32melse\u001b[0m\u001b[1;33m:\u001b[0m\u001b[1;33m\u001b[0m\u001b[1;33m\u001b[0m\u001b[0m\n\u001b[1;32m--> 535\u001b[1;33m             \u001b[1;32mraise\u001b[0m \u001b[0mIOError\u001b[0m\u001b[1;33m(\u001b[0m\u001b[1;34m\"%s not found.\"\u001b[0m \u001b[1;33m%\u001b[0m \u001b[0mpath\u001b[0m\u001b[1;33m)\u001b[0m\u001b[1;33m\u001b[0m\u001b[1;33m\u001b[0m\u001b[0m\n\u001b[0m\u001b[0;32m    536\u001b[0m \u001b[1;33m\u001b[0m\u001b[0m\n\u001b[0;32m    537\u001b[0m \u001b[1;33m\u001b[0m\u001b[0m\n",
      "\u001b[1;31mOSError\u001b[0m: C:/Users/user/a1.txt not found."
     ]
    }
   ],
   "source": [
    "s1,s2,s3,s4 = np.loadtxt('C:/Users/user/a1.txt', skiprows=1, delimiter=',',unpack=True,dtype = int)\n",
    "print(s1)\n",
    "print(s2)\n",
    "print(s3)\n",
    "print(s4)\n"
   ]
  },
  {
   "cell_type": "code",
   "execution_count": 15,
   "metadata": {},
   "outputs": [
    {
     "ename": "OSError",
     "evalue": "C:/Users/user/a1.txt not found.",
     "output_type": "error",
     "traceback": [
      "\u001b[1;31m---------------------------------------------------------------------------\u001b[0m",
      "\u001b[1;31mOSError\u001b[0m                                   Traceback (most recent call last)",
      "\u001b[1;32m<ipython-input-15-20cce64e972c>\u001b[0m in \u001b[0;36m<module>\u001b[1;34m\u001b[0m\n\u001b[1;32m----> 1\u001b[1;33m \u001b[0mstudentdata\u001b[0m\u001b[1;33m=\u001b[0m \u001b[0mnp\u001b[0m\u001b[1;33m.\u001b[0m\u001b[0mloadtxt\u001b[0m\u001b[1;33m(\u001b[0m\u001b[1;34m'C:/Users/user/a1.txt'\u001b[0m\u001b[1;33m,\u001b[0m \u001b[0mskiprows\u001b[0m\u001b[1;33m=\u001b[0m\u001b[1;36m1\u001b[0m\u001b[1;33m,\u001b[0m \u001b[0mdelimiter\u001b[0m\u001b[1;33m=\u001b[0m\u001b[1;34m','\u001b[0m\u001b[1;33m,\u001b[0m\u001b[0munpack\u001b[0m\u001b[1;33m=\u001b[0m\u001b[1;32mTrue\u001b[0m\u001b[1;33m,\u001b[0m\u001b[0mdtype\u001b[0m \u001b[1;33m=\u001b[0m \u001b[0mint\u001b[0m\u001b[1;33m)\u001b[0m\u001b[1;33m\u001b[0m\u001b[1;33m\u001b[0m\u001b[0m\n\u001b[0m\u001b[0;32m      2\u001b[0m \u001b[0mnp\u001b[0m\u001b[1;33m.\u001b[0m\u001b[0msavetxt\u001b[0m\u001b[1;33m(\u001b[0m\u001b[1;34m'C:/Users/user/a2.txt'\u001b[0m\u001b[1;33m,\u001b[0m\u001b[0mstudentdata\u001b[0m\u001b[1;33m,\u001b[0m \u001b[0mdelimiter\u001b[0m\u001b[1;33m=\u001b[0m\u001b[1;34m','\u001b[0m\u001b[1;33m,\u001b[0m \u001b[0mfmt\u001b[0m\u001b[1;33m=\u001b[0m\u001b[1;34m'%i'\u001b[0m\u001b[1;33m)\u001b[0m\u001b[1;33m\u001b[0m\u001b[1;33m\u001b[0m\u001b[0m\n",
      "\u001b[1;32mD:\\Anaconda-Personal\\lib\\site-packages\\numpy\\lib\\npyio.py\u001b[0m in \u001b[0;36mloadtxt\u001b[1;34m(fname, dtype, comments, delimiter, converters, skiprows, usecols, unpack, ndmin, encoding, max_rows)\u001b[0m\n\u001b[0;32m    959\u001b[0m             \u001b[0mfname\u001b[0m \u001b[1;33m=\u001b[0m \u001b[0mos_fspath\u001b[0m\u001b[1;33m(\u001b[0m\u001b[0mfname\u001b[0m\u001b[1;33m)\u001b[0m\u001b[1;33m\u001b[0m\u001b[1;33m\u001b[0m\u001b[0m\n\u001b[0;32m    960\u001b[0m         \u001b[1;32mif\u001b[0m \u001b[0m_is_string_like\u001b[0m\u001b[1;33m(\u001b[0m\u001b[0mfname\u001b[0m\u001b[1;33m)\u001b[0m\u001b[1;33m:\u001b[0m\u001b[1;33m\u001b[0m\u001b[1;33m\u001b[0m\u001b[0m\n\u001b[1;32m--> 961\u001b[1;33m             \u001b[0mfh\u001b[0m \u001b[1;33m=\u001b[0m \u001b[0mnp\u001b[0m\u001b[1;33m.\u001b[0m\u001b[0mlib\u001b[0m\u001b[1;33m.\u001b[0m\u001b[0m_datasource\u001b[0m\u001b[1;33m.\u001b[0m\u001b[0mopen\u001b[0m\u001b[1;33m(\u001b[0m\u001b[0mfname\u001b[0m\u001b[1;33m,\u001b[0m \u001b[1;34m'rt'\u001b[0m\u001b[1;33m,\u001b[0m \u001b[0mencoding\u001b[0m\u001b[1;33m=\u001b[0m\u001b[0mencoding\u001b[0m\u001b[1;33m)\u001b[0m\u001b[1;33m\u001b[0m\u001b[1;33m\u001b[0m\u001b[0m\n\u001b[0m\u001b[0;32m    962\u001b[0m             \u001b[0mfencoding\u001b[0m \u001b[1;33m=\u001b[0m \u001b[0mgetattr\u001b[0m\u001b[1;33m(\u001b[0m\u001b[0mfh\u001b[0m\u001b[1;33m,\u001b[0m \u001b[1;34m'encoding'\u001b[0m\u001b[1;33m,\u001b[0m \u001b[1;34m'latin1'\u001b[0m\u001b[1;33m)\u001b[0m\u001b[1;33m\u001b[0m\u001b[1;33m\u001b[0m\u001b[0m\n\u001b[0;32m    963\u001b[0m             \u001b[0mfh\u001b[0m \u001b[1;33m=\u001b[0m \u001b[0miter\u001b[0m\u001b[1;33m(\u001b[0m\u001b[0mfh\u001b[0m\u001b[1;33m)\u001b[0m\u001b[1;33m\u001b[0m\u001b[1;33m\u001b[0m\u001b[0m\n",
      "\u001b[1;32mD:\\Anaconda-Personal\\lib\\site-packages\\numpy\\lib\\_datasource.py\u001b[0m in \u001b[0;36mopen\u001b[1;34m(path, mode, destpath, encoding, newline)\u001b[0m\n\u001b[0;32m    193\u001b[0m \u001b[1;33m\u001b[0m\u001b[0m\n\u001b[0;32m    194\u001b[0m     \u001b[0mds\u001b[0m \u001b[1;33m=\u001b[0m \u001b[0mDataSource\u001b[0m\u001b[1;33m(\u001b[0m\u001b[0mdestpath\u001b[0m\u001b[1;33m)\u001b[0m\u001b[1;33m\u001b[0m\u001b[1;33m\u001b[0m\u001b[0m\n\u001b[1;32m--> 195\u001b[1;33m     \u001b[1;32mreturn\u001b[0m \u001b[0mds\u001b[0m\u001b[1;33m.\u001b[0m\u001b[0mopen\u001b[0m\u001b[1;33m(\u001b[0m\u001b[0mpath\u001b[0m\u001b[1;33m,\u001b[0m \u001b[0mmode\u001b[0m\u001b[1;33m,\u001b[0m \u001b[0mencoding\u001b[0m\u001b[1;33m=\u001b[0m\u001b[0mencoding\u001b[0m\u001b[1;33m,\u001b[0m \u001b[0mnewline\u001b[0m\u001b[1;33m=\u001b[0m\u001b[0mnewline\u001b[0m\u001b[1;33m)\u001b[0m\u001b[1;33m\u001b[0m\u001b[1;33m\u001b[0m\u001b[0m\n\u001b[0m\u001b[0;32m    196\u001b[0m \u001b[1;33m\u001b[0m\u001b[0m\n\u001b[0;32m    197\u001b[0m \u001b[1;33m\u001b[0m\u001b[0m\n",
      "\u001b[1;32mD:\\Anaconda-Personal\\lib\\site-packages\\numpy\\lib\\_datasource.py\u001b[0m in \u001b[0;36mopen\u001b[1;34m(self, path, mode, encoding, newline)\u001b[0m\n\u001b[0;32m    533\u001b[0m                                       encoding=encoding, newline=newline)\n\u001b[0;32m    534\u001b[0m         \u001b[1;32melse\u001b[0m\u001b[1;33m:\u001b[0m\u001b[1;33m\u001b[0m\u001b[1;33m\u001b[0m\u001b[0m\n\u001b[1;32m--> 535\u001b[1;33m             \u001b[1;32mraise\u001b[0m \u001b[0mIOError\u001b[0m\u001b[1;33m(\u001b[0m\u001b[1;34m\"%s not found.\"\u001b[0m \u001b[1;33m%\u001b[0m \u001b[0mpath\u001b[0m\u001b[1;33m)\u001b[0m\u001b[1;33m\u001b[0m\u001b[1;33m\u001b[0m\u001b[0m\n\u001b[0m\u001b[0;32m    536\u001b[0m \u001b[1;33m\u001b[0m\u001b[0m\n\u001b[0;32m    537\u001b[0m \u001b[1;33m\u001b[0m\u001b[0m\n",
      "\u001b[1;31mOSError\u001b[0m: C:/Users/user/a1.txt not found."
     ]
    }
   ],
   "source": [
    "studentdata= np.loadtxt('C:/Users/user/a1.txt', skiprows=1, delimiter=',',unpack=True,dtype = int)\n",
    "np.savetxt('C:/Users/user/a2.txt',studentdata, delimiter=',', fmt='%i')"
   ]
  },
  {
   "cell_type": "code",
   "execution_count": 16,
   "metadata": {},
   "outputs": [
    {
     "name": "stdout",
     "output_type": "stream",
     "text": [
      "0    23000\n",
      "1    34000\n",
      "2    42000\n",
      "3    30000\n",
      "4    40000\n",
      "5    50000\n",
      "dtype: int64\n"
     ]
    }
   ],
   "source": [
    "import pandas as pd\n",
    "series1 = pd.Series([23000,34000,42000,30000,40000,50000])\n",
    "print(series1)\n"
   ]
  },
  {
   "cell_type": "code",
   "execution_count": 17,
   "metadata": {},
   "outputs": [
    {
     "name": "stdout",
     "output_type": "stream",
     "text": [
      "100    23000\n",
      "200    34000\n",
      "300    42000\n",
      "400    30000\n",
      "500    40000\n",
      "600    50000\n",
      "dtype: int64\n",
      "600    50000\n",
      "300    42000\n",
      "dtype: int64\n"
     ]
    }
   ],
   "source": [
    "series1 = pd.Series([23000,34000,42000,30000,40000,50000],index=[100,200,300,400,500,600])\n",
    "print(series1)\n",
    "print(series1[::-3])"
   ]
  },
  {
   "cell_type": "code",
   "execution_count": 18,
   "metadata": {},
   "outputs": [
    {
     "name": "stdout",
     "output_type": "stream",
     "text": [
      "jan      23000\n",
      "feb      34000\n",
      "march    42000\n",
      "april    30000\n",
      "may      40000\n",
      "june     50000\n",
      "dtype: int64\n"
     ]
    }
   ],
   "source": [
    "series1 = pd.Series([23000,34000,42000,30000,40000,50000], index=[\"jan\",\"feb\",\"march\",\"april\",\"may\",\"june\"]) #create a Series\n",
    "print(series1)"
   ]
  },
  {
   "cell_type": "code",
   "execution_count": 19,
   "metadata": {},
   "outputs": [
    {
     "name": "stdout",
     "output_type": "stream",
     "text": [
      "[12000 45000 67000 89000]\n",
      "0     12000\n",
      "4     45000\n",
      "8     67000\n",
      "10    89000\n",
      "dtype: int32\n"
     ]
    }
   ],
   "source": [
    "# Q1 CBSE file a) part \n",
    "import numpy as np\n",
    "import pandas as pd\n",
    "a1=np.array([12000,45000,67000,89000])\n",
    "print(a1)\n",
    "s1=pd.Series(a1, index=[0,4,8,10])\n",
    "print(s1)"
   ]
  },
  {
   "cell_type": "code",
   "execution_count": 20,
   "metadata": {},
   "outputs": [
    {
     "name": "stdout",
     "output_type": "stream",
     "text": [
      "jan      23000\n",
      "feb      35000\n",
      "march    44000\n",
      "april    55000\n",
      "may      67000\n",
      "dtype: int64\n",
      "[23000 35000 44000 55000 67000]\n",
      "5\n",
      "5\n",
      "jan      23000\n",
      "feb      35000\n",
      "march    44000\n",
      "dtype: int64\n",
      "may    67000\n",
      "dtype: int64\n"
     ]
    }
   ],
   "source": [
    "# Q1 CBSE file b) part \n",
    "import numpy as np\n",
    "import pandas as pd\n",
    "a1={\"jan\": 23000,\"feb\": 35000,\"march\": 44000, \"april\": 55000, \"may\":67000}\n",
    "s1=pd.Series(a1)\n",
    "print(s1)\n",
    "print(s1.values)\n",
    "print(s1.size)\n",
    "print(s1.count())\n",
    "print(s1.head(3))\n",
    "print(s1.tail(1))"
   ]
  },
  {
   "cell_type": "code",
   "execution_count": 21,
   "metadata": {},
   "outputs": [
    {
     "name": "stdout",
     "output_type": "stream",
     "text": [
      "NewDelhi\n"
     ]
    }
   ],
   "source": [
    "s1 = pd.Series(['NewDelhi','WashingtonDC', 'London', 'Paris'],index=['India', 'USA', 'UK', 'France'])\n",
    "print(s1['India'])"
   ]
  },
  {
   "cell_type": "code",
   "execution_count": 22,
   "metadata": {},
   "outputs": [
    {
     "data": {
      "text/plain": [
       "USA    WashingtonDC\n",
       "UK           London\n",
       "dtype: object"
      ]
     },
     "execution_count": 22,
     "metadata": {},
     "output_type": "execute_result"
    }
   ],
   "source": [
    "s1 = pd.Series(['NewDelhi', 'WashingtonDC', 'London',\n",
    "'Paris'], index=['India', 'USA', 'UK', 'France'])\n",
    "s1[1:3] #excludes the value at index position 3"
   ]
  },
  {
   "cell_type": "code",
   "execution_count": 23,
   "metadata": {},
   "outputs": [
    {
     "name": "stdout",
     "output_type": "stream",
     "text": [
      "BlueBerries    15\n",
      "Papaya         14\n",
      "Guava          13\n",
      "dtype: int64\n"
     ]
    }
   ],
   "source": [
    "s3= pd.Series([12,13,14,15], index=['apple', 'Guava', 'Papaya', 'BlueBerries'])\n",
    "print(s3[3:0:-1])\n"
   ]
  },
  {
   "cell_type": "code",
   "execution_count": 24,
   "metadata": {},
   "outputs": [
    {
     "data": {
      "text/plain": [
       "USA       WashingtonDC\n",
       "UK              London\n",
       "France           Paris\n",
       "dtype: object"
      ]
     },
     "execution_count": 24,
     "metadata": {},
     "output_type": "execute_result"
    }
   ],
   "source": [
    "s1['USA' : 'France'] #If labelled indexes are used for slicing, then value at the end index label is also included in the output"
   ]
  },
  {
   "cell_type": "code",
   "execution_count": 25,
   "metadata": {},
   "outputs": [
    {
     "ename": "NameError",
     "evalue": "name 'seriesCapCntry' is not defined",
     "output_type": "error",
     "traceback": [
      "\u001b[1;31m---------------------------------------------------------------------------\u001b[0m",
      "\u001b[1;31mNameError\u001b[0m                                 Traceback (most recent call last)",
      "\u001b[1;32m<ipython-input-25-1c3f724a2e87>\u001b[0m in \u001b[0;36m<module>\u001b[1;34m\u001b[0m\n\u001b[1;32m----> 1\u001b[1;33m \u001b[0mprint\u001b[0m\u001b[1;33m(\u001b[0m\u001b[0mseriesCapCntry\u001b[0m\u001b[1;33m[\u001b[0m\u001b[1;36m1\u001b[0m\u001b[1;33m:\u001b[0m\u001b[1;36m3\u001b[0m\u001b[1;33m]\u001b[0m\u001b[1;33m)\u001b[0m\u001b[1;33m\u001b[0m\u001b[1;33m\u001b[0m\u001b[0m\n\u001b[0m\u001b[0;32m      2\u001b[0m \u001b[1;33m\u001b[0m\u001b[0m\n\u001b[0;32m      3\u001b[0m \u001b[0mprint\u001b[0m\u001b[1;33m(\u001b[0m\u001b[0mseriesCapCntry\u001b[0m\u001b[1;33m[\u001b[0m \u001b[1;33m:\u001b[0m \u001b[1;33m:\u001b[0m \u001b[1;33m-\u001b[0m\u001b[1;36m1\u001b[0m\u001b[1;33m]\u001b[0m\u001b[1;33m)\u001b[0m \u001b[1;31m# it will print reverse order\u001b[0m\u001b[1;33m\u001b[0m\u001b[1;33m\u001b[0m\u001b[0m\n",
      "\u001b[1;31mNameError\u001b[0m: name 'seriesCapCntry' is not defined"
     ]
    }
   ],
   "source": [
    "print(seriesCapCntry[1:3])\n",
    "\n",
    "print(seriesCapCntry[ : : -1]) # it will print reverse order\n"
   ]
  },
  {
   "cell_type": "code",
   "execution_count": 26,
   "metadata": {},
   "outputs": [
    {
     "name": "stdout",
     "output_type": "stream",
     "text": [
      "a    410\n",
      "b    420\n",
      "c    413\n",
      "d    415\n",
      "e    417\n",
      "f    419\n",
      "g    421\n",
      "h    423\n",
      "i    425\n",
      "j    427\n",
      "dtype: int32\n",
      "[10 11 12 13 14 15 16 17 18 19]\n",
      "10\n",
      "10\n",
      "a    10\n",
      "b    11\n",
      "c    12\n",
      "dtype: int32\n",
      "f    15\n",
      "g    16\n",
      "h    17\n",
      "i    18\n",
      "j    19\n",
      "dtype: int32\n"
     ]
    }
   ],
   "source": [
    "import numpy as np\n",
    "import pandas as pd\n",
    "s1 = pd.Series(np.arange(10,20,1),index = ['a', 'b', 'c', 'd', 'e', 'f','g','h','i', 'j'])\n",
    "s2=pd.Series(np.arange(400,410,1),index = ['a', 'c', 'd', 'e', 'f','g','h','i', 'j','b'])\n",
    "print(s1+s2)\n",
    "# print(s1)\n",
    "# s1[1:3] = 50 #use slicing to modify the values of series\n",
    "# print(s1)\n",
    "# s1['a': 'c']=250\n",
    "print(s1.values)\n",
    "print(s1.size)\n",
    "print(s1.count())\n",
    "print(s1.head(3))\n",
    "print(s1.tail())"
   ]
  },
  {
   "cell_type": "code",
   "execution_count": 27,
   "metadata": {},
   "outputs": [
    {
     "name": "stdout",
     "output_type": "stream",
     "text": [
      "[10 12 14 16 18]\n"
     ]
    }
   ],
   "source": [
    "import numpy as np\n",
    "a=np.arange(10,20,2)\n",
    "print(a)"
   ]
  },
  {
   "cell_type": "code",
   "execution_count": 28,
   "metadata": {},
   "outputs": [
    {
     "name": "stdout",
     "output_type": "stream",
     "text": [
      "True\n",
      "False\n"
     ]
    },
    {
     "name": "stderr",
     "output_type": "stream",
     "text": [
      "<ipython-input-28-f8d71a7228d8>:1: DeprecationWarning: The default dtype for empty Series will be 'object' instead of 'float64' in a future version. Specify a dtype explicitly to silence this warning.\n",
      "  s2=pd.Series()\n"
     ]
    }
   ],
   "source": [
    "s2=pd.Series()\n",
    "print(s2.empty)\n",
    "print(s1.empty)"
   ]
  },
  {
   "cell_type": "code",
   "execution_count": 29,
   "metadata": {},
   "outputs": [
    {
     "name": "stdout",
     "output_type": "stream",
     "text": [
      "I1\n",
      "a    10\n",
      "b    11\n",
      "c    12\n",
      "d    13\n",
      "e    14\n",
      "f    15\n",
      "g    16\n",
      "h    17\n",
      "i    18\n",
      "j    19\n",
      "Name: C1, dtype: int32\n"
     ]
    }
   ],
   "source": [
    "s1.name=\"C1\"\n",
    "s1.index.name=\"I1\"\n",
    "print(s1)"
   ]
  },
  {
   "cell_type": "code",
   "execution_count": 30,
   "metadata": {},
   "outputs": [
    {
     "name": "stdout",
     "output_type": "stream",
     "text": [
      "0    40\n",
      "1    41\n",
      "2    42\n",
      "3    43\n",
      "4    44\n",
      "5    45\n",
      "6    46\n",
      "7    47\n",
      "8    48\n",
      "9    49\n",
      "dtype: int32\n",
      "0    40\n",
      "1    41\n",
      "2    42\n",
      "3    43\n",
      "4    44\n",
      "5    45\n",
      "dtype: int32\n",
      "10\n",
      "5    45\n",
      "6    46\n",
      "7    47\n",
      "8    48\n",
      "9    49\n",
      "dtype: int32\n"
     ]
    }
   ],
   "source": [
    "import pandas as pd\n",
    "import numpy as np\n",
    "series1=pd.Series(np.arange( 40,50, 1))\n",
    "print(series1)\n",
    "print(series1.head(6))\n",
    "print(series1.count())\n",
    "print(series1.tail())"
   ]
  },
  {
   "cell_type": "code",
   "execution_count": 31,
   "metadata": {},
   "outputs": [
    {
     "name": "stdout",
     "output_type": "stream",
     "text": [
      "name     Ramesh\n",
      "age          56\n",
      "city     Jaipur\n",
      "state     India\n",
      "dtype: object\n"
     ]
    }
   ],
   "source": [
    "import pandas as pd\n",
    "import numpy as np\n",
    "a1=np.array([23,56,78,90])\n",
    "s1=pd.Series(a1,index=['a','c','b','e'])\n",
    "s2=pd.Series([201,403,234,323],index=[\"a\",\"b\",\"c\",\"d\"])\n",
    "d1={\"name\":\"Ramesh\", \"age\": 56, \"city\":\"Jaipur\",\"state\": \"India\"}\n",
    "s3=pd.Series(d1)\n",
    "print(s3)\n"
   ]
  },
  {
   "cell_type": "code",
   "execution_count": 32,
   "metadata": {},
   "outputs": [
    {
     "name": "stdout",
     "output_type": "stream",
     "text": [
      "a   -0.10\n",
      "b     NaN\n",
      "c   -0.06\n",
      "d     NaN\n",
      "e    0.05\n",
      "y     NaN\n",
      "z     NaN\n",
      "dtype: float64\n"
     ]
    },
    {
     "data": {
      "text/plain": [
       "a   -0.10\n",
       "b    2.00\n",
       "c   -0.06\n",
       "d    4.00\n",
       "e    0.05\n",
       "y    0.05\n",
       "z    0.10\n",
       "dtype: float64"
      ]
     },
     "execution_count": 32,
     "metadata": {},
     "output_type": "execute_result"
    }
   ],
   "source": [
    "s1 = pd.Series([1,2,3,4,5], index =['a', 'b', 'c', 'd', 'e'])\n",
    "s2 = pd.Series([10,20,-10,-50,100],index = ['z', 'y', 'a', 'c', 'e'])\n",
    "# print(s1)\n",
    "# print(s2)\n",
    "print(s1/s2)\n",
    "s1.div(s2, fill_value=1)\n"
   ]
  },
  {
   "cell_type": "code",
   "execution_count": 33,
   "metadata": {},
   "outputs": [
    {
     "name": "stdout",
     "output_type": "stream",
     "text": [
      "Empty DataFrame\n",
      "Columns: []\n",
      "Index: []\n"
     ]
    }
   ],
   "source": [
    "import pandas as pd\n",
    "import numpy as np\n",
    "d1 = pd.DataFrame()\n",
    "print(d1)"
   ]
  },
  {
   "cell_type": "code",
   "execution_count": 34,
   "metadata": {},
   "outputs": [
    {
     "name": "stdout",
     "output_type": "stream",
     "text": [
      "  Rollno    name Age Salary\n",
      "0    101  sheena  35  40000\n",
      "1    102    Amit  33  14000\n",
      "2    103   Tejas  44  15000\n"
     ]
    }
   ],
   "source": [
    "# creating dataframe using array\n",
    "import numpy as np\n",
    "a1 = np.array([[101,'sheena',35,40000],[102,'Amit',33,14000],[103,'Tejas',44,15000]])\n",
    "d1 = pd.DataFrame(a1, columns=[ 'Rollno', 'name', 'Age', 'Salary'])\n",
    "print(d1)"
   ]
  },
  {
   "cell_type": "code",
   "execution_count": 35,
   "metadata": {},
   "outputs": [
    {
     "name": "stdout",
     "output_type": "stream",
     "text": [
      "  Rollno    name Age Salary\n",
      "0    101  sheena  35  40000\n",
      "1    102    Amit  33  14000\n",
      "2    103   Tejas  44  15000\n"
     ]
    }
   ],
   "source": [
    "# creating dataframe using array\n",
    "import numpy as np\n",
    "a1 = np.array([101,'sheena',35,40000])\n",
    "a2 = np.array([102,'Amit',33,14000])\n",
    "a3 = np.array([103,'Tejas',44,15000])\n",
    "d1 = pd.DataFrame([a1, a2,a3], columns=[ 'Rollno', 'name', 'Age', 'Salary'])\n",
    "print(d1)"
   ]
  },
  {
   "cell_type": "code",
   "execution_count": 36,
   "metadata": {},
   "outputs": [
    {
     "name": "stdout",
     "output_type": "stream",
     "text": [
      "   Rollno    name  Age  Salary\n",
      "0     101  sheena   35   40000\n",
      "1     102    Amit   33   14000\n",
      "2     103   Tejas   44   15000\n"
     ]
    }
   ],
   "source": [
    "# creating dataframe using list\n",
    "import numpy as np\n",
    "import pandas as pd\n",
    "a1 = [101,'sheena',35,40000]\n",
    "a2 = [102,'Amit',33,14000]\n",
    "a3 = [103,'Tejas',44,15000]\n",
    "d1 = pd.DataFrame([a1, a2,a3], columns=[ 'Rollno', 'name', 'Age', 'Salary'])\n",
    "print(d1)"
   ]
  },
  {
   "cell_type": "code",
   "execution_count": 37,
   "metadata": {},
   "outputs": [
    {
     "name": "stdout",
     "output_type": "stream",
     "text": [
      "         Tarun  Babita  Chetna\n",
      "hindi       70      80      81\n",
      "english     56      79      61\n",
      "maths       76      89      71\n"
     ]
    }
   ],
   "source": [
    "# creating dataframe using dictionary inside list\n",
    "import pandas as pd\n",
    "import numpy as np\n",
    "ld = [{'Tarun':70,'Babita':80,'Chetna':81},{'Tarun':56, 'Babita':79,'Chetna':61},{'Tarun':76, 'Babita':89,'Chetna':71}]\n",
    "d1=pd.DataFrame(ld,index=['hindi','english','maths'])\n",
    "print(d1)"
   ]
  },
  {
   "cell_type": "code",
   "execution_count": 38,
   "metadata": {},
   "outputs": [],
   "source": [
    "# create a dataframe of the structure \n",
    "#     prodname    price   discount \n",
    "# 401  brush      158      45 \n",
    "# 402  toothpaste  78      20\n",
    "# 403  soap        74      15\n",
    "# 1. add a column city ['jaipur','alwar','kota']\n",
    "# 2. add a row  404  tea 345  54\n",
    "# 3. drop a column discount\n",
    "#4. Rename the index   401- pr401\n",
    "#5. rename the columns \n"
   ]
  },
  {
   "cell_type": "code",
   "execution_count": 39,
   "metadata": {},
   "outputs": [
    {
     "name": "stdout",
     "output_type": "stream",
     "text": [
      "       prodname  price  discount    city\n",
      "401       brush    158        45  jaipur\n",
      "402  toothpaste     78        20   alwar\n",
      "403        soap     74        15    kota\n",
      "404         tea    345        54   surat\n",
      "       prodname  price  discount    city\n",
      "401       brush    158        45  jaipur\n",
      "402  toothpaste     78        20   alwar\n",
      "403        soap     74        15    kota\n"
     ]
    }
   ],
   "source": [
    "import pandas as pd\n",
    "ld = [{'prodname':'brush','price':158,'discount':45},{'prodname':'toothpaste','price':78,'discount':20},{'prodname':'soap','price':74,'discount':15}]\n",
    "d1=pd.DataFrame(ld,index=['401','402','403'])\n",
    "d1['city']=['jaipur','alwar','kota']  # city is added as column\n",
    "d1.loc['404']=['tea',345,54,'surat']   # row is added\n",
    "# d2=d1.drop(['discount'],axis=1)\n",
    "d2=d1.drop(['404'],axis=0)\n",
    "d3=d2.rename({'401':'pr401','402': 'pr402','403': 'pr403','404': 'pr404'},axis=0)\n",
    "d4=d3.rename({'prodname':'prname','price': 'prodprice','city': 'prodcity'},axis=1)\n",
    "print(d1)\n",
    "print(d2)"
   ]
  },
  {
   "cell_type": "code",
   "execution_count": 40,
   "metadata": {},
   "outputs": [
    {
     "name": "stdout",
     "output_type": "stream",
     "text": [
      "    State  GArea      VDF\n",
      "1   Assam  78438  2797.00\n",
      "2   Delhi   1483     6.72\n",
      "3  Kerala  38852  1663.00\n"
     ]
    }
   ],
   "source": [
    "d1= {'State': ['Assam', 'Delhi','Kerala'],'GArea': [78438, 1483, 38852] ,'VDF' : [2797, 6.72,1663]}\n",
    "df1= pd.DataFrame(d1,index=[1,2,3])\n",
    "print(df1)"
   ]
  },
  {
   "cell_type": "code",
   "execution_count": 41,
   "metadata": {},
   "outputs": [
    {
     "name": "stdout",
     "output_type": "stream",
     "text": [
      "      a    b     c    d      e     z     y\n",
      "0   1.0  2.0   3.0  4.0    5.0   NaN   NaN\n",
      "1 -10.0  NaN -50.0  NaN  100.0  10.0  20.0\n"
     ]
    }
   ],
   "source": [
    "s1 = pd.Series([1,2,3,4,5], index =['a', 'b', 'c', 'd', 'e'])\n",
    "s2 = pd.Series([10,20,-10,-50,100],index = ['z', 'y', 'a', 'c', 'e'])\n",
    "df2=pd.DataFrame([s1,s2])\n",
    "print(df2)"
   ]
  },
  {
   "cell_type": "code",
   "execution_count": 42,
   "metadata": {
    "scrolled": true
   },
   "outputs": [
    {
     "name": "stdout",
     "output_type": "stream",
     "text": [
      "         Arnab  Ramit  Samridhi  Riya  Mallika  Preeti\n",
      "Maths       90     92        89    81       94      89\n",
      "Science     91     81        91    71       95      78\n",
      "Hindi       97     96        88    67       99      76\n",
      "english     78     56        45    66       63      78\n"
     ]
    }
   ],
   "source": [
    "RS={ 'Arnab': pd.Series([90, 91, 97],index=['Maths','Science','Hindi']),\n",
    "'Ramit': pd.Series([92, 81, 96],index=['Maths','Science','Hindi']),\n",
    "'Samridhi': pd.Series([89, 91, 88], index=['Maths','Science','Hindi']),\n",
    "'Riya': pd.Series([81, 71, 67], index=['Maths','Science','Hindi']),\n",
    "'Mallika': pd.Series([94, 95, 99],index=['Maths','Science','Hindi'])}\n",
    "df3=pd.DataFrame(RS)\n",
    "df3['Preeti']=[89,78,76]  # add column to dataframe\n",
    "df3.loc['english']= [78,56,45,66,63,78]   # add row to dataframe\n",
    "print(df3)"
   ]
  },
  {
   "cell_type": "code",
   "execution_count": 43,
   "metadata": {},
   "outputs": [
    {
     "name": "stdout",
     "output_type": "stream",
     "text": [
      "         Arnab  Ramit  Samridhi  Riya  Mallika  Preeti\n",
      "Maths       90     92        89    81       94      89\n",
      "Science     91     81        91    71       95      78\n",
      "Hindi       97     96        88    67       99      76\n"
     ]
    }
   ],
   "source": [
    "print(df3.loc['Maths':'Hindi'])\n"
   ]
  },
  {
   "cell_type": "code",
   "execution_count": 44,
   "metadata": {},
   "outputs": [
    {
     "name": "stdout",
     "output_type": "stream",
     "text": [
      "         Arnab  Ramit  Samridhi  Riya  Mallika  Preeti\n",
      "Maths       90     92        89    81       94      89\n",
      "Science     91     81        91    71       95      78\n"
     ]
    }
   ],
   "source": [
    "print(df3[0:2])"
   ]
  },
  {
   "cell_type": "code",
   "execution_count": 45,
   "metadata": {},
   "outputs": [
    {
     "name": "stdout",
     "output_type": "stream",
     "text": [
      "         Arnab  Ramit  Samridhi  Riya  Mallika  Preeti\n",
      "Maths        0      0         0     0        0       0\n",
      "Science      0      0         0     0        0       0\n",
      "Hindi        0      0         0     0        0       0\n",
      "english      0      0         0     0        0       0\n"
     ]
    }
   ],
   "source": [
    "df3[: ] = 0\n",
    "print(df3)"
   ]
  },
  {
   "cell_type": "code",
   "execution_count": 46,
   "metadata": {},
   "outputs": [
    {
     "name": "stdout",
     "output_type": "stream",
     "text": [
      "         Arnab  Ramit  Samridhi  Riya  Mallika\n",
      "Maths       90     92        89    81       94\n",
      "Science     91     81        91    71       95\n",
      "Hindi       97     96        88    67       99\n",
      "         Arnab  Ramit  Samridhi  Riya  Mallika\n",
      "Maths       95     80        89    81       94\n",
      "Science     95     80         0     0        0\n",
      "Hindi       95     80        88    67       99\n"
     ]
    }
   ],
   "source": [
    "RS={ 'Arnab': pd.Series([90, 91, 97],index=['Maths','Science','Hindi']),\n",
    "'Ramit': pd.Series([92, 81, 96],index=['Maths','Science','Hindi']),\n",
    "'Samridhi': pd.Series([89, 91, 88], index=['Maths','Science','Hindi']),\n",
    "'Riya': pd.Series([81, 71, 67], index=['Maths','Science','Hindi']),\n",
    "'Mallika': pd.Series([94, 95, 99],index=['Maths','Science','Hindi'])}\n",
    "df3=pd.DataFrame(RS)\n",
    "print(df3)\n",
    "df3.loc['Science']=0\n",
    "df3['Ramit']=80\n",
    "df3['Arnab']=95\n",
    "print(df3)"
   ]
  },
  {
   "cell_type": "code",
   "execution_count": 47,
   "metadata": {},
   "outputs": [
    {
     "name": "stdout",
     "output_type": "stream",
     "text": [
      "         Arnab  Ramit  Samridhi  Riya  Mallika\n",
      "Maths       90     92        89    81       94\n",
      "Science     91     81        91    71       95\n",
      "Hindi       97     96        88    67       99\n"
     ]
    }
   ],
   "source": [
    "RS={ 'Arnab': pd.Series([90, 91, 97],index=['Maths','Science','Hindi']),\n",
    "'Ramit': pd.Series([92, 81, 96],index=['Maths','Science','Hindi']),\n",
    "'Samridhi': pd.Series([89, 91, 88], index=['Maths','Science','Hindi']),\n",
    "'Riya': pd.Series([81, 71, 67], index=['Maths','Science','Hindi']),\n",
    "'Mallika': pd.Series([94, 95, 99],index=['Maths','Science','Hindi'])}\n",
    "df3=pd.DataFrame(RS)\n",
    "print(df3)\n",
    "# df3 = df3.drop('Science',axis=0)\n",
    "# print(df3)"
   ]
  },
  {
   "cell_type": "code",
   "execution_count": 48,
   "metadata": {},
   "outputs": [
    {
     "name": "stdout",
     "output_type": "stream",
     "text": [
      "         Arnab  Ramit  Riya  Mallika\n",
      "Maths       90     92    81       94\n",
      "Science     91     81    71       95\n",
      "Hindi       97     96    67       99\n"
     ]
    }
   ],
   "source": [
    "df3= df3.drop(['Samridhi'], axis=1)\n",
    "print(df3)"
   ]
  },
  {
   "cell_type": "code",
   "execution_count": 49,
   "metadata": {},
   "outputs": [
    {
     "name": "stdout",
     "output_type": "stream",
     "text": [
      "         Arnab  Ramit  Riya  Mallika\n",
      "Maths       90     92    81       94\n",
      "Science     91     81    71       95\n"
     ]
    }
   ],
   "source": [
    "df3=df3.drop('Hindi', axis=0)\n",
    "print(df3)"
   ]
  },
  {
   "cell_type": "code",
   "execution_count": 50,
   "metadata": {},
   "outputs": [
    {
     "name": "stdout",
     "output_type": "stream",
     "text": [
      "         Arnab  Ramit  Samridhi  Riya  Mallika\n",
      "Maths       90     92        89    81       94\n",
      "Science     91     81        91    71       95\n",
      "English     97     96        88    67       99\n",
      "Hindi       78     89        90    76       89\n",
      "      Arnab  Ramit  Samridhi  Riya  Mallika\n",
      "Sub1     90     92        89    81       94\n",
      "Sub2     91     81        91    71       95\n",
      "Sub3     97     96        88    67       99\n",
      "Sub4     78     89        90    76       89\n"
     ]
    }
   ],
   "source": [
    "RS={ 'Arnab': pd.Series([90, 91, 97,78],index=['Maths','Science','English','Hindi']),\n",
    "'Ramit': pd.Series([92, 81, 96,89],index=['Maths','Science','English','Hindi']),\n",
    "'Samridhi': pd.Series([89, 91, 88,90], index=['Maths','Science','English','Hindi']),\n",
    "'Riya': pd.Series([81, 71, 67,76], index=['Maths','Science','English','Hindi']),\n",
    "'Mallika': pd.Series([94, 95, 99,89],index=['Maths','Science','English','Hindi'])}\n",
    "df3=pd.DataFrame(RS)\n",
    "print(df3)\n",
    "df3=df3.rename({'Maths':'Sub1','Science':'Sub2','English':'Sub3','Hindi':'Sub4'}, axis=0)  #index\n",
    "print(df3)"
   ]
  },
  {
   "cell_type": "code",
   "execution_count": 51,
   "metadata": {},
   "outputs": [
    {
     "name": "stdout",
     "output_type": "stream",
     "text": [
      "      Student1  Ramit  Samridhi  Riya  Mallika\n",
      "Sub1        90     92        89    81       94\n",
      "Sub2        91     81        91    71       95\n",
      "Sub3        97     96        88    67       99\n",
      "Sub4        78     89        90    76       89\n"
     ]
    }
   ],
   "source": [
    "df3=df3.rename({'Arnab':'Student1'},axis=1) # columns\n",
    "print(df3)"
   ]
  },
  {
   "cell_type": "code",
   "execution_count": 52,
   "metadata": {},
   "outputs": [
    {
     "name": "stdout",
     "output_type": "stream",
     "text": [
      "Student1    91\n",
      "Ramit       81\n",
      "Samridhi    91\n",
      "Riya        71\n",
      "Mallika     95\n",
      "Name: Sub2, dtype: int64\n",
      "Sub1    92\n",
      "Sub2    81\n",
      "Sub3    96\n",
      "Sub4    89\n",
      "Name: Ramit, dtype: int64\n"
     ]
    }
   ],
   "source": [
    "print(df3.loc['Sub2'])\n",
    "print(df3.loc[:,'Ramit'])\n"
   ]
  },
  {
   "cell_type": "code",
   "execution_count": 53,
   "metadata": {},
   "outputs": [
    {
     "name": "stdout",
     "output_type": "stream",
     "text": [
      "         Arnab  Ramit  Samridhi  Riya  Mallika\n",
      "Maths       90     92        89    81       94\n",
      "Science     91     81        91    71       95\n",
      "Hindi       97     96        88    67       99\n",
      "         Arnab  Ramit  Samridhi  Riya  Mallika\n",
      "Science     91     81        91    71       95\n",
      "Hindi       97     96        88    67       99\n"
     ]
    }
   ],
   "source": [
    "RS={ 'Arnab': pd.Series([90, 91, 97],index=['Maths','Science','Hindi']),\n",
    "'Ramit': pd.Series([92, 81, 96],index=['Maths','Science','Hindi']),\n",
    "'Samridhi': pd.Series([89, 91, 88], index=['Maths','Science','Hindi']),\n",
    "'Riya': pd.Series([81, 71, 67], index=['Maths','Science','Hindi']),\n",
    "'Mallika': pd.Series([94, 95, 99],index=['Maths','Science','Hindi'])}\n",
    "df3=pd.DataFrame(RS)\n",
    "print(df3)\n",
    "print(df3.loc[df3['Science', 'Hindi']])\n"
   ]
  },
  {
   "cell_type": "code",
   "execution_count": 54,
   "metadata": {},
   "outputs": [
    {
     "name": "stdout",
     "output_type": "stream",
     "text": [
      "Arnab       False\n",
      "Ramit        True\n",
      "Samridhi    False\n",
      "Riya        False\n",
      "Mallika      True\n",
      "Name: Maths, dtype: bool\n",
      "Arnab        True\n",
      "Ramit        True\n",
      "Samridhi     True\n",
      "Riya        False\n",
      "Mallika      True\n",
      "Name: Science, dtype: bool\n",
      "Maths      True\n",
      "Science    True\n",
      "Hindi      True\n",
      "Name: Ramit, dtype: bool\n",
      "Maths      True\n",
      "Science    True\n",
      "Hindi      True\n",
      "Name: Ramit, dtype: bool\n"
     ]
    }
   ],
   "source": [
    "print(df3.loc['Maths'] > 90)\n",
    "print(df3.loc['Science'] > 80)\n",
    "print(df3.loc[:,'Ramit'] >80 )\n",
    "print(df3['Ramit'] >80 )"
   ]
  },
  {
   "cell_type": "code",
   "execution_count": 55,
   "metadata": {},
   "outputs": [
    {
     "name": "stdout",
     "output_type": "stream",
     "text": [
      "    0\n",
      "0  10\n",
      "1  20\n",
      "2  30\n",
      "3  40\n",
      "4  50\n",
      "5  60\n"
     ]
    }
   ],
   "source": [
    "import pandas as pd\n",
    "df4=pd.DataFrame([10,20,30,40,50])\n",
    "df4.loc[5]=60\n",
    "print(df4)"
   ]
  },
  {
   "cell_type": "code",
   "execution_count": 56,
   "metadata": {},
   "outputs": [
    {
     "name": "stdout",
     "output_type": "stream",
     "text": [
      "         Arnab  Ramit  Samridhi  Riya\n",
      "Maths       90     92        89    81\n",
      "Science     91     81        91    71\n"
     ]
    }
   ],
   "source": [
    "print(df3.loc['Maths': 'Science', 'Arnab':'Riya'])"
   ]
  },
  {
   "cell_type": "code",
   "execution_count": 57,
   "metadata": {},
   "outputs": [
    {
     "name": "stdout",
     "output_type": "stream",
     "text": [
      "         Arnab  Ramit  Samridhi  Riya  Mallika\n",
      "Maths       90     92        89    81       94\n",
      "Science     91     81        91    71       95\n",
      "Hindi       97     96        88    67       99\n",
      "       Arnab  Ramit  Samridhi  Riya  Mallika\n",
      "Maths     90     92        89    81       94\n",
      "Hindi     97     96        88    67       99\n",
      "         Arnab  Ramit  Samridhi  Riya  Mallika\n",
      "Maths       90     92        89    81       94\n",
      "Science     91     81        91    71       95\n"
     ]
    }
   ],
   "source": [
    "print(df3)\n",
    "print(df3.loc[[True, False, True]])\n",
    "print(df3.loc[[True,True, False]])"
   ]
  },
  {
   "cell_type": "code",
   "execution_count": 58,
   "metadata": {},
   "outputs": [
    {
     "name": "stdout",
     "output_type": "stream",
     "text": [
      "    C1   C2   C3\n",
      "R1   1  2.0  3.0\n",
      "R2   4  5.0  NaN\n",
      "R3   6  NaN  NaN\n",
      "    C2    C5\n",
      "R4  10  20.0\n",
      "R2  30   NaN\n",
      "R5  40  50.0\n"
     ]
    }
   ],
   "source": [
    "df1=pd.DataFrame([[1, 2, 3], [4, 5], [6]], columns=['C1', 'C2', 'C3'], index=['R1','R2', 'R3'])\n",
    "df2=pd.DataFrame([[10, 20], [30], [40,50]], columns=['C2', 'C5'], index=['R4', 'R2','R5'])\n",
    "print(df1)\n",
    "print(df2)"
   ]
  },
  {
   "cell_type": "code",
   "execution_count": 59,
   "metadata": {},
   "outputs": [
    {
     "name": "stdout",
     "output_type": "stream",
     "text": [
      "     C1    C2   C3    C5\n",
      "R1  1.0   2.0  3.0   NaN\n",
      "R2  4.0   5.0  NaN   NaN\n",
      "R3  6.0   NaN  NaN   NaN\n",
      "R4  NaN  10.0  NaN  20.0\n",
      "R2  NaN  30.0  NaN   NaN\n",
      "R5  NaN  40.0  NaN  50.0\n"
     ]
    }
   ],
   "source": [
    "print(df1.append(df2, sort='True'))\n"
   ]
  },
  {
   "cell_type": "code",
   "execution_count": 60,
   "metadata": {},
   "outputs": [
    {
     "name": "stdout",
     "output_type": "stream",
     "text": [
      "    C1    C2   C3    C5\n",
      "0  1.0   2.0  3.0   NaN\n",
      "1  4.0   5.0  NaN   NaN\n",
      "2  6.0   NaN  NaN   NaN\n",
      "3  NaN  10.0  NaN  20.0\n",
      "4  NaN  30.0  NaN   NaN\n",
      "5  NaN  40.0  NaN  50.0\n"
     ]
    }
   ],
   "source": [
    "print(df1.append(df2, ignore_index ='False'))"
   ]
  },
  {
   "cell_type": "code",
   "execution_count": 61,
   "metadata": {},
   "outputs": [
    {
     "name": "stdout",
     "output_type": "stream",
     "text": [
      "                 Assam  Kerala    Delhi\n",
      "GeoArea          78438   38852  1483.00\n",
      "VeryDense         2797    1663     6.72\n",
      "ModeratelyDense  10192    9407    56.24\n",
      "OpenForest       15116    9251   129.45\n",
      "Index(['GeoArea', 'VeryDense', 'ModeratelyDense', 'OpenForest'], dtype='object')\n",
      "Index(['Assam', 'Kerala', 'Delhi'], dtype='object')\n",
      "Assam       int64\n",
      "Kerala      int64\n",
      "Delhi     float64\n",
      "dtype: object\n",
      "[[7.8438e+04 3.8852e+04 1.4830e+03]\n",
      " [2.7970e+03 1.6630e+03 6.7200e+00]\n",
      " [1.0192e+04 9.4070e+03 5.6240e+01]\n",
      " [1.5116e+04 9.2510e+03 1.2945e+02]]\n",
      "(4, 3)\n",
      "12\n",
      "        GeoArea  VeryDense  ModeratelyDense  OpenForest\n",
      "Assam   78438.0    2797.00         10192.00    15116.00\n",
      "Kerala  38852.0    1663.00          9407.00     9251.00\n",
      "Delhi    1483.0       6.72            56.24      129.45\n"
     ]
    }
   ],
   "source": [
    "import numpy as np\n",
    "import pandas as pd\n",
    "F1 = {'Assam' :pd.Series([78438, 2797,10192, 15116], index = ['GeoArea', 'VeryDense','ModeratelyDense', 'OpenForest']),'Kerala' :pd.Series([ 38852, 1663, 9407, 9251], index = ['GeoArea' ,'VeryDense',\n",
    "'ModeratelyDense', 'OpenForest']),'Delhi' :pd.Series([1483, 6.72, 56.24,129.45], index = ['GeoArea', 'VeryDense',\n",
    "'ModeratelyDense', 'OpenForest'])}\n",
    "df4 = pd.DataFrame(F1)\n",
    "print(df4)\n",
    "print(df4.index)\n",
    "print(df4.columns)\n",
    "print(df4.dtypes)\n",
    "print(df4.values)\n",
    "print(df4.shape)\n",
    "print(df4.size)\n",
    "print(df4.T)"
   ]
  },
  {
   "cell_type": "code",
   "execution_count": 62,
   "metadata": {},
   "outputs": [
    {
     "name": "stdout",
     "output_type": "stream",
     "text": [
      "         Assam  Kerala   Delhi\n",
      "GeoArea  78438   38852  1483.0\n",
      "            Assam  Kerala   Delhi\n",
      "OpenForest  15116    9251  129.45\n",
      "False\n",
      "Empty DataFrame\n",
      "Columns: []\n",
      "Index: []\n",
      "True\n"
     ]
    }
   ],
   "source": [
    "print(df4.head(1))\n",
    "print(df4.tail(1))\n",
    "print(df4.empty)\n",
    "df5=pd.DataFrame()\n",
    "print(df5)\n",
    "print(df5.empty)"
   ]
  },
  {
   "cell_type": "code",
   "execution_count": 63,
   "metadata": {},
   "outputs": [
    {
     "name": "stdout",
     "output_type": "stream",
     "text": [
      "    first_name  last_name                   company_name  \\\n",
      "0        James       Butt              Benton, John B Jr   \n",
      "1    Josephine    Darakjy          Chanay, Jeffrey A Esq   \n",
      "2          Art     Venere            Chemel, James L Cpa   \n",
      "3        Lenna   Paprocki         Feltz Printing Service   \n",
      "4      Donette     Foller            Printing Dimensions   \n",
      "..         ...        ...                            ...   \n",
      "495    Brittni  Gillaspie                    Inner Label   \n",
      "496    Raylene      Kampa                     Hermar Inc   \n",
      "497        Flo   Bookamer   Simonton Howe & Schneider Pc   \n",
      "498       Jani      Biddy  Warehouse Office & Paper Prod   \n",
      "499   Chauncey     Motley     Affiliated With Travelodge   \n",
      "\n",
      "                  address         city      county state    zip        phone1  \\\n",
      "0      6649 N Blue Gum St  New Orleans     Orleans    LA  70116  504-621-8927   \n",
      "1     4 B Blue Ridge Blvd     Brighton  Livingston    MI  48116  810-292-9388   \n",
      "2    8 W Cerritos Ave #54   Bridgeport  Gloucester    NJ   8014  856-636-8749   \n",
      "3             639 Main St    Anchorage   Anchorage    AK  99501  907-385-4412   \n",
      "4            34 Center St     Hamilton      Butler    OH  45011  513-570-1893   \n",
      "..                    ...          ...         ...   ...    ...           ...   \n",
      "495            67 Rv Cent        Boise         Ada    ID  83709  208-709-1235   \n",
      "496        2 Sw Nyberg Rd      Elkhart     Elkhart    IN  46514  574-499-1454   \n",
      "497       89992 E 15th St     Alliance   Box Butte    NE  69301  308-726-2182   \n",
      "498      61556 W 20th Ave      Seattle        King    WA  98104  206-711-6498   \n",
      "499        63 E Aurora Dr      Orlando      Orange    FL  32804  407-413-4842   \n",
      "\n",
      "           phone2                          email  \\\n",
      "0    504-845-1427                jbutt@gmail.com   \n",
      "1    810-374-9840  josephine_darakjy@darakjy.org   \n",
      "2    856-264-4130                 art@venere.org   \n",
      "3    907-921-2010          lpaprocki@hotmail.com   \n",
      "4    513-549-4561         donette.foller@cox.net   \n",
      "..            ...                            ...   \n",
      "495  208-206-9848       bgillaspie@gillaspie.com   \n",
      "496  574-330-1884               rkampa@kampa.org   \n",
      "497  308-250-6987           flo.bookamer@cox.net   \n",
      "498  206-395-6284               jbiddy@yahoo.com   \n",
      "499  407-557-8857        chauncey_motley@aol.com   \n",
      "\n",
      "                                         web  \n",
      "0               http://www.bentonjohnbjr.com  \n",
      "1           http://www.chanayjeffreyaesq.com  \n",
      "2             http://www.chemeljameslcpa.com  \n",
      "3        http://www.feltzprintingservice.com  \n",
      "4          http://www.printingdimensions.com  \n",
      "..                                       ...  \n",
      "495                http://www.innerlabel.com  \n",
      "496                 http://www.hermarinc.com  \n",
      "497   http://www.simontonhoweschneiderpc.com  \n",
      "498  http://www.warehouseofficepaperprod.com  \n",
      "499  http://www.affiliatedwithtravelodge.com  \n",
      "\n",
      "[500 rows x 12 columns]\n"
     ]
    }
   ],
   "source": [
    "import pandas as pd\n",
    "import numpy as np\n",
    "m = pd.read_csv(\"C:/Users/suvig/citizen_data.csv\",sep =\",\", header=0)\n",
    "print(m)\n"
   ]
  },
  {
   "cell_type": "code",
   "execution_count": 64,
   "metadata": {},
   "outputs": [
    {
     "ename": "FileNotFoundError",
     "evalue": "[Errno 2] No such file or directory: 'C:/users/user/desktop/b.csv'",
     "output_type": "error",
     "traceback": [
      "\u001b[1;31m---------------------------------------------------------------------------\u001b[0m",
      "\u001b[1;31mFileNotFoundError\u001b[0m                         Traceback (most recent call last)",
      "\u001b[1;32m<ipython-input-64-c1ceef85ed0d>\u001b[0m in \u001b[0;36m<module>\u001b[1;34m\u001b[0m\n\u001b[0;32m      2\u001b[0m \u001b[1;32mimport\u001b[0m \u001b[0mpandas\u001b[0m \u001b[1;32mas\u001b[0m \u001b[0mpd\u001b[0m  \u001b[1;31m# importing file data into a dataframe\u001b[0m\u001b[1;33m\u001b[0m\u001b[1;33m\u001b[0m\u001b[0m\n\u001b[0;32m      3\u001b[0m \u001b[1;32mimport\u001b[0m \u001b[0mnumpy\u001b[0m \u001b[1;32mas\u001b[0m \u001b[0mnp\u001b[0m\u001b[1;33m\u001b[0m\u001b[1;33m\u001b[0m\u001b[0m\n\u001b[1;32m----> 4\u001b[1;33m \u001b[0mm\u001b[0m\u001b[1;33m=\u001b[0m \u001b[0mpd\u001b[0m\u001b[1;33m.\u001b[0m\u001b[0mread_csv\u001b[0m\u001b[1;33m(\u001b[0m\u001b[1;34m\"C:/users/user/desktop/b.csv\"\u001b[0m\u001b[1;33m,\u001b[0m\u001b[0msep\u001b[0m \u001b[1;33m=\u001b[0m\u001b[1;34m\" \"\u001b[0m\u001b[1;33m,\u001b[0m \u001b[0mnames\u001b[0m\u001b[1;33m=\u001b[0m\u001b[1;33m[\u001b[0m\u001b[1;34m'RNo'\u001b[0m\u001b[1;33m,\u001b[0m\u001b[1;34m'StudentName'\u001b[0m\u001b[1;33m,\u001b[0m \u001b[1;34m'English'\u001b[0m\u001b[1;33m,\u001b[0m\u001b[1;34m'Hindi'\u001b[0m\u001b[1;33m]\u001b[0m\u001b[1;33m,\u001b[0m \u001b[0mheader\u001b[0m\u001b[1;33m=\u001b[0m\u001b[1;36m0\u001b[0m\u001b[1;33m)\u001b[0m\u001b[1;33m\u001b[0m\u001b[1;33m\u001b[0m\u001b[0m\n\u001b[0m\u001b[0;32m      5\u001b[0m \u001b[0mprint\u001b[0m\u001b[1;33m(\u001b[0m\u001b[0mm\u001b[0m\u001b[1;33m)\u001b[0m\u001b[1;33m\u001b[0m\u001b[1;33m\u001b[0m\u001b[0m\n",
      "\u001b[1;32mD:\\Anaconda-Personal\\lib\\site-packages\\pandas\\io\\parsers.py\u001b[0m in \u001b[0;36mread_csv\u001b[1;34m(filepath_or_buffer, sep, delimiter, header, names, index_col, usecols, squeeze, prefix, mangle_dupe_cols, dtype, engine, converters, true_values, false_values, skipinitialspace, skiprows, skipfooter, nrows, na_values, keep_default_na, na_filter, verbose, skip_blank_lines, parse_dates, infer_datetime_format, keep_date_col, date_parser, dayfirst, cache_dates, iterator, chunksize, compression, thousands, decimal, lineterminator, quotechar, quoting, doublequote, escapechar, comment, encoding, dialect, error_bad_lines, warn_bad_lines, delim_whitespace, low_memory, memory_map, float_precision)\u001b[0m\n\u001b[0;32m    684\u001b[0m     )\n\u001b[0;32m    685\u001b[0m \u001b[1;33m\u001b[0m\u001b[0m\n\u001b[1;32m--> 686\u001b[1;33m     \u001b[1;32mreturn\u001b[0m \u001b[0m_read\u001b[0m\u001b[1;33m(\u001b[0m\u001b[0mfilepath_or_buffer\u001b[0m\u001b[1;33m,\u001b[0m \u001b[0mkwds\u001b[0m\u001b[1;33m)\u001b[0m\u001b[1;33m\u001b[0m\u001b[1;33m\u001b[0m\u001b[0m\n\u001b[0m\u001b[0;32m    687\u001b[0m \u001b[1;33m\u001b[0m\u001b[0m\n\u001b[0;32m    688\u001b[0m \u001b[1;33m\u001b[0m\u001b[0m\n",
      "\u001b[1;32mD:\\Anaconda-Personal\\lib\\site-packages\\pandas\\io\\parsers.py\u001b[0m in \u001b[0;36m_read\u001b[1;34m(filepath_or_buffer, kwds)\u001b[0m\n\u001b[0;32m    450\u001b[0m \u001b[1;33m\u001b[0m\u001b[0m\n\u001b[0;32m    451\u001b[0m     \u001b[1;31m# Create the parser.\u001b[0m\u001b[1;33m\u001b[0m\u001b[1;33m\u001b[0m\u001b[1;33m\u001b[0m\u001b[0m\n\u001b[1;32m--> 452\u001b[1;33m     \u001b[0mparser\u001b[0m \u001b[1;33m=\u001b[0m \u001b[0mTextFileReader\u001b[0m\u001b[1;33m(\u001b[0m\u001b[0mfp_or_buf\u001b[0m\u001b[1;33m,\u001b[0m \u001b[1;33m**\u001b[0m\u001b[0mkwds\u001b[0m\u001b[1;33m)\u001b[0m\u001b[1;33m\u001b[0m\u001b[1;33m\u001b[0m\u001b[0m\n\u001b[0m\u001b[0;32m    453\u001b[0m \u001b[1;33m\u001b[0m\u001b[0m\n\u001b[0;32m    454\u001b[0m     \u001b[1;32mif\u001b[0m \u001b[0mchunksize\u001b[0m \u001b[1;32mor\u001b[0m \u001b[0miterator\u001b[0m\u001b[1;33m:\u001b[0m\u001b[1;33m\u001b[0m\u001b[1;33m\u001b[0m\u001b[0m\n",
      "\u001b[1;32mD:\\Anaconda-Personal\\lib\\site-packages\\pandas\\io\\parsers.py\u001b[0m in \u001b[0;36m__init__\u001b[1;34m(self, f, engine, **kwds)\u001b[0m\n\u001b[0;32m    944\u001b[0m             \u001b[0mself\u001b[0m\u001b[1;33m.\u001b[0m\u001b[0moptions\u001b[0m\u001b[1;33m[\u001b[0m\u001b[1;34m\"has_index_names\"\u001b[0m\u001b[1;33m]\u001b[0m \u001b[1;33m=\u001b[0m \u001b[0mkwds\u001b[0m\u001b[1;33m[\u001b[0m\u001b[1;34m\"has_index_names\"\u001b[0m\u001b[1;33m]\u001b[0m\u001b[1;33m\u001b[0m\u001b[1;33m\u001b[0m\u001b[0m\n\u001b[0;32m    945\u001b[0m \u001b[1;33m\u001b[0m\u001b[0m\n\u001b[1;32m--> 946\u001b[1;33m         \u001b[0mself\u001b[0m\u001b[1;33m.\u001b[0m\u001b[0m_make_engine\u001b[0m\u001b[1;33m(\u001b[0m\u001b[0mself\u001b[0m\u001b[1;33m.\u001b[0m\u001b[0mengine\u001b[0m\u001b[1;33m)\u001b[0m\u001b[1;33m\u001b[0m\u001b[1;33m\u001b[0m\u001b[0m\n\u001b[0m\u001b[0;32m    947\u001b[0m \u001b[1;33m\u001b[0m\u001b[0m\n\u001b[0;32m    948\u001b[0m     \u001b[1;32mdef\u001b[0m \u001b[0mclose\u001b[0m\u001b[1;33m(\u001b[0m\u001b[0mself\u001b[0m\u001b[1;33m)\u001b[0m\u001b[1;33m:\u001b[0m\u001b[1;33m\u001b[0m\u001b[1;33m\u001b[0m\u001b[0m\n",
      "\u001b[1;32mD:\\Anaconda-Personal\\lib\\site-packages\\pandas\\io\\parsers.py\u001b[0m in \u001b[0;36m_make_engine\u001b[1;34m(self, engine)\u001b[0m\n\u001b[0;32m   1176\u001b[0m     \u001b[1;32mdef\u001b[0m \u001b[0m_make_engine\u001b[0m\u001b[1;33m(\u001b[0m\u001b[0mself\u001b[0m\u001b[1;33m,\u001b[0m \u001b[0mengine\u001b[0m\u001b[1;33m=\u001b[0m\u001b[1;34m\"c\"\u001b[0m\u001b[1;33m)\u001b[0m\u001b[1;33m:\u001b[0m\u001b[1;33m\u001b[0m\u001b[1;33m\u001b[0m\u001b[0m\n\u001b[0;32m   1177\u001b[0m         \u001b[1;32mif\u001b[0m \u001b[0mengine\u001b[0m \u001b[1;33m==\u001b[0m \u001b[1;34m\"c\"\u001b[0m\u001b[1;33m:\u001b[0m\u001b[1;33m\u001b[0m\u001b[1;33m\u001b[0m\u001b[0m\n\u001b[1;32m-> 1178\u001b[1;33m             \u001b[0mself\u001b[0m\u001b[1;33m.\u001b[0m\u001b[0m_engine\u001b[0m \u001b[1;33m=\u001b[0m \u001b[0mCParserWrapper\u001b[0m\u001b[1;33m(\u001b[0m\u001b[0mself\u001b[0m\u001b[1;33m.\u001b[0m\u001b[0mf\u001b[0m\u001b[1;33m,\u001b[0m \u001b[1;33m**\u001b[0m\u001b[0mself\u001b[0m\u001b[1;33m.\u001b[0m\u001b[0moptions\u001b[0m\u001b[1;33m)\u001b[0m\u001b[1;33m\u001b[0m\u001b[1;33m\u001b[0m\u001b[0m\n\u001b[0m\u001b[0;32m   1179\u001b[0m         \u001b[1;32melse\u001b[0m\u001b[1;33m:\u001b[0m\u001b[1;33m\u001b[0m\u001b[1;33m\u001b[0m\u001b[0m\n\u001b[0;32m   1180\u001b[0m             \u001b[1;32mif\u001b[0m \u001b[0mengine\u001b[0m \u001b[1;33m==\u001b[0m \u001b[1;34m\"python\"\u001b[0m\u001b[1;33m:\u001b[0m\u001b[1;33m\u001b[0m\u001b[1;33m\u001b[0m\u001b[0m\n",
      "\u001b[1;32mD:\\Anaconda-Personal\\lib\\site-packages\\pandas\\io\\parsers.py\u001b[0m in \u001b[0;36m__init__\u001b[1;34m(self, src, **kwds)\u001b[0m\n\u001b[0;32m   2006\u001b[0m         \u001b[0mkwds\u001b[0m\u001b[1;33m[\u001b[0m\u001b[1;34m\"usecols\"\u001b[0m\u001b[1;33m]\u001b[0m \u001b[1;33m=\u001b[0m \u001b[0mself\u001b[0m\u001b[1;33m.\u001b[0m\u001b[0musecols\u001b[0m\u001b[1;33m\u001b[0m\u001b[1;33m\u001b[0m\u001b[0m\n\u001b[0;32m   2007\u001b[0m \u001b[1;33m\u001b[0m\u001b[0m\n\u001b[1;32m-> 2008\u001b[1;33m         \u001b[0mself\u001b[0m\u001b[1;33m.\u001b[0m\u001b[0m_reader\u001b[0m \u001b[1;33m=\u001b[0m \u001b[0mparsers\u001b[0m\u001b[1;33m.\u001b[0m\u001b[0mTextReader\u001b[0m\u001b[1;33m(\u001b[0m\u001b[0msrc\u001b[0m\u001b[1;33m,\u001b[0m \u001b[1;33m**\u001b[0m\u001b[0mkwds\u001b[0m\u001b[1;33m)\u001b[0m\u001b[1;33m\u001b[0m\u001b[1;33m\u001b[0m\u001b[0m\n\u001b[0m\u001b[0;32m   2009\u001b[0m         \u001b[0mself\u001b[0m\u001b[1;33m.\u001b[0m\u001b[0munnamed_cols\u001b[0m \u001b[1;33m=\u001b[0m \u001b[0mself\u001b[0m\u001b[1;33m.\u001b[0m\u001b[0m_reader\u001b[0m\u001b[1;33m.\u001b[0m\u001b[0munnamed_cols\u001b[0m\u001b[1;33m\u001b[0m\u001b[1;33m\u001b[0m\u001b[0m\n\u001b[0;32m   2010\u001b[0m \u001b[1;33m\u001b[0m\u001b[0m\n",
      "\u001b[1;32mpandas\\_libs\\parsers.pyx\u001b[0m in \u001b[0;36mpandas._libs.parsers.TextReader.__cinit__\u001b[1;34m()\u001b[0m\n",
      "\u001b[1;32mpandas\\_libs\\parsers.pyx\u001b[0m in \u001b[0;36mpandas._libs.parsers.TextReader._setup_parser_source\u001b[1;34m()\u001b[0m\n",
      "\u001b[1;31mFileNotFoundError\u001b[0m: [Errno 2] No such file or directory: 'C:/users/user/desktop/b.csv'"
     ]
    }
   ],
   "source": [
    "# Q6 from CBSE file part A\n",
    "import pandas as pd  # importing file data into a dataframe\n",
    "import numpy as np\n",
    "m= pd.read_csv(\"C:/users/user/desktop/b.csv\",sep =\" \", names=['RNo','StudentName', 'English','Hindi'], header=0)\n",
    "print(m)\n"
   ]
  },
  {
   "cell_type": "code",
   "execution_count": 65,
   "metadata": {},
   "outputs": [
    {
     "name": "stdout",
     "output_type": "stream",
     "text": [
      "                 Assam  Kerala    Delhi\n",
      "GeoArea          78438   38852  1483.00\n",
      "VeryDense         2797    1663     6.72\n",
      "ModeratelyDense  10192    9407    56.24\n",
      "OpenForest       15116    9251   129.45\n"
     ]
    }
   ],
   "source": [
    "# Q6 cbse file part B\n",
    "import numpy as np\n",
    "import pandas as pd\n",
    "F1 = {'Assam' :pd.Series([78438, 2797,10192, 15116], index = ['GeoArea', 'VeryDense','ModeratelyDense', 'OpenForest']),'Kerala' :pd.Series([ 38852, 1663, 9407, 9251], index = ['GeoArea' ,'VeryDense',\n",
    "'ModeratelyDense', 'OpenForest']),'Delhi' :pd.Series([1483, 6.72, 56.24,129.45], index = ['GeoArea', 'VeryDense',\n",
    "'ModeratelyDense', 'OpenForest'])}\n",
    "df4 = pd.DataFrame(F1)\n",
    "print(df4)\n",
    "df4.to_csv(path_or_buf=\"C:/Users/suvig/c.csv\", sep=',')"
   ]
  },
  {
   "cell_type": "code",
   "execution_count": 66,
   "metadata": {},
   "outputs": [
    {
     "name": "stdout",
     "output_type": "stream",
     "text": [
      "         Arnab  Ramit  Samridhi  Riya  Mallika\n",
      "Maths       90     92        89    81       94\n",
      "Science     91     81        91    71       95\n",
      "Hindi       97     96        88    67       99\n"
     ]
    },
    {
     "ename": "FileNotFoundError",
     "evalue": "[Errno 2] No such file or directory: 'C:/users/user/desktop/d.csv'",
     "output_type": "error",
     "traceback": [
      "\u001b[1;31m---------------------------------------------------------------------------\u001b[0m",
      "\u001b[1;31mFileNotFoundError\u001b[0m                         Traceback (most recent call last)",
      "\u001b[1;32m<ipython-input-66-ac6642a6f06f>\u001b[0m in \u001b[0;36m<module>\u001b[1;34m\u001b[0m\n\u001b[0;32m      6\u001b[0m \u001b[0mdf3\u001b[0m\u001b[1;33m=\u001b[0m\u001b[0mpd\u001b[0m\u001b[1;33m.\u001b[0m\u001b[0mDataFrame\u001b[0m\u001b[1;33m(\u001b[0m\u001b[0mRS\u001b[0m\u001b[1;33m)\u001b[0m\u001b[1;33m\u001b[0m\u001b[1;33m\u001b[0m\u001b[0m\n\u001b[0;32m      7\u001b[0m \u001b[0mprint\u001b[0m\u001b[1;33m(\u001b[0m\u001b[0mdf3\u001b[0m\u001b[1;33m)\u001b[0m\u001b[1;33m\u001b[0m\u001b[1;33m\u001b[0m\u001b[0m\n\u001b[1;32m----> 8\u001b[1;33m \u001b[0mdf3\u001b[0m\u001b[1;33m.\u001b[0m\u001b[0mto_csv\u001b[0m\u001b[1;33m(\u001b[0m\u001b[0mpath_or_buf\u001b[0m\u001b[1;33m=\u001b[0m\u001b[1;34m\"C:/users/user/desktop/d.csv\"\u001b[0m\u001b[1;33m,\u001b[0m \u001b[0msep\u001b[0m\u001b[1;33m=\u001b[0m\u001b[1;34m','\u001b[0m\u001b[1;33m)\u001b[0m\u001b[1;33m\u001b[0m\u001b[1;33m\u001b[0m\u001b[0m\n\u001b[0m",
      "\u001b[1;32mD:\\Anaconda-Personal\\lib\\site-packages\\pandas\\core\\generic.py\u001b[0m in \u001b[0;36mto_csv\u001b[1;34m(self, path_or_buf, sep, na_rep, float_format, columns, header, index, index_label, mode, encoding, compression, quoting, quotechar, line_terminator, chunksize, date_format, doublequote, escapechar, decimal, errors)\u001b[0m\n\u001b[0;32m   3168\u001b[0m             \u001b[0mdecimal\u001b[0m\u001b[1;33m=\u001b[0m\u001b[0mdecimal\u001b[0m\u001b[1;33m,\u001b[0m\u001b[1;33m\u001b[0m\u001b[1;33m\u001b[0m\u001b[0m\n\u001b[0;32m   3169\u001b[0m         )\n\u001b[1;32m-> 3170\u001b[1;33m         \u001b[0mformatter\u001b[0m\u001b[1;33m.\u001b[0m\u001b[0msave\u001b[0m\u001b[1;33m(\u001b[0m\u001b[1;33m)\u001b[0m\u001b[1;33m\u001b[0m\u001b[1;33m\u001b[0m\u001b[0m\n\u001b[0m\u001b[0;32m   3171\u001b[0m \u001b[1;33m\u001b[0m\u001b[0m\n\u001b[0;32m   3172\u001b[0m         \u001b[1;32mif\u001b[0m \u001b[0mpath_or_buf\u001b[0m \u001b[1;32mis\u001b[0m \u001b[1;32mNone\u001b[0m\u001b[1;33m:\u001b[0m\u001b[1;33m\u001b[0m\u001b[1;33m\u001b[0m\u001b[0m\n",
      "\u001b[1;32mD:\\Anaconda-Personal\\lib\\site-packages\\pandas\\io\\formats\\csvs.py\u001b[0m in \u001b[0;36msave\u001b[1;34m(self)\u001b[0m\n\u001b[0;32m    183\u001b[0m             \u001b[0mclose\u001b[0m \u001b[1;33m=\u001b[0m \u001b[1;32mFalse\u001b[0m\u001b[1;33m\u001b[0m\u001b[1;33m\u001b[0m\u001b[0m\n\u001b[0;32m    184\u001b[0m         \u001b[1;32melse\u001b[0m\u001b[1;33m:\u001b[0m\u001b[1;33m\u001b[0m\u001b[1;33m\u001b[0m\u001b[0m\n\u001b[1;32m--> 185\u001b[1;33m             f, handles = get_handle(\n\u001b[0m\u001b[0;32m    186\u001b[0m                 \u001b[0mself\u001b[0m\u001b[1;33m.\u001b[0m\u001b[0mpath_or_buf\u001b[0m\u001b[1;33m,\u001b[0m\u001b[1;33m\u001b[0m\u001b[1;33m\u001b[0m\u001b[0m\n\u001b[0;32m    187\u001b[0m                 \u001b[0mself\u001b[0m\u001b[1;33m.\u001b[0m\u001b[0mmode\u001b[0m\u001b[1;33m,\u001b[0m\u001b[1;33m\u001b[0m\u001b[1;33m\u001b[0m\u001b[0m\n",
      "\u001b[1;32mD:\\Anaconda-Personal\\lib\\site-packages\\pandas\\io\\common.py\u001b[0m in \u001b[0;36mget_handle\u001b[1;34m(path_or_buf, mode, encoding, compression, memory_map, is_text, errors)\u001b[0m\n\u001b[0;32m    491\u001b[0m         \u001b[1;32mif\u001b[0m \u001b[0mencoding\u001b[0m\u001b[1;33m:\u001b[0m\u001b[1;33m\u001b[0m\u001b[1;33m\u001b[0m\u001b[0m\n\u001b[0;32m    492\u001b[0m             \u001b[1;31m# Encoding\u001b[0m\u001b[1;33m\u001b[0m\u001b[1;33m\u001b[0m\u001b[1;33m\u001b[0m\u001b[0m\n\u001b[1;32m--> 493\u001b[1;33m             \u001b[0mf\u001b[0m \u001b[1;33m=\u001b[0m \u001b[0mopen\u001b[0m\u001b[1;33m(\u001b[0m\u001b[0mpath_or_buf\u001b[0m\u001b[1;33m,\u001b[0m \u001b[0mmode\u001b[0m\u001b[1;33m,\u001b[0m \u001b[0mencoding\u001b[0m\u001b[1;33m=\u001b[0m\u001b[0mencoding\u001b[0m\u001b[1;33m,\u001b[0m \u001b[0merrors\u001b[0m\u001b[1;33m=\u001b[0m\u001b[0merrors\u001b[0m\u001b[1;33m,\u001b[0m \u001b[0mnewline\u001b[0m\u001b[1;33m=\u001b[0m\u001b[1;34m\"\"\u001b[0m\u001b[1;33m)\u001b[0m\u001b[1;33m\u001b[0m\u001b[1;33m\u001b[0m\u001b[0m\n\u001b[0m\u001b[0;32m    494\u001b[0m         \u001b[1;32melif\u001b[0m \u001b[0mis_text\u001b[0m\u001b[1;33m:\u001b[0m\u001b[1;33m\u001b[0m\u001b[1;33m\u001b[0m\u001b[0m\n\u001b[0;32m    495\u001b[0m             \u001b[1;31m# No explicit encoding\u001b[0m\u001b[1;33m\u001b[0m\u001b[1;33m\u001b[0m\u001b[1;33m\u001b[0m\u001b[0m\n",
      "\u001b[1;31mFileNotFoundError\u001b[0m: [Errno 2] No such file or directory: 'C:/users/user/desktop/d.csv'"
     ]
    }
   ],
   "source": [
    "RS={ 'Arnab': pd.Series([90, 91, 97],index=['Maths','Science','Hindi']),\n",
    "'Ramit': pd.Series([92, 81, 96],index=['Maths','Science','Hindi']),\n",
    "'Samridhi': pd.Series([89, 91, 88], index=['Maths','Science','Hindi']),\n",
    "'Riya': pd.Series([81, 71, 67], index=['Maths','Science','Hindi']),\n",
    "'Mallika': pd.Series([94, 95, 99],index=['Maths','Science','Hindi'])}\n",
    "df3=pd.DataFrame(RS)\n",
    "print(df3)\n",
    "df3.to_csv(path_or_buf=\"C:/users/user/desktop/d.csv\", sep=',')"
   ]
  },
  {
   "cell_type": "code",
   "execution_count": 67,
   "metadata": {},
   "outputs": [
    {
     "name": "stdout",
     "output_type": "stream",
     "text": [
      "1    14\n",
      "4     7\n",
      "7     9\n",
      "dtype: int64\n"
     ]
    }
   ],
   "source": [
    "\n",
    "S1=pd.Series([14, 7, 9] ,index = range(1, 8, 3))\n",
    "print(S1)"
   ]
  },
  {
   "cell_type": "code",
   "execution_count": 68,
   "metadata": {},
   "outputs": [
    {
     "name": "stdout",
     "output_type": "stream",
     "text": [
      "True\n"
     ]
    },
    {
     "name": "stderr",
     "output_type": "stream",
     "text": [
      "<ipython-input-68-d09c82d6223e>:1: DeprecationWarning: The default dtype for empty Series will be 'object' instead of 'float64' in a future version. Specify a dtype explicitly to silence this warning.\n",
      "  S1=pd.Series()\n",
      "<ipython-input-68-d09c82d6223e>:2: DeprecationWarning: The default dtype for empty Series will be 'object' instead of 'float64' in a future version. Specify a dtype explicitly to silence this warning.\n",
      "  print(pd.Series().empty)\n"
     ]
    }
   ],
   "source": [
    "S1=pd.Series()\n",
    "print(pd.Series().empty)"
   ]
  },
  {
   "cell_type": "code",
   "execution_count": null,
   "metadata": {},
   "outputs": [],
   "source": []
  },
  {
   "cell_type": "markdown",
   "metadata": {},
   "source": []
  },
  {
   "cell_type": "code",
   "execution_count": null,
   "metadata": {},
   "outputs": [],
   "source": []
  },
  {
   "cell_type": "code",
   "execution_count": null,
   "metadata": {},
   "outputs": [],
   "source": []
  }
 ],
 "metadata": {
  "kernelspec": {
   "display_name": "Python 3",
   "language": "python",
   "name": "python3"
  },
  "language_info": {
   "codemirror_mode": {
    "name": "ipython",
    "version": 3
   },
   "file_extension": ".py",
   "mimetype": "text/x-python",
   "name": "python",
   "nbconvert_exporter": "python",
   "pygments_lexer": "ipython3",
   "version": "3.8.5"
  }
 },
 "nbformat": 4,
 "nbformat_minor": 4
}
