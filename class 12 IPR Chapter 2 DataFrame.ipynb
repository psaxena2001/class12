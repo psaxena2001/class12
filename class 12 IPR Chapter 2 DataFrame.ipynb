{
 "cells": [
  {
   "cell_type": "code",
   "execution_count": 2,
   "metadata": {},
   "outputs": [
    {
     "name": "stdout",
     "output_type": "stream",
     "text": [
      "Empty DataFrame\n",
      "Columns: []\n",
      "Index: []\n"
     ]
    }
   ],
   "source": [
    "# creating an empty dataframe \n",
    "import pandas as pd\n",
    "df1 = pd.DataFrame()\n",
    "print(df1)"
   ]
  },
  {
   "cell_type": "code",
   "execution_count": 12,
   "metadata": {},
   "outputs": [
    {
     "name": "stdout",
     "output_type": "stream",
     "text": [
      "   A\n",
      "0  4\n",
      "1  5\n",
      "2  6\n",
      "3  7\n"
     ]
    }
   ],
   "source": [
    "# creating dataframe using scalar values in a list\n",
    "df1 = pd.DataFrame(data=[4,5,6,7], index=range(0,4), columns=['A'])\n",
    "print(df1)"
   ]
  },
  {
   "cell_type": "code",
   "execution_count": 22,
   "metadata": {},
   "outputs": [
    {
     "name": "stdout",
     "output_type": "stream",
     "text": [
      "   A  B  C  D   E\n",
      "0  1  2  3  4   5\n",
      "1  6  7  8  9  10\n"
     ]
    }
   ],
   "source": [
    "# creating dataframe using scalar values in a list\n",
    "L1=[1,2,3,4,5]\n",
    "L2=[6,7,8,9,10]\n",
    "data=[L1,L2]\n",
    "df1 = pd.DataFrame(data,index=range(0,2), columns=['A','B','C','D','E'])\n",
    "print(df1)"
   ]
  },
  {
   "cell_type": "code",
   "execution_count": 48,
   "metadata": {},
   "outputs": [
    {
     "name": "stdout",
     "output_type": "stream",
     "text": [
      "   A  B  C  D   E\n",
      "0  1  2  3  4   5\n",
      "1  6  7  8  9  10\n"
     ]
    }
   ],
   "source": [
    "# creating dataframe using scalar values in a list\n",
    "L1=[1,2,3,4,5]\n",
    "L2=[6,7,8,9,10]\n",
    "df1 = pd.DataFrame(data=[L1,L2],index=range(0,2), columns=['A','B','C','D','E'])\n",
    "print(df1)"
   ]
  },
  {
   "cell_type": "code",
   "execution_count": 8,
   "metadata": {},
   "outputs": [
    {
     "name": "stdout",
     "output_type": "stream",
     "text": [
      "    0\n",
      "0  10\n",
      "1  20\n",
      "2  30\n"
     ]
    }
   ],
   "source": [
    "# creating dataframe from one ndarray\n",
    "import pandas as pd\n",
    "import numpy as np\n",
    "na1=np.array([10,20,30])\n",
    "na2=np.array([1.5,2.7,3.4])\n",
    "na3=np.array([5,10,15])\n",
    "df2=pd.DataFrame(na1)\n",
    "print(df2)"
   ]
  },
  {
   "cell_type": "code",
   "execution_count": 9,
   "metadata": {},
   "outputs": [
    {
     "name": "stdout",
     "output_type": "stream",
     "text": [
      "      0     1     2\n",
      "0  10.0  20.0  30.0\n",
      "1   1.5   2.7   3.4\n",
      "2   5.0  10.0  15.0\n"
     ]
    }
   ],
   "source": [
    "# creating dataframe from more than one ndarray\n",
    "df2=pd.DataFrame([na1,na2,na3])\n",
    "print(df2)"
   ]
  },
  {
   "cell_type": "code",
   "execution_count": 10,
   "metadata": {},
   "outputs": [
    {
     "name": "stdout",
     "output_type": "stream",
     "text": [
      "      c1    c2    c3\n",
      "r1  10.0  20.0  30.0\n",
      "r2   1.5   2.7   3.4\n",
      "r3   5.0  10.0  15.0\n"
     ]
    }
   ],
   "source": [
    "# creating dataframe from more than one ndarray with column and index names \n",
    "df2=pd.DataFrame([na1,na2,na3], columns=[\"c1\",\"c2\",\"c3\"], index=[\"r1\",\"r2\",\"r3\"])\n",
    "print(df2) # it will print the dataframe with column and index names "
   ]
  },
  {
   "cell_type": "code",
   "execution_count": 3,
   "metadata": {},
   "outputs": [
    {
     "name": "stdout",
     "output_type": "stream",
     "text": [
      "   Ram  Tejas  Arvind  Shagun  Rajesh\n",
      "0   19     16      14      12      17\n",
      "1   78     89      90      68      82\n"
     ]
    }
   ],
   "source": [
    "# creating dataframe using list of dictionary without mentioning index\n",
    "import pandas as pd\n",
    "l1=[{'Ram': 19,'Tejas': 16,'Arvind':14,'Shagun':12,'Rajesh':17},{'Ram': 78,'Tejas': 89,'Arvind':90,'Shagun':68,'Rajesh':82}]\n",
    "df3=pd.DataFrame(l1)\n",
    "print(df3)"
   ]
  },
  {
   "cell_type": "code",
   "execution_count": 4,
   "metadata": {},
   "outputs": [
    {
     "name": "stdout",
     "output_type": "stream",
     "text": [
      "       Ram  Tejas  Arvind  Shagun  Rajesh\n",
      "UT1     19     16      14      12      17\n",
      "Term1   78     89      90      68      82\n"
     ]
    }
   ],
   "source": [
    "# creating dataframe using list of dictionary with index\n",
    "df3=pd.DataFrame(l1,index=['UT1','Term1'])\n",
    "print(df3)"
   ]
  },
  {
   "cell_type": "code",
   "execution_count": 1,
   "metadata": {},
   "outputs": [
    {
     "name": "stdout",
     "output_type": "stream",
     "text": [
      "      Ram  Tejas  Shagun  Rajesh  Arvind\n",
      "UT1    19     16    12.0      17     NaN\n",
      "Term   78     89     NaN      82    90.0\n"
     ]
    }
   ],
   "source": [
    "# creating dataframe using list of dictionary with missing key values\n",
    "import pandas as pd\n",
    "l1=[{'Ram': 19,'Tejas': 16,'Shagun':12,'Rajesh':17},{'Ram': 78,'Tejas': 89,'Arvind':90,'Rajesh':82}]\n",
    "df4=pd.DataFrame(l1, index=['UT1','Term'])\n",
    "print(df4)"
   ]
  },
  {
   "cell_type": "code",
   "execution_count": 4,
   "metadata": {},
   "outputs": [
    {
     "name": "stdout",
     "output_type": "stream",
     "text": [
      "   Rajesh  Seema  Rehan\n",
      "0      89     68     82\n",
      "1      68     89     69\n",
      "2      91     78     73\n",
      "3      88     72     88\n",
      "4      75     84     90\n"
     ]
    }
   ],
   "source": [
    "# creating dataframe using dictionary of list with positional index\n",
    "import pandas as pd\n",
    "d1={'Rajesh':[89,68,91,88,75],'Seema':[68,89,78,72,84],'Rehan':[82,69,73,88,90]}\n",
    "df5=pd.DataFrame(d1)\n",
    "print(df5)"
   ]
  },
  {
   "cell_type": "code",
   "execution_count": 6,
   "metadata": {},
   "outputs": [
    {
     "name": "stdout",
     "output_type": "stream",
     "text": [
      "         Rajesh  Seema  Rehan\n",
      "English      89     68     82\n",
      "Maths        68     89     69\n",
      "Science      91     78     73\n",
      "SST          88     72     88\n",
      "Hindi        75     84     90\n"
     ]
    }
   ],
   "source": [
    "# creating dataframe using dictionary of list with labelled index\n",
    "import pandas as pd\n",
    "d1={'Rajesh':[89,68,91,88,75],'Seema':[68,89,78,72,84],'Rehan':[82,69,73,88,90]}\n",
    "df5=pd.DataFrame(d1,index=['English','Maths','Science','SST','Hindi'])\n",
    "print(df5)"
   ]
  },
  {
   "cell_type": "code",
   "execution_count": 8,
   "metadata": {},
   "outputs": [
    {
     "name": "stdout",
     "output_type": "stream",
     "text": [
      "         Rajesh  Rehan  Seema\n",
      "English      89     82     68\n",
      "Maths        68     69     89\n",
      "Science      91     73     78\n",
      "SST          88     88     72\n",
      "Hindi        75     90     84\n"
     ]
    }
   ],
   "source": [
    "# we can change the column sequence by using column parameter in DataFrame() method. \n",
    "df5=pd.DataFrame(d1,columns=['Rajesh','Rehan','Seema'],index=['English','Maths','Science','SST','Hindi'])\n",
    "print(df5)"
   ]
  },
  {
   "cell_type": "code",
   "execution_count": 7,
   "metadata": {},
   "outputs": [
    {
     "name": "stdout",
     "output_type": "stream",
     "text": [
      "          0\n",
      "jan    2300\n",
      "feb    4500\n",
      "march  5500\n",
      "april  3600\n",
      "may    4300\n"
     ]
    }
   ],
   "source": [
    "#creating dataframe using one series \n",
    "import pandas as pd\n",
    "s1=pd.Series([2300,4500,5500,3600,4300],index=['jan','feb','march','april','may'])\n",
    "df6=pd.DataFrame(s1)\n",
    "print(df6)"
   ]
  },
  {
   "cell_type": "code",
   "execution_count": 40,
   "metadata": {},
   "outputs": [
    {
     "name": "stdout",
     "output_type": "stream",
     "text": [
      "    jan   feb  march  april   may\n",
      "0  2300  4500   5500   3600  4300\n",
      "1  2345  4567   5589   3643  4323\n",
      "2  1211  1000   1502   1201  1430\n"
     ]
    }
   ],
   "source": [
    "#creating dataframe using series more than one series\n",
    "import pandas as pd\n",
    "s1=pd.Series([2300,4500,5500,3600,4300],index=['jan','feb','march','april','may'])\n",
    "s2=pd.Series([2345,4567,5589,3643,4323],index=['jan','feb','march','april','may'])\n",
    "s3=pd.Series([1211,1000,1502,1201,1430],index=['jan','feb','march','april','may'])\n",
    "df6=pd.DataFrame([s1,s2,s3])\n",
    "print(df6)"
   ]
  },
  {
   "cell_type": "code",
   "execution_count": 6,
   "metadata": {},
   "outputs": [
    {
     "name": "stdout",
     "output_type": "stream",
     "text": [
      "          jan   feb  march  april   may\n",
      "Food     2300  4500   5500   3600  4300\n",
      "Petrol   2345  4567   5589   3643  4323\n",
      "Clothes  1211  1000   1502   1201  1430\n"
     ]
    }
   ],
   "source": [
    "#creating dataframe using series with index parameter\n",
    "import pandas as pd\n",
    "s1=pd.Series([2300,4500,5500,3600,4300],index=['jan','feb','march','april','may'])\n",
    "s2=pd.Series([2345,4567,5589,3643,4323],index=['jan','feb','march','april','may'])\n",
    "s3=pd.Series([1211,1000,1502,1201,1430],index=['jan','feb','march','april','may'])\n",
    "df6=pd.DataFrame([s1,s2,s3],index=['Food','Petrol','Clothes'])\n",
    "print(df6)"
   ]
  },
  {
   "cell_type": "code",
   "execution_count": 8,
   "metadata": {},
   "outputs": [
    {
     "name": "stdout",
     "output_type": "stream",
     "text": [
      "            jan   march   april     may     Sep     feb    july\n",
      "Food     2300.0  4500.0  5500.0  3600.0  4300.0     NaN     NaN\n",
      "Petrol   2345.0  5589.0  3643.0  4323.0     NaN  4567.0     NaN\n",
      "Clothes  1211.0  1502.0  1201.0     NaN     NaN  1000.0  1430.0\n"
     ]
    }
   ],
   "source": [
    "#creating dataframe using series with  different index parameter values\n",
    "import pandas as pd\n",
    "s1=pd.Series([2300,4500,5500,3600,4300],index=['jan','march','april','may', 'Sep'])\n",
    "s2=pd.Series([2345,4567,5589,3643,4323],index=['jan','feb','march','april','may'])\n",
    "s3=pd.Series([1211,1000,1502,1201,1430],index=['jan','feb','march','april','july'])\n",
    "df6=pd.DataFrame([s1,s2,s3],index=['Food','Petrol','Clothes'])\n",
    "print(df6)"
   ]
  },
  {
   "cell_type": "code",
   "execution_count": 6,
   "metadata": {},
   "outputs": [
    {
     "name": "stdout",
     "output_type": "stream",
     "text": [
      "         Food  Petrol  Clothes\n",
      "April  5500.0  3643.0   1201.0\n",
      "Feb       NaN  4567.0   1000.0\n",
      "Jan    2300.0  2345.0   1211.0\n",
      "July      NaN     NaN   1430.0\n",
      "March  4500.0  5589.0   1502.0\n",
      "May    3600.0  4323.0      NaN\n",
      "Sep    4300.0     NaN      NaN\n"
     ]
    }
   ],
   "source": [
    "#creating dataframe using dictionary of series \n",
    "import pandas as pd\n",
    "s1=pd.Series([2300,4500,5500,3600,4300],index=['Jan','March','April','May', 'Sep'])\n",
    "s2=pd.Series([2345,4567,5589,3643,4323],index=['Jan','Feb','March','April','May'])\n",
    "s3=pd.Series([1211,1000,1502,1201,1430],index=['Jan','Feb','March','April','July'])\n",
    "dict1={'Food': s1,'Petrol':s2,'Clothes':s3}\n",
    "df7=pd.DataFrame(dict1)\n",
    "print(df7)"
   ]
  },
  {
   "cell_type": "code",
   "execution_count": 8,
   "metadata": {},
   "outputs": [
    {
     "name": "stdout",
     "output_type": "stream",
     "text": [
      "         Food  Petrol  Clothes\n",
      "April  5500.0  3643.0   1201.0\n",
      "Feb       NaN  4567.0   1000.0\n",
      "Jan    2300.0  2345.0   1211.0\n",
      "July      NaN     NaN   1430.0\n",
      "March  4500.0  5589.0   1502.0\n",
      "May    3600.0  4323.0      NaN\n",
      "Sep    4300.0     NaN      NaN\n"
     ]
    }
   ],
   "source": [
    "#creating dataframe using dictionary of series\n",
    "import pandas as pd\n",
    "dict1={'Food': pd.Series([2300,4500,5500,3600,4300],index=['Jan','March','April','May', 'Sep']),\n",
    "       'Petrol':pd.Series([2345,4567,5589,3643,4323],index=['Jan','Feb','March','April','May']),\n",
    "       'Clothes':pd.Series([1211,1000,1502,1201,1430],index=['Jan','Feb','March','April','July'])}\n",
    "df7=pd.DataFrame(dict1)\n",
    "print(df7)"
   ]
  },
  {
   "cell_type": "code",
   "execution_count": 7,
   "metadata": {},
   "outputs": [
    {
     "name": "stdout",
     "output_type": "stream",
     "text": [
      "         Food  Petrol  Clothes\n",
      "Jan    2300.0  2345.0   1211.0\n",
      "Feb       NaN  4567.0   1000.0\n",
      "March  4500.0  5589.0   1502.0\n",
      "April  5500.0  3643.0   1201.0\n",
      "May    3600.0  4323.0      NaN\n",
      "July      NaN     NaN   1430.0\n",
      "Sep    4300.0     NaN      NaN\n"
     ]
    }
   ],
   "source": [
    "#creating dataframe using dictionary of series with rows in order.\n",
    "import pandas as pd\n",
    "dict1={'Food': pd.Series([2300,4500,5500,3600,4300],index=['Jan','March','April','May', 'Sep']),\n",
    "       'Petrol':pd.Series([2345,4567,5589,3643,4323],index=['Jan','Feb','March','April','May']),\n",
    "       'Clothes':pd.Series([1211,1000,1502,1201,1430],index=['Jan','Feb','March','April','July'])}\n",
    "df7=pd.DataFrame(dict1, index=['Jan','Feb','March','April','May','July','Sep'])\n",
    "print(df7)"
   ]
  },
  {
   "cell_type": "code",
   "execution_count": 1,
   "metadata": {},
   "outputs": [
    {
     "name": "stdout",
     "output_type": "stream",
     "text": [
      "         Rajesh  Rehan  Seema\n",
      "English      89     82     68\n",
      "Maths        68     69     89\n",
      "Science      91     73     78\n",
      "SST          88     88     72\n",
      "Hindi        75     90     84\n"
     ]
    }
   ],
   "source": [
    "import pandas as pd\n",
    "d1={'Rajesh':[89,68,91,88,75],'Seema':[68,89,78,72,84],'Rehan':[82,69,73,88,90]}\n",
    "df8=pd.DataFrame(d1,columns=['Rajesh','Rehan','Seema'],index=['English','Maths','Science','SST','Hindi'])\n",
    "print(df8)\n"
   ]
  },
  {
   "cell_type": "code",
   "execution_count": 2,
   "metadata": {},
   "outputs": [
    {
     "name": "stdout",
     "output_type": "stream",
     "text": [
      "         Rajesh  Rehan  Seema\n",
      "English      89     82     68\n",
      "Maths        68     69     89\n",
      "Science      91     73     78\n",
      "SST          88     88     72\n",
      "Hindi        75     90     84\n",
      "IT           96     94     93\n"
     ]
    }
   ],
   "source": [
    "# adding a new row in the dataframe using .loc[] method with label\n",
    "df8.loc['IT']=[96,94,93]\n",
    "print(df8)"
   ]
  },
  {
   "cell_type": "code",
   "execution_count": 3,
   "metadata": {},
   "outputs": [
    {
     "name": "stdout",
     "output_type": "stream",
     "text": [
      "          Rajesh  Rehan  Seema\n",
      "English       89     82     68\n",
      "Maths         68     69     89\n",
      "Science       91     73     78\n",
      "SST           88     88     72\n",
      "Hindi         75     90     84\n",
      "IT            96     94     93\n",
      "French        51     62     73\n",
      "Sanskrit      67     77     87\n"
     ]
    }
   ],
   "source": [
    "# adding a new row in the dataframe using append method\n",
    "import pandas as pd\n",
    "L1=[51,62,73]\n",
    "L2=[67,77,87]\n",
    "data=[L1,L2]\n",
    "df1 = pd.DataFrame(data, index=['French','Sanskrit'], columns=['Rajesh','Rehan','Seema'])\n",
    "print(df8.append(df1))"
   ]
  },
  {
   "cell_type": "code",
   "execution_count": 4,
   "metadata": {},
   "outputs": [
    {
     "name": "stdout",
     "output_type": "stream",
     "text": [
      "         Rajesh  Rehan  Seema\n",
      "English      89     82     68\n",
      "Maths        68     69     89\n",
      "Science      91     73     78\n",
      "SST          88     88     72\n",
      "Hindi        75     90     84\n",
      "IT           96     94     93\n",
      "6            96     94     93\n"
     ]
    }
   ],
   "source": [
    "# adding a new row in the dataframe using .loc[] method with index\n",
    "\n",
    "df8.loc[6]=[96,94,93]\n",
    "print(df8)"
   ]
  },
  {
   "cell_type": "code",
   "execution_count": 5,
   "metadata": {},
   "outputs": [
    {
     "name": "stdout",
     "output_type": "stream",
     "text": [
      "         Rajesh  Rehan  Seema\n",
      "English      89     82     68\n",
      "Maths        68     69     89\n",
      "Science      91     73     78\n",
      "SST          88     88     72\n",
      "Hindi        75     90     84\n",
      "IT           96     94     93\n",
      "6            96     94     93\n"
     ]
    }
   ],
   "source": [
    "# adding a new row in the dataframe using .loc[] method with label\n",
    "df8.loc['IT',:]=[96,94,93]\n",
    "print(df8)"
   ]
  },
  {
   "cell_type": "code",
   "execution_count": 6,
   "metadata": {},
   "outputs": [
    {
     "data": {
      "text/html": [
       "<div>\n",
       "<style scoped>\n",
       "    .dataframe tbody tr th:only-of-type {\n",
       "        vertical-align: middle;\n",
       "    }\n",
       "\n",
       "    .dataframe tbody tr th {\n",
       "        vertical-align: top;\n",
       "    }\n",
       "\n",
       "    .dataframe thead th {\n",
       "        text-align: right;\n",
       "    }\n",
       "</style>\n",
       "<table border=\"1\" class=\"dataframe\">\n",
       "  <thead>\n",
       "    <tr style=\"text-align: right;\">\n",
       "      <th></th>\n",
       "      <th>Rajesh</th>\n",
       "      <th>Rehan</th>\n",
       "      <th>Seema</th>\n",
       "    </tr>\n",
       "  </thead>\n",
       "  <tbody>\n",
       "    <tr>\n",
       "      <th>English</th>\n",
       "      <td>89</td>\n",
       "      <td>82</td>\n",
       "      <td>68</td>\n",
       "    </tr>\n",
       "    <tr>\n",
       "      <th>Maths</th>\n",
       "      <td>68</td>\n",
       "      <td>69</td>\n",
       "      <td>89</td>\n",
       "    </tr>\n",
       "    <tr>\n",
       "      <th>Science</th>\n",
       "      <td>91</td>\n",
       "      <td>73</td>\n",
       "      <td>78</td>\n",
       "    </tr>\n",
       "    <tr>\n",
       "      <th>SST</th>\n",
       "      <td>88</td>\n",
       "      <td>88</td>\n",
       "      <td>72</td>\n",
       "    </tr>\n",
       "    <tr>\n",
       "      <th>Hindi</th>\n",
       "      <td>75</td>\n",
       "      <td>90</td>\n",
       "      <td>84</td>\n",
       "    </tr>\n",
       "    <tr>\n",
       "      <th>IT</th>\n",
       "      <td>70</td>\n",
       "      <td>60</td>\n",
       "      <td>73</td>\n",
       "    </tr>\n",
       "    <tr>\n",
       "      <th>6</th>\n",
       "      <td>96</td>\n",
       "      <td>94</td>\n",
       "      <td>93</td>\n",
       "    </tr>\n",
       "  </tbody>\n",
       "</table>\n",
       "</div>"
      ],
      "text/plain": [
       "         Rajesh  Rehan  Seema\n",
       "English      89     82     68\n",
       "Maths        68     69     89\n",
       "Science      91     73     78\n",
       "SST          88     88     72\n",
       "Hindi        75     90     84\n",
       "IT           70     60     73\n",
       "6            96     94     93"
      ]
     },
     "execution_count": 6,
     "metadata": {},
     "output_type": "execute_result"
    }
   ],
   "source": [
    "# .loc[] can also change the values ,if the index name is same as existing index.\n",
    "df8.loc['IT']=[70,60,73]\n",
    "df8"
   ]
  },
  {
   "cell_type": "code",
   "execution_count": 7,
   "metadata": {},
   "outputs": [
    {
     "data": {
      "text/html": [
       "<div>\n",
       "<style scoped>\n",
       "    .dataframe tbody tr th:only-of-type {\n",
       "        vertical-align: middle;\n",
       "    }\n",
       "\n",
       "    .dataframe tbody tr th {\n",
       "        vertical-align: top;\n",
       "    }\n",
       "\n",
       "    .dataframe thead th {\n",
       "        text-align: right;\n",
       "    }\n",
       "</style>\n",
       "<table border=\"1\" class=\"dataframe\">\n",
       "  <thead>\n",
       "    <tr style=\"text-align: right;\">\n",
       "      <th></th>\n",
       "      <th>Rajesh</th>\n",
       "      <th>Rehan</th>\n",
       "      <th>Seema</th>\n",
       "    </tr>\n",
       "  </thead>\n",
       "  <tbody>\n",
       "    <tr>\n",
       "      <th>English</th>\n",
       "      <td>89</td>\n",
       "      <td>82</td>\n",
       "      <td>68</td>\n",
       "    </tr>\n",
       "    <tr>\n",
       "      <th>Maths</th>\n",
       "      <td>68</td>\n",
       "      <td>69</td>\n",
       "      <td>89</td>\n",
       "    </tr>\n",
       "    <tr>\n",
       "      <th>Science</th>\n",
       "      <td>91</td>\n",
       "      <td>73</td>\n",
       "      <td>78</td>\n",
       "    </tr>\n",
       "    <tr>\n",
       "      <th>SST</th>\n",
       "      <td>88</td>\n",
       "      <td>88</td>\n",
       "      <td>72</td>\n",
       "    </tr>\n",
       "    <tr>\n",
       "      <th>Hindi</th>\n",
       "      <td>75</td>\n",
       "      <td>90</td>\n",
       "      <td>84</td>\n",
       "    </tr>\n",
       "    <tr>\n",
       "      <th>IT</th>\n",
       "      <td>70</td>\n",
       "      <td>60</td>\n",
       "      <td>73</td>\n",
       "    </tr>\n",
       "    <tr>\n",
       "      <th>6</th>\n",
       "      <td>11</td>\n",
       "      <td>22</td>\n",
       "      <td>33</td>\n",
       "    </tr>\n",
       "  </tbody>\n",
       "</table>\n",
       "</div>"
      ],
      "text/plain": [
       "         Rajesh  Rehan  Seema\n",
       "English      89     82     68\n",
       "Maths        68     69     89\n",
       "Science      91     73     78\n",
       "SST          88     88     72\n",
       "Hindi        75     90     84\n",
       "IT           70     60     73\n",
       "6            11     22     33"
      ]
     },
     "execution_count": 7,
     "metadata": {},
     "output_type": "execute_result"
    }
   ],
   "source": [
    "# .iloc[] can also be used to change the values of an already existing index\n",
    "df8.iloc[6]=[11,22,33]\n",
    "df8"
   ]
  },
  {
   "cell_type": "code",
   "execution_count": 8,
   "metadata": {},
   "outputs": [
    {
     "data": {
      "text/html": [
       "<div>\n",
       "<style scoped>\n",
       "    .dataframe tbody tr th:only-of-type {\n",
       "        vertical-align: middle;\n",
       "    }\n",
       "\n",
       "    .dataframe tbody tr th {\n",
       "        vertical-align: top;\n",
       "    }\n",
       "\n",
       "    .dataframe thead th {\n",
       "        text-align: right;\n",
       "    }\n",
       "</style>\n",
       "<table border=\"1\" class=\"dataframe\">\n",
       "  <thead>\n",
       "    <tr style=\"text-align: right;\">\n",
       "      <th></th>\n",
       "      <th>Rajesh</th>\n",
       "      <th>Rehan</th>\n",
       "      <th>Seema</th>\n",
       "    </tr>\n",
       "  </thead>\n",
       "  <tbody>\n",
       "    <tr>\n",
       "      <th>English</th>\n",
       "      <td>89</td>\n",
       "      <td>82</td>\n",
       "      <td>68</td>\n",
       "    </tr>\n",
       "    <tr>\n",
       "      <th>Maths</th>\n",
       "      <td>68</td>\n",
       "      <td>69</td>\n",
       "      <td>89</td>\n",
       "    </tr>\n",
       "    <tr>\n",
       "      <th>Science</th>\n",
       "      <td>91</td>\n",
       "      <td>73</td>\n",
       "      <td>78</td>\n",
       "    </tr>\n",
       "    <tr>\n",
       "      <th>SST</th>\n",
       "      <td>88</td>\n",
       "      <td>88</td>\n",
       "      <td>72</td>\n",
       "    </tr>\n",
       "    <tr>\n",
       "      <th>Hindi</th>\n",
       "      <td>75</td>\n",
       "      <td>90</td>\n",
       "      <td>84</td>\n",
       "    </tr>\n",
       "    <tr>\n",
       "      <th>IT</th>\n",
       "      <td>70</td>\n",
       "      <td>60</td>\n",
       "      <td>73</td>\n",
       "    </tr>\n",
       "    <tr>\n",
       "      <th>6</th>\n",
       "      <td>45</td>\n",
       "      <td>45</td>\n",
       "      <td>45</td>\n",
       "    </tr>\n",
       "  </tbody>\n",
       "</table>\n",
       "</div>"
      ],
      "text/plain": [
       "         Rajesh  Rehan  Seema\n",
       "English      89     82     68\n",
       "Maths        68     69     89\n",
       "Science      91     73     78\n",
       "SST          88     88     72\n",
       "Hindi        75     90     84\n",
       "IT           70     60     73\n",
       "6            45     45     45"
      ]
     },
     "execution_count": 8,
     "metadata": {},
     "output_type": "execute_result"
    }
   ],
   "source": [
    "# .loc[] method can be used to change the existing values to a common value if that row already exist\n",
    "df8.loc[6]=45\n",
    "df8"
   ]
  },
  {
   "cell_type": "code",
   "execution_count": 9,
   "metadata": {},
   "outputs": [
    {
     "data": {
      "text/html": [
       "<div>\n",
       "<style scoped>\n",
       "    .dataframe tbody tr th:only-of-type {\n",
       "        vertical-align: middle;\n",
       "    }\n",
       "\n",
       "    .dataframe tbody tr th {\n",
       "        vertical-align: top;\n",
       "    }\n",
       "\n",
       "    .dataframe thead th {\n",
       "        text-align: right;\n",
       "    }\n",
       "</style>\n",
       "<table border=\"1\" class=\"dataframe\">\n",
       "  <thead>\n",
       "    <tr style=\"text-align: right;\">\n",
       "      <th></th>\n",
       "      <th>Rajesh</th>\n",
       "      <th>Rehan</th>\n",
       "      <th>Seema</th>\n",
       "    </tr>\n",
       "  </thead>\n",
       "  <tbody>\n",
       "    <tr>\n",
       "      <th>English</th>\n",
       "      <td>70</td>\n",
       "      <td>70</td>\n",
       "      <td>70</td>\n",
       "    </tr>\n",
       "    <tr>\n",
       "      <th>Maths</th>\n",
       "      <td>70</td>\n",
       "      <td>70</td>\n",
       "      <td>70</td>\n",
       "    </tr>\n",
       "    <tr>\n",
       "      <th>Science</th>\n",
       "      <td>70</td>\n",
       "      <td>70</td>\n",
       "      <td>70</td>\n",
       "    </tr>\n",
       "    <tr>\n",
       "      <th>SST</th>\n",
       "      <td>70</td>\n",
       "      <td>70</td>\n",
       "      <td>70</td>\n",
       "    </tr>\n",
       "    <tr>\n",
       "      <th>Hindi</th>\n",
       "      <td>70</td>\n",
       "      <td>70</td>\n",
       "      <td>70</td>\n",
       "    </tr>\n",
       "    <tr>\n",
       "      <th>IT</th>\n",
       "      <td>70</td>\n",
       "      <td>70</td>\n",
       "      <td>70</td>\n",
       "    </tr>\n",
       "    <tr>\n",
       "      <th>6</th>\n",
       "      <td>70</td>\n",
       "      <td>70</td>\n",
       "      <td>70</td>\n",
       "    </tr>\n",
       "  </tbody>\n",
       "</table>\n",
       "</div>"
      ],
      "text/plain": [
       "         Rajesh  Rehan  Seema\n",
       "English      70     70     70\n",
       "Maths        70     70     70\n",
       "Science      70     70     70\n",
       "SST          70     70     70\n",
       "Hindi        70     70     70\n",
       "IT           70     70     70\n",
       "6            70     70     70"
      ]
     },
     "execution_count": 9,
     "metadata": {},
     "output_type": "execute_result"
    }
   ],
   "source": [
    "# .loc[] method can also be used to change all the values \n",
    "df8.loc[:]=70\n",
    "df8"
   ]
  },
  {
   "cell_type": "code",
   "execution_count": 18,
   "metadata": {},
   "outputs": [
    {
     "name": "stdout",
     "output_type": "stream",
     "text": [
      "    A\n",
      "a  14\n",
      "b  15\n",
      "c  16\n",
      "a   4\n",
      "b   5\n",
      "c   6\n"
     ]
    }
   ],
   "source": [
    "# adding a new row in the dataframe using append method\n",
    "import pandas as pd \n",
    "df1 = pd.DataFrame(data=[4,5,6],index=['a','b','c'],columns=['A'])\n",
    "df2 = pd.DataFrame(data=[14,15,16], index=['a','b','c'],columns=['A'])\n",
    "print(df2.append(df1))"
   ]
  },
  {
   "cell_type": "code",
   "execution_count": 44,
   "metadata": {},
   "outputs": [
    {
     "name": "stdout",
     "output_type": "stream",
     "text": [
      "    A\n",
      "0  14\n",
      "1  15\n",
      "2  16\n",
      "3  17\n",
      "4   4\n",
      "5   5\n",
      "6   6\n",
      "7   7\n"
     ]
    }
   ],
   "source": [
    "# adding a new row in the dataframe using append method by ignoring index\n",
    "import pandas as pd \n",
    "df1 = pd.DataFrame(data=[4,5,6,7],index=['a','b','c','d'],columns=['A'])\n",
    "df2 = pd.DataFrame(data=[14,15,16,17], index=['a','b','c','d'],columns=['A'])\n",
    "print(df2.append(df1,ignore_index=True))"
   ]
  },
  {
   "cell_type": "code",
   "execution_count": 3,
   "metadata": {},
   "outputs": [
    {
     "name": "stdout",
     "output_type": "stream",
     "text": [
      "         Rajesh  Rehan  Seema\n",
      "English      89     82     68\n",
      "Maths        68     69     89\n",
      "Science      91     73     78\n",
      "SST          88     88     72\n",
      "Hindi        75     90     84\n"
     ]
    }
   ],
   "source": [
    "# assume the dataframe given below for adding a column name \n",
    "import pandas as pd\n",
    "d1={'Rajesh':[89,68,91,88,75],'Seema':[68,89,78,72,84],'Rehan':[82,69,73,88,90]}\n",
    "df8=pd.DataFrame(d1,columns=['Rajesh','Rehan','Seema'],index=['English','Maths','Science','SST','Hindi'])\n",
    "print(df8)\n"
   ]
  },
  {
   "cell_type": "code",
   "execution_count": 4,
   "metadata": {},
   "outputs": [
    {
     "data": {
      "text/html": [
       "<div>\n",
       "<style scoped>\n",
       "    .dataframe tbody tr th:only-of-type {\n",
       "        vertical-align: middle;\n",
       "    }\n",
       "\n",
       "    .dataframe tbody tr th {\n",
       "        vertical-align: top;\n",
       "    }\n",
       "\n",
       "    .dataframe thead th {\n",
       "        text-align: right;\n",
       "    }\n",
       "</style>\n",
       "<table border=\"1\" class=\"dataframe\">\n",
       "  <thead>\n",
       "    <tr style=\"text-align: right;\">\n",
       "      <th></th>\n",
       "      <th>Rajesh</th>\n",
       "      <th>Rehan</th>\n",
       "      <th>Seema</th>\n",
       "      <th>Ruchi</th>\n",
       "    </tr>\n",
       "  </thead>\n",
       "  <tbody>\n",
       "    <tr>\n",
       "      <th>English</th>\n",
       "      <td>89</td>\n",
       "      <td>82</td>\n",
       "      <td>68</td>\n",
       "      <td>88</td>\n",
       "    </tr>\n",
       "    <tr>\n",
       "      <th>Maths</th>\n",
       "      <td>68</td>\n",
       "      <td>69</td>\n",
       "      <td>89</td>\n",
       "      <td>67</td>\n",
       "    </tr>\n",
       "    <tr>\n",
       "      <th>Science</th>\n",
       "      <td>91</td>\n",
       "      <td>73</td>\n",
       "      <td>78</td>\n",
       "      <td>77</td>\n",
       "    </tr>\n",
       "    <tr>\n",
       "      <th>SST</th>\n",
       "      <td>88</td>\n",
       "      <td>88</td>\n",
       "      <td>72</td>\n",
       "      <td>92</td>\n",
       "    </tr>\n",
       "    <tr>\n",
       "      <th>Hindi</th>\n",
       "      <td>75</td>\n",
       "      <td>90</td>\n",
       "      <td>84</td>\n",
       "      <td>84</td>\n",
       "    </tr>\n",
       "  </tbody>\n",
       "</table>\n",
       "</div>"
      ],
      "text/plain": [
       "         Rajesh  Rehan  Seema  Ruchi\n",
       "English      89     82     68     88\n",
       "Maths        68     69     89     67\n",
       "Science      91     73     78     77\n",
       "SST          88     88     72     92\n",
       "Hindi        75     90     84     84"
      ]
     },
     "execution_count": 4,
     "metadata": {},
     "output_type": "execute_result"
    }
   ],
   "source": [
    "# adding a column using insert method \n",
    "df8.insert(3,\"Ruchi\",[88,67,77,92,84])\n",
    "df8"
   ]
  },
  {
   "cell_type": "code",
   "execution_count": 5,
   "metadata": {},
   "outputs": [
    {
     "data": {
      "text/html": [
       "<div>\n",
       "<style scoped>\n",
       "    .dataframe tbody tr th:only-of-type {\n",
       "        vertical-align: middle;\n",
       "    }\n",
       "\n",
       "    .dataframe tbody tr th {\n",
       "        vertical-align: top;\n",
       "    }\n",
       "\n",
       "    .dataframe thead th {\n",
       "        text-align: right;\n",
       "    }\n",
       "</style>\n",
       "<table border=\"1\" class=\"dataframe\">\n",
       "  <thead>\n",
       "    <tr style=\"text-align: right;\">\n",
       "      <th></th>\n",
       "      <th>Rajesh</th>\n",
       "      <th>Rehan</th>\n",
       "      <th>Seema</th>\n",
       "      <th>Ruchi</th>\n",
       "      <th>Ashish</th>\n",
       "    </tr>\n",
       "  </thead>\n",
       "  <tbody>\n",
       "    <tr>\n",
       "      <th>English</th>\n",
       "      <td>89</td>\n",
       "      <td>82</td>\n",
       "      <td>68</td>\n",
       "      <td>88</td>\n",
       "      <td>91</td>\n",
       "    </tr>\n",
       "    <tr>\n",
       "      <th>Maths</th>\n",
       "      <td>68</td>\n",
       "      <td>69</td>\n",
       "      <td>89</td>\n",
       "      <td>67</td>\n",
       "      <td>87</td>\n",
       "    </tr>\n",
       "    <tr>\n",
       "      <th>Science</th>\n",
       "      <td>91</td>\n",
       "      <td>73</td>\n",
       "      <td>78</td>\n",
       "      <td>77</td>\n",
       "      <td>83</td>\n",
       "    </tr>\n",
       "    <tr>\n",
       "      <th>SST</th>\n",
       "      <td>88</td>\n",
       "      <td>88</td>\n",
       "      <td>72</td>\n",
       "      <td>92</td>\n",
       "      <td>94</td>\n",
       "    </tr>\n",
       "    <tr>\n",
       "      <th>Hindi</th>\n",
       "      <td>75</td>\n",
       "      <td>90</td>\n",
       "      <td>84</td>\n",
       "      <td>84</td>\n",
       "      <td>96</td>\n",
       "    </tr>\n",
       "  </tbody>\n",
       "</table>\n",
       "</div>"
      ],
      "text/plain": [
       "         Rajesh  Rehan  Seema  Ruchi  Ashish\n",
       "English      89     82     68     88      91\n",
       "Maths        68     69     89     67      87\n",
       "Science      91     73     78     77      83\n",
       "SST          88     88     72     92      94\n",
       "Hindi        75     90     84     84      96"
      ]
     },
     "execution_count": 5,
     "metadata": {},
     "output_type": "execute_result"
    }
   ],
   "source": [
    "# adding a column by assigning directly  \n",
    "df8['Ashish']=[91,87,83,94,96]\n",
    "df8"
   ]
  },
  {
   "cell_type": "code",
   "execution_count": 6,
   "metadata": {},
   "outputs": [
    {
     "data": {
      "text/html": [
       "<div>\n",
       "<style scoped>\n",
       "    .dataframe tbody tr th:only-of-type {\n",
       "        vertical-align: middle;\n",
       "    }\n",
       "\n",
       "    .dataframe tbody tr th {\n",
       "        vertical-align: top;\n",
       "    }\n",
       "\n",
       "    .dataframe thead th {\n",
       "        text-align: right;\n",
       "    }\n",
       "</style>\n",
       "<table border=\"1\" class=\"dataframe\">\n",
       "  <thead>\n",
       "    <tr style=\"text-align: right;\">\n",
       "      <th></th>\n",
       "      <th>Rajesh</th>\n",
       "      <th>Rehan</th>\n",
       "      <th>Seema</th>\n",
       "      <th>Ruchi</th>\n",
       "      <th>Ashish</th>\n",
       "    </tr>\n",
       "  </thead>\n",
       "  <tbody>\n",
       "    <tr>\n",
       "      <th>English</th>\n",
       "      <td>89</td>\n",
       "      <td>82</td>\n",
       "      <td>68</td>\n",
       "      <td>88</td>\n",
       "      <td>81</td>\n",
       "    </tr>\n",
       "    <tr>\n",
       "      <th>Maths</th>\n",
       "      <td>68</td>\n",
       "      <td>69</td>\n",
       "      <td>89</td>\n",
       "      <td>67</td>\n",
       "      <td>82</td>\n",
       "    </tr>\n",
       "    <tr>\n",
       "      <th>Science</th>\n",
       "      <td>91</td>\n",
       "      <td>73</td>\n",
       "      <td>78</td>\n",
       "      <td>77</td>\n",
       "      <td>83</td>\n",
       "    </tr>\n",
       "    <tr>\n",
       "      <th>SST</th>\n",
       "      <td>88</td>\n",
       "      <td>88</td>\n",
       "      <td>72</td>\n",
       "      <td>92</td>\n",
       "      <td>84</td>\n",
       "    </tr>\n",
       "    <tr>\n",
       "      <th>Hindi</th>\n",
       "      <td>75</td>\n",
       "      <td>90</td>\n",
       "      <td>84</td>\n",
       "      <td>84</td>\n",
       "      <td>85</td>\n",
       "    </tr>\n",
       "  </tbody>\n",
       "</table>\n",
       "</div>"
      ],
      "text/plain": [
       "         Rajesh  Rehan  Seema  Ruchi  Ashish\n",
       "English      89     82     68     88      81\n",
       "Maths        68     69     89     67      82\n",
       "Science      91     73     78     77      83\n",
       "SST          88     88     72     92      84\n",
       "Hindi        75     90     84     84      85"
      ]
     },
     "execution_count": 6,
     "metadata": {},
     "output_type": "execute_result"
    }
   ],
   "source": [
    "# If the column already exists in the DataFrame then the assignment statement \n",
    "# will update the values of the already existing column\n",
    "df8['Ashish']=[81,82,83,84,85]\n",
    "df8"
   ]
  },
  {
   "cell_type": "code",
   "execution_count": 7,
   "metadata": {},
   "outputs": [
    {
     "data": {
      "text/html": [
       "<div>\n",
       "<style scoped>\n",
       "    .dataframe tbody tr th:only-of-type {\n",
       "        vertical-align: middle;\n",
       "    }\n",
       "\n",
       "    .dataframe tbody tr th {\n",
       "        vertical-align: top;\n",
       "    }\n",
       "\n",
       "    .dataframe thead th {\n",
       "        text-align: right;\n",
       "    }\n",
       "</style>\n",
       "<table border=\"1\" class=\"dataframe\">\n",
       "  <thead>\n",
       "    <tr style=\"text-align: right;\">\n",
       "      <th></th>\n",
       "      <th>Rajesh</th>\n",
       "      <th>Rehan</th>\n",
       "      <th>Seema</th>\n",
       "      <th>Ruchi</th>\n",
       "      <th>Ashish</th>\n",
       "      <th>Sonia</th>\n",
       "    </tr>\n",
       "  </thead>\n",
       "  <tbody>\n",
       "    <tr>\n",
       "      <th>English</th>\n",
       "      <td>89</td>\n",
       "      <td>82</td>\n",
       "      <td>68</td>\n",
       "      <td>88</td>\n",
       "      <td>81</td>\n",
       "      <td>78</td>\n",
       "    </tr>\n",
       "    <tr>\n",
       "      <th>Maths</th>\n",
       "      <td>68</td>\n",
       "      <td>69</td>\n",
       "      <td>89</td>\n",
       "      <td>67</td>\n",
       "      <td>82</td>\n",
       "      <td>75</td>\n",
       "    </tr>\n",
       "    <tr>\n",
       "      <th>Science</th>\n",
       "      <td>91</td>\n",
       "      <td>73</td>\n",
       "      <td>78</td>\n",
       "      <td>77</td>\n",
       "      <td>83</td>\n",
       "      <td>72</td>\n",
       "    </tr>\n",
       "    <tr>\n",
       "      <th>SST</th>\n",
       "      <td>88</td>\n",
       "      <td>88</td>\n",
       "      <td>72</td>\n",
       "      <td>92</td>\n",
       "      <td>84</td>\n",
       "      <td>69</td>\n",
       "    </tr>\n",
       "    <tr>\n",
       "      <th>Hindi</th>\n",
       "      <td>75</td>\n",
       "      <td>90</td>\n",
       "      <td>84</td>\n",
       "      <td>84</td>\n",
       "      <td>85</td>\n",
       "      <td>87</td>\n",
       "    </tr>\n",
       "  </tbody>\n",
       "</table>\n",
       "</div>"
      ],
      "text/plain": [
       "         Rajesh  Rehan  Seema  Ruchi  Ashish  Sonia\n",
       "English      89     82     68     88      81     78\n",
       "Maths        68     69     89     67      82     75\n",
       "Science      91     73     78     77      83     72\n",
       "SST          88     88     72     92      84     69\n",
       "Hindi        75     90     84     84      85     87"
      ]
     },
     "execution_count": 7,
     "metadata": {},
     "output_type": "execute_result"
    }
   ],
   "source": [
    "# . loc[] method for creating a  new column\n",
    "df8.loc[:,'Sonia']=[78,75,72,69,87]\n",
    "df8"
   ]
  },
  {
   "cell_type": "code",
   "execution_count": 8,
   "metadata": {},
   "outputs": [
    {
     "data": {
      "text/html": [
       "<div>\n",
       "<style scoped>\n",
       "    .dataframe tbody tr th:only-of-type {\n",
       "        vertical-align: middle;\n",
       "    }\n",
       "\n",
       "    .dataframe tbody tr th {\n",
       "        vertical-align: top;\n",
       "    }\n",
       "\n",
       "    .dataframe thead th {\n",
       "        text-align: right;\n",
       "    }\n",
       "</style>\n",
       "<table border=\"1\" class=\"dataframe\">\n",
       "  <thead>\n",
       "    <tr style=\"text-align: right;\">\n",
       "      <th></th>\n",
       "      <th>Rajesh</th>\n",
       "      <th>Rehan</th>\n",
       "      <th>Seema</th>\n",
       "      <th>Ruchi</th>\n",
       "      <th>Ashish</th>\n",
       "      <th>Sonia</th>\n",
       "      <th>Sheena</th>\n",
       "      <th>Reema</th>\n",
       "    </tr>\n",
       "  </thead>\n",
       "  <tbody>\n",
       "    <tr>\n",
       "      <th>English</th>\n",
       "      <td>89</td>\n",
       "      <td>82</td>\n",
       "      <td>68</td>\n",
       "      <td>88</td>\n",
       "      <td>81</td>\n",
       "      <td>78</td>\n",
       "      <td>98</td>\n",
       "      <td>98</td>\n",
       "    </tr>\n",
       "    <tr>\n",
       "      <th>Maths</th>\n",
       "      <td>68</td>\n",
       "      <td>69</td>\n",
       "      <td>89</td>\n",
       "      <td>67</td>\n",
       "      <td>82</td>\n",
       "      <td>75</td>\n",
       "      <td>98</td>\n",
       "      <td>98</td>\n",
       "    </tr>\n",
       "    <tr>\n",
       "      <th>Science</th>\n",
       "      <td>91</td>\n",
       "      <td>73</td>\n",
       "      <td>78</td>\n",
       "      <td>77</td>\n",
       "      <td>83</td>\n",
       "      <td>72</td>\n",
       "      <td>98</td>\n",
       "      <td>98</td>\n",
       "    </tr>\n",
       "    <tr>\n",
       "      <th>SST</th>\n",
       "      <td>88</td>\n",
       "      <td>88</td>\n",
       "      <td>72</td>\n",
       "      <td>92</td>\n",
       "      <td>84</td>\n",
       "      <td>69</td>\n",
       "      <td>98</td>\n",
       "      <td>98</td>\n",
       "    </tr>\n",
       "    <tr>\n",
       "      <th>Hindi</th>\n",
       "      <td>75</td>\n",
       "      <td>90</td>\n",
       "      <td>84</td>\n",
       "      <td>84</td>\n",
       "      <td>85</td>\n",
       "      <td>87</td>\n",
       "      <td>98</td>\n",
       "      <td>98</td>\n",
       "    </tr>\n",
       "  </tbody>\n",
       "</table>\n",
       "</div>"
      ],
      "text/plain": [
       "         Rajesh  Rehan  Seema  Ruchi  Ashish  Sonia  Sheena  Reema\n",
       "English      89     82     68     88      81     78      98     98\n",
       "Maths        68     69     89     67      82     75      98     98\n",
       "Science      91     73     78     77      83     72      98     98\n",
       "SST          88     88     72     92      84     69      98     98\n",
       "Hindi        75     90     84     84      85     87      98     98"
      ]
     },
     "execution_count": 8,
     "metadata": {},
     "output_type": "execute_result"
    }
   ],
   "source": [
    "#adding mutiple columns\n",
    "df8[['Sheena','Reema']]=98\n",
    "df8"
   ]
  },
  {
   "cell_type": "code",
   "execution_count": 19,
   "metadata": {},
   "outputs": [
    {
     "ename": "ValueError",
     "evalue": "cannot set a row with mismatched columns",
     "output_type": "error",
     "traceback": [
      "\u001b[1;31m---------------------------------------------------------------------------\u001b[0m",
      "\u001b[1;31mValueError\u001b[0m                                Traceback (most recent call last)",
      "\u001b[1;32m<ipython-input-19-a16f4a9f6660>\u001b[0m in \u001b[0;36m<module>\u001b[1;34m\u001b[0m\n\u001b[0;32m      1\u001b[0m \u001b[1;31m# Value error occurs when the values are mismatching.\u001b[0m\u001b[1;33m\u001b[0m\u001b[1;33m\u001b[0m\u001b[1;33m\u001b[0m\u001b[0m\n\u001b[1;32m----> 2\u001b[1;33m \u001b[0mdf8\u001b[0m\u001b[1;33m.\u001b[0m\u001b[0mloc\u001b[0m\u001b[1;33m[\u001b[0m\u001b[1;34m'CS'\u001b[0m\u001b[1;33m]\u001b[0m\u001b[1;33m=\u001b[0m\u001b[1;33m[\u001b[0m\u001b[1;36m70\u001b[0m\u001b[1;33m,\u001b[0m\u001b[1;36m60\u001b[0m\u001b[1;33m,\u001b[0m\u001b[1;36m73\u001b[0m\u001b[1;33m,\u001b[0m\u001b[1;36m89\u001b[0m\u001b[1;33m,\u001b[0m\u001b[1;36m97\u001b[0m\u001b[1;33m,\u001b[0m\u001b[1;36m45\u001b[0m\u001b[1;33m,\u001b[0m\u001b[1;36m58\u001b[0m\u001b[1;33m]\u001b[0m\u001b[1;33m\u001b[0m\u001b[1;33m\u001b[0m\u001b[0m\n\u001b[0m\u001b[0;32m      3\u001b[0m \u001b[0mdf8\u001b[0m\u001b[1;33m\u001b[0m\u001b[1;33m\u001b[0m\u001b[0m\n",
      "\u001b[1;32mC:\\ProgramData\\Anaconda3\\lib\\site-packages\\pandas\\core\\indexing.py\u001b[0m in \u001b[0;36m__setitem__\u001b[1;34m(self, key, value)\u001b[0m\n\u001b[0;32m    668\u001b[0m \u001b[1;33m\u001b[0m\u001b[0m\n\u001b[0;32m    669\u001b[0m         \u001b[0miloc\u001b[0m \u001b[1;33m=\u001b[0m \u001b[0mself\u001b[0m \u001b[1;32mif\u001b[0m \u001b[0mself\u001b[0m\u001b[1;33m.\u001b[0m\u001b[0mname\u001b[0m \u001b[1;33m==\u001b[0m \u001b[1;34m\"iloc\"\u001b[0m \u001b[1;32melse\u001b[0m \u001b[0mself\u001b[0m\u001b[1;33m.\u001b[0m\u001b[0mobj\u001b[0m\u001b[1;33m.\u001b[0m\u001b[0miloc\u001b[0m\u001b[1;33m\u001b[0m\u001b[1;33m\u001b[0m\u001b[0m\n\u001b[1;32m--> 670\u001b[1;33m         \u001b[0miloc\u001b[0m\u001b[1;33m.\u001b[0m\u001b[0m_setitem_with_indexer\u001b[0m\u001b[1;33m(\u001b[0m\u001b[0mindexer\u001b[0m\u001b[1;33m,\u001b[0m \u001b[0mvalue\u001b[0m\u001b[1;33m)\u001b[0m\u001b[1;33m\u001b[0m\u001b[1;33m\u001b[0m\u001b[0m\n\u001b[0m\u001b[0;32m    671\u001b[0m \u001b[1;33m\u001b[0m\u001b[0m\n\u001b[0;32m    672\u001b[0m     \u001b[1;32mdef\u001b[0m \u001b[0m_validate_key\u001b[0m\u001b[1;33m(\u001b[0m\u001b[0mself\u001b[0m\u001b[1;33m,\u001b[0m \u001b[0mkey\u001b[0m\u001b[1;33m,\u001b[0m \u001b[0maxis\u001b[0m\u001b[1;33m:\u001b[0m \u001b[0mint\u001b[0m\u001b[1;33m)\u001b[0m\u001b[1;33m:\u001b[0m\u001b[1;33m\u001b[0m\u001b[1;33m\u001b[0m\u001b[0m\n",
      "\u001b[1;32mC:\\ProgramData\\Anaconda3\\lib\\site-packages\\pandas\\core\\indexing.py\u001b[0m in \u001b[0;36m_setitem_with_indexer\u001b[1;34m(self, indexer, value)\u001b[0m\n\u001b[0;32m   1624\u001b[0m \u001b[1;33m\u001b[0m\u001b[0m\n\u001b[0;32m   1625\u001b[0m             \u001b[1;32mif\u001b[0m \u001b[0mmissing\u001b[0m\u001b[1;33m:\u001b[0m\u001b[1;33m\u001b[0m\u001b[1;33m\u001b[0m\u001b[0m\n\u001b[1;32m-> 1626\u001b[1;33m                 \u001b[0mself\u001b[0m\u001b[1;33m.\u001b[0m\u001b[0m_setitem_with_indexer_missing\u001b[0m\u001b[1;33m(\u001b[0m\u001b[0mindexer\u001b[0m\u001b[1;33m,\u001b[0m \u001b[0mvalue\u001b[0m\u001b[1;33m)\u001b[0m\u001b[1;33m\u001b[0m\u001b[1;33m\u001b[0m\u001b[0m\n\u001b[0m\u001b[0;32m   1627\u001b[0m                 \u001b[1;32mreturn\u001b[0m\u001b[1;33m\u001b[0m\u001b[1;33m\u001b[0m\u001b[0m\n\u001b[0;32m   1628\u001b[0m \u001b[1;33m\u001b[0m\u001b[0m\n",
      "\u001b[1;32mC:\\ProgramData\\Anaconda3\\lib\\site-packages\\pandas\\core\\indexing.py\u001b[0m in \u001b[0;36m_setitem_with_indexer_missing\u001b[1;34m(self, indexer, value)\u001b[0m\n\u001b[0;32m   1856\u001b[0m                     \u001b[1;31m# must have conforming columns\u001b[0m\u001b[1;33m\u001b[0m\u001b[1;33m\u001b[0m\u001b[1;33m\u001b[0m\u001b[0m\n\u001b[0;32m   1857\u001b[0m                     \u001b[1;32mif\u001b[0m \u001b[0mlen\u001b[0m\u001b[1;33m(\u001b[0m\u001b[0mvalue\u001b[0m\u001b[1;33m)\u001b[0m \u001b[1;33m!=\u001b[0m \u001b[0mlen\u001b[0m\u001b[1;33m(\u001b[0m\u001b[0mself\u001b[0m\u001b[1;33m.\u001b[0m\u001b[0mobj\u001b[0m\u001b[1;33m.\u001b[0m\u001b[0mcolumns\u001b[0m\u001b[1;33m)\u001b[0m\u001b[1;33m:\u001b[0m\u001b[1;33m\u001b[0m\u001b[1;33m\u001b[0m\u001b[0m\n\u001b[1;32m-> 1858\u001b[1;33m                         \u001b[1;32mraise\u001b[0m \u001b[0mValueError\u001b[0m\u001b[1;33m(\u001b[0m\u001b[1;34m\"cannot set a row with mismatched columns\"\u001b[0m\u001b[1;33m)\u001b[0m\u001b[1;33m\u001b[0m\u001b[1;33m\u001b[0m\u001b[0m\n\u001b[0m\u001b[0;32m   1859\u001b[0m \u001b[1;33m\u001b[0m\u001b[0m\n\u001b[0;32m   1860\u001b[0m                 \u001b[0mvalue\u001b[0m \u001b[1;33m=\u001b[0m \u001b[0mSeries\u001b[0m\u001b[1;33m(\u001b[0m\u001b[0mvalue\u001b[0m\u001b[1;33m,\u001b[0m \u001b[0mindex\u001b[0m\u001b[1;33m=\u001b[0m\u001b[0mself\u001b[0m\u001b[1;33m.\u001b[0m\u001b[0mobj\u001b[0m\u001b[1;33m.\u001b[0m\u001b[0mcolumns\u001b[0m\u001b[1;33m,\u001b[0m \u001b[0mname\u001b[0m\u001b[1;33m=\u001b[0m\u001b[0mindexer\u001b[0m\u001b[1;33m)\u001b[0m\u001b[1;33m\u001b[0m\u001b[1;33m\u001b[0m\u001b[0m\n",
      "\u001b[1;31mValueError\u001b[0m: cannot set a row with mismatched columns"
     ]
    }
   ],
   "source": [
    "# Value error occurs when the values are mismatching.\n",
    "df8.loc['CS']=[70,60,73,89,97,45,58]\n",
    "df8"
   ]
  },
  {
   "cell_type": "code",
   "execution_count": 9,
   "metadata": {},
   "outputs": [
    {
     "ename": "ValueError",
     "evalue": "Length of values (6) does not match length of index (5)",
     "output_type": "error",
     "traceback": [
      "\u001b[1;31m---------------------------------------------------------------------------\u001b[0m",
      "\u001b[1;31mValueError\u001b[0m                                Traceback (most recent call last)",
      "\u001b[1;32m<ipython-input-9-ec5b7f52059a>\u001b[0m in \u001b[0;36m<module>\u001b[1;34m\u001b[0m\n\u001b[0;32m      1\u001b[0m \u001b[1;31m# Value error occurs when the no of values are mismatching while adding a column\u001b[0m\u001b[1;33m\u001b[0m\u001b[1;33m\u001b[0m\u001b[1;33m\u001b[0m\u001b[0m\n\u001b[1;32m----> 2\u001b[1;33m \u001b[0mdf8\u001b[0m\u001b[1;33m[\u001b[0m\u001b[1;34m'AB'\u001b[0m\u001b[1;33m]\u001b[0m\u001b[1;33m=\u001b[0m\u001b[1;33m[\u001b[0m\u001b[1;36m1\u001b[0m\u001b[1;33m,\u001b[0m\u001b[1;36m2\u001b[0m\u001b[1;33m,\u001b[0m\u001b[1;36m3\u001b[0m\u001b[1;33m,\u001b[0m\u001b[1;36m4\u001b[0m\u001b[1;33m,\u001b[0m\u001b[1;36m5\u001b[0m\u001b[1;33m,\u001b[0m\u001b[1;36m6\u001b[0m\u001b[1;33m]\u001b[0m\u001b[1;33m\u001b[0m\u001b[1;33m\u001b[0m\u001b[0m\n\u001b[0m\u001b[0;32m      3\u001b[0m \u001b[0mdf8\u001b[0m\u001b[1;33m\u001b[0m\u001b[1;33m\u001b[0m\u001b[0m\n",
      "\u001b[1;32mD:\\Anaconda-Personal\\lib\\site-packages\\pandas\\core\\frame.py\u001b[0m in \u001b[0;36m__setitem__\u001b[1;34m(self, key, value)\u001b[0m\n\u001b[0;32m   3038\u001b[0m         \u001b[1;32melse\u001b[0m\u001b[1;33m:\u001b[0m\u001b[1;33m\u001b[0m\u001b[1;33m\u001b[0m\u001b[0m\n\u001b[0;32m   3039\u001b[0m             \u001b[1;31m# set column\u001b[0m\u001b[1;33m\u001b[0m\u001b[1;33m\u001b[0m\u001b[1;33m\u001b[0m\u001b[0m\n\u001b[1;32m-> 3040\u001b[1;33m             \u001b[0mself\u001b[0m\u001b[1;33m.\u001b[0m\u001b[0m_set_item\u001b[0m\u001b[1;33m(\u001b[0m\u001b[0mkey\u001b[0m\u001b[1;33m,\u001b[0m \u001b[0mvalue\u001b[0m\u001b[1;33m)\u001b[0m\u001b[1;33m\u001b[0m\u001b[1;33m\u001b[0m\u001b[0m\n\u001b[0m\u001b[0;32m   3041\u001b[0m \u001b[1;33m\u001b[0m\u001b[0m\n\u001b[0;32m   3042\u001b[0m     \u001b[1;32mdef\u001b[0m \u001b[0m_setitem_slice\u001b[0m\u001b[1;33m(\u001b[0m\u001b[0mself\u001b[0m\u001b[1;33m,\u001b[0m \u001b[0mkey\u001b[0m\u001b[1;33m:\u001b[0m \u001b[0mslice\u001b[0m\u001b[1;33m,\u001b[0m \u001b[0mvalue\u001b[0m\u001b[1;33m)\u001b[0m\u001b[1;33m:\u001b[0m\u001b[1;33m\u001b[0m\u001b[1;33m\u001b[0m\u001b[0m\n",
      "\u001b[1;32mD:\\Anaconda-Personal\\lib\\site-packages\\pandas\\core\\frame.py\u001b[0m in \u001b[0;36m_set_item\u001b[1;34m(self, key, value)\u001b[0m\n\u001b[0;32m   3114\u001b[0m         \"\"\"\n\u001b[0;32m   3115\u001b[0m         \u001b[0mself\u001b[0m\u001b[1;33m.\u001b[0m\u001b[0m_ensure_valid_index\u001b[0m\u001b[1;33m(\u001b[0m\u001b[0mvalue\u001b[0m\u001b[1;33m)\u001b[0m\u001b[1;33m\u001b[0m\u001b[1;33m\u001b[0m\u001b[0m\n\u001b[1;32m-> 3116\u001b[1;33m         \u001b[0mvalue\u001b[0m \u001b[1;33m=\u001b[0m \u001b[0mself\u001b[0m\u001b[1;33m.\u001b[0m\u001b[0m_sanitize_column\u001b[0m\u001b[1;33m(\u001b[0m\u001b[0mkey\u001b[0m\u001b[1;33m,\u001b[0m \u001b[0mvalue\u001b[0m\u001b[1;33m)\u001b[0m\u001b[1;33m\u001b[0m\u001b[1;33m\u001b[0m\u001b[0m\n\u001b[0m\u001b[0;32m   3117\u001b[0m         \u001b[0mNDFrame\u001b[0m\u001b[1;33m.\u001b[0m\u001b[0m_set_item\u001b[0m\u001b[1;33m(\u001b[0m\u001b[0mself\u001b[0m\u001b[1;33m,\u001b[0m \u001b[0mkey\u001b[0m\u001b[1;33m,\u001b[0m \u001b[0mvalue\u001b[0m\u001b[1;33m)\u001b[0m\u001b[1;33m\u001b[0m\u001b[1;33m\u001b[0m\u001b[0m\n\u001b[0;32m   3118\u001b[0m \u001b[1;33m\u001b[0m\u001b[0m\n",
      "\u001b[1;32mD:\\Anaconda-Personal\\lib\\site-packages\\pandas\\core\\frame.py\u001b[0m in \u001b[0;36m_sanitize_column\u001b[1;34m(self, key, value, broadcast)\u001b[0m\n\u001b[0;32m   3762\u001b[0m \u001b[1;33m\u001b[0m\u001b[0m\n\u001b[0;32m   3763\u001b[0m             \u001b[1;31m# turn me into an ndarray\u001b[0m\u001b[1;33m\u001b[0m\u001b[1;33m\u001b[0m\u001b[1;33m\u001b[0m\u001b[0m\n\u001b[1;32m-> 3764\u001b[1;33m             \u001b[0mvalue\u001b[0m \u001b[1;33m=\u001b[0m \u001b[0msanitize_index\u001b[0m\u001b[1;33m(\u001b[0m\u001b[0mvalue\u001b[0m\u001b[1;33m,\u001b[0m \u001b[0mself\u001b[0m\u001b[1;33m.\u001b[0m\u001b[0mindex\u001b[0m\u001b[1;33m)\u001b[0m\u001b[1;33m\u001b[0m\u001b[1;33m\u001b[0m\u001b[0m\n\u001b[0m\u001b[0;32m   3765\u001b[0m             \u001b[1;32mif\u001b[0m \u001b[1;32mnot\u001b[0m \u001b[0misinstance\u001b[0m\u001b[1;33m(\u001b[0m\u001b[0mvalue\u001b[0m\u001b[1;33m,\u001b[0m \u001b[1;33m(\u001b[0m\u001b[0mnp\u001b[0m\u001b[1;33m.\u001b[0m\u001b[0mndarray\u001b[0m\u001b[1;33m,\u001b[0m \u001b[0mIndex\u001b[0m\u001b[1;33m)\u001b[0m\u001b[1;33m)\u001b[0m\u001b[1;33m:\u001b[0m\u001b[1;33m\u001b[0m\u001b[1;33m\u001b[0m\u001b[0m\n\u001b[0;32m   3766\u001b[0m                 \u001b[1;32mif\u001b[0m \u001b[0misinstance\u001b[0m\u001b[1;33m(\u001b[0m\u001b[0mvalue\u001b[0m\u001b[1;33m,\u001b[0m \u001b[0mlist\u001b[0m\u001b[1;33m)\u001b[0m \u001b[1;32mand\u001b[0m \u001b[0mlen\u001b[0m\u001b[1;33m(\u001b[0m\u001b[0mvalue\u001b[0m\u001b[1;33m)\u001b[0m \u001b[1;33m>\u001b[0m \u001b[1;36m0\u001b[0m\u001b[1;33m:\u001b[0m\u001b[1;33m\u001b[0m\u001b[1;33m\u001b[0m\u001b[0m\n",
      "\u001b[1;32mD:\\Anaconda-Personal\\lib\\site-packages\\pandas\\core\\internals\\construction.py\u001b[0m in \u001b[0;36msanitize_index\u001b[1;34m(data, index)\u001b[0m\n\u001b[0;32m    745\u001b[0m     \"\"\"\n\u001b[0;32m    746\u001b[0m     \u001b[1;32mif\u001b[0m \u001b[0mlen\u001b[0m\u001b[1;33m(\u001b[0m\u001b[0mdata\u001b[0m\u001b[1;33m)\u001b[0m \u001b[1;33m!=\u001b[0m \u001b[0mlen\u001b[0m\u001b[1;33m(\u001b[0m\u001b[0mindex\u001b[0m\u001b[1;33m)\u001b[0m\u001b[1;33m:\u001b[0m\u001b[1;33m\u001b[0m\u001b[1;33m\u001b[0m\u001b[0m\n\u001b[1;32m--> 747\u001b[1;33m         raise ValueError(\n\u001b[0m\u001b[0;32m    748\u001b[0m             \u001b[1;34m\"Length of values \"\u001b[0m\u001b[1;33m\u001b[0m\u001b[1;33m\u001b[0m\u001b[0m\n\u001b[0;32m    749\u001b[0m             \u001b[1;34mf\"({len(data)}) \"\u001b[0m\u001b[1;33m\u001b[0m\u001b[1;33m\u001b[0m\u001b[0m\n",
      "\u001b[1;31mValueError\u001b[0m: Length of values (6) does not match length of index (5)"
     ]
    }
   ],
   "source": [
    "# Value error occurs when the no of values are mismatching while adding a column\n",
    "df8['AB']=[1,2,3,4,5,6]\n",
    "df8"
   ]
  },
  {
   "cell_type": "code",
   "execution_count": 10,
   "metadata": {},
   "outputs": [
    {
     "data": {
      "text/html": [
       "<div>\n",
       "<style scoped>\n",
       "    .dataframe tbody tr th:only-of-type {\n",
       "        vertical-align: middle;\n",
       "    }\n",
       "\n",
       "    .dataframe tbody tr th {\n",
       "        vertical-align: top;\n",
       "    }\n",
       "\n",
       "    .dataframe thead th {\n",
       "        text-align: right;\n",
       "    }\n",
       "</style>\n",
       "<table border=\"1\" class=\"dataframe\">\n",
       "  <thead>\n",
       "    <tr style=\"text-align: right;\">\n",
       "      <th></th>\n",
       "      <th>Rajesh</th>\n",
       "      <th>Rehan</th>\n",
       "      <th>Seema</th>\n",
       "      <th>Ruchi</th>\n",
       "      <th>Ashish</th>\n",
       "      <th>Sonia</th>\n",
       "      <th>Sheena</th>\n",
       "      <th>Reema</th>\n",
       "    </tr>\n",
       "  </thead>\n",
       "  <tbody>\n",
       "    <tr>\n",
       "      <th>English</th>\n",
       "      <td>89</td>\n",
       "      <td>82</td>\n",
       "      <td>68</td>\n",
       "      <td>88</td>\n",
       "      <td>81</td>\n",
       "      <td>78</td>\n",
       "      <td>98</td>\n",
       "      <td>98</td>\n",
       "    </tr>\n",
       "    <tr>\n",
       "      <th>Maths</th>\n",
       "      <td>68</td>\n",
       "      <td>69</td>\n",
       "      <td>89</td>\n",
       "      <td>67</td>\n",
       "      <td>82</td>\n",
       "      <td>75</td>\n",
       "      <td>98</td>\n",
       "      <td>98</td>\n",
       "    </tr>\n",
       "    <tr>\n",
       "      <th>Science</th>\n",
       "      <td>91</td>\n",
       "      <td>73</td>\n",
       "      <td>78</td>\n",
       "      <td>77</td>\n",
       "      <td>83</td>\n",
       "      <td>72</td>\n",
       "      <td>98</td>\n",
       "      <td>98</td>\n",
       "    </tr>\n",
       "    <tr>\n",
       "      <th>SST</th>\n",
       "      <td>88</td>\n",
       "      <td>88</td>\n",
       "      <td>72</td>\n",
       "      <td>92</td>\n",
       "      <td>84</td>\n",
       "      <td>69</td>\n",
       "      <td>98</td>\n",
       "      <td>98</td>\n",
       "    </tr>\n",
       "    <tr>\n",
       "      <th>Hindi</th>\n",
       "      <td>75</td>\n",
       "      <td>90</td>\n",
       "      <td>84</td>\n",
       "      <td>84</td>\n",
       "      <td>85</td>\n",
       "      <td>87</td>\n",
       "      <td>98</td>\n",
       "      <td>98</td>\n",
       "    </tr>\n",
       "  </tbody>\n",
       "</table>\n",
       "</div>"
      ],
      "text/plain": [
       "         Rajesh  Rehan  Seema  Ruchi  Ashish  Sonia  Sheena  Reema\n",
       "English      89     82     68     88      81     78      98     98\n",
       "Maths        68     69     89     67      82     75      98     98\n",
       "Science      91     73     78     77      83     72      98     98\n",
       "SST          88     88     72     92      84     69      98     98\n",
       "Hindi        75     90     84     84      85     87      98     98"
      ]
     },
     "execution_count": 10,
     "metadata": {},
     "output_type": "execute_result"
    }
   ],
   "source": [
    "df8"
   ]
  },
  {
   "cell_type": "code",
   "execution_count": 11,
   "metadata": {},
   "outputs": [
    {
     "data": {
      "text/html": [
       "<div>\n",
       "<style scoped>\n",
       "    .dataframe tbody tr th:only-of-type {\n",
       "        vertical-align: middle;\n",
       "    }\n",
       "\n",
       "    .dataframe tbody tr th {\n",
       "        vertical-align: top;\n",
       "    }\n",
       "\n",
       "    .dataframe thead th {\n",
       "        text-align: right;\n",
       "    }\n",
       "</style>\n",
       "<table border=\"1\" class=\"dataframe\">\n",
       "  <thead>\n",
       "    <tr style=\"text-align: right;\">\n",
       "      <th></th>\n",
       "      <th>Rajesh</th>\n",
       "      <th>Seema</th>\n",
       "      <th>Ruchi</th>\n",
       "      <th>Ashish</th>\n",
       "      <th>Sonia</th>\n",
       "      <th>Sheena</th>\n",
       "      <th>Reema</th>\n",
       "    </tr>\n",
       "  </thead>\n",
       "  <tbody>\n",
       "    <tr>\n",
       "      <th>English</th>\n",
       "      <td>89</td>\n",
       "      <td>68</td>\n",
       "      <td>88</td>\n",
       "      <td>81</td>\n",
       "      <td>78</td>\n",
       "      <td>98</td>\n",
       "      <td>98</td>\n",
       "    </tr>\n",
       "    <tr>\n",
       "      <th>Maths</th>\n",
       "      <td>68</td>\n",
       "      <td>89</td>\n",
       "      <td>67</td>\n",
       "      <td>82</td>\n",
       "      <td>75</td>\n",
       "      <td>98</td>\n",
       "      <td>98</td>\n",
       "    </tr>\n",
       "    <tr>\n",
       "      <th>Science</th>\n",
       "      <td>91</td>\n",
       "      <td>78</td>\n",
       "      <td>77</td>\n",
       "      <td>83</td>\n",
       "      <td>72</td>\n",
       "      <td>98</td>\n",
       "      <td>98</td>\n",
       "    </tr>\n",
       "    <tr>\n",
       "      <th>SST</th>\n",
       "      <td>88</td>\n",
       "      <td>72</td>\n",
       "      <td>92</td>\n",
       "      <td>84</td>\n",
       "      <td>69</td>\n",
       "      <td>98</td>\n",
       "      <td>98</td>\n",
       "    </tr>\n",
       "    <tr>\n",
       "      <th>Hindi</th>\n",
       "      <td>75</td>\n",
       "      <td>84</td>\n",
       "      <td>84</td>\n",
       "      <td>85</td>\n",
       "      <td>87</td>\n",
       "      <td>98</td>\n",
       "      <td>98</td>\n",
       "    </tr>\n",
       "  </tbody>\n",
       "</table>\n",
       "</div>"
      ],
      "text/plain": [
       "         Rajesh  Seema  Ruchi  Ashish  Sonia  Sheena  Reema\n",
       "English      89     68     88      81     78      98     98\n",
       "Maths        68     89     67      82     75      98     98\n",
       "Science      91     78     77      83     72      98     98\n",
       "SST          88     72     92      84     69      98     98\n",
       "Hindi        75     84     84      85     87      98     98"
      ]
     },
     "execution_count": 11,
     "metadata": {},
     "output_type": "execute_result"
    }
   ],
   "source": [
    "# to drop column Rehan \n",
    "df9=df8.drop('Rehan',axis=1)\n",
    "df9"
   ]
  },
  {
   "cell_type": "code",
   "execution_count": 12,
   "metadata": {},
   "outputs": [
    {
     "data": {
      "text/html": [
       "<div>\n",
       "<style scoped>\n",
       "    .dataframe tbody tr th:only-of-type {\n",
       "        vertical-align: middle;\n",
       "    }\n",
       "\n",
       "    .dataframe tbody tr th {\n",
       "        vertical-align: top;\n",
       "    }\n",
       "\n",
       "    .dataframe thead th {\n",
       "        text-align: right;\n",
       "    }\n",
       "</style>\n",
       "<table border=\"1\" class=\"dataframe\">\n",
       "  <thead>\n",
       "    <tr style=\"text-align: right;\">\n",
       "      <th></th>\n",
       "      <th>Rajesh</th>\n",
       "      <th>Seema</th>\n",
       "      <th>Ruchi</th>\n",
       "      <th>Ashish</th>\n",
       "      <th>Sonia</th>\n",
       "      <th>Sheena</th>\n",
       "      <th>Reema</th>\n",
       "    </tr>\n",
       "  </thead>\n",
       "  <tbody>\n",
       "    <tr>\n",
       "      <th>English</th>\n",
       "      <td>89</td>\n",
       "      <td>68</td>\n",
       "      <td>88</td>\n",
       "      <td>81</td>\n",
       "      <td>78</td>\n",
       "      <td>98</td>\n",
       "      <td>98</td>\n",
       "    </tr>\n",
       "    <tr>\n",
       "      <th>Maths</th>\n",
       "      <td>68</td>\n",
       "      <td>89</td>\n",
       "      <td>67</td>\n",
       "      <td>82</td>\n",
       "      <td>75</td>\n",
       "      <td>98</td>\n",
       "      <td>98</td>\n",
       "    </tr>\n",
       "    <tr>\n",
       "      <th>Science</th>\n",
       "      <td>91</td>\n",
       "      <td>78</td>\n",
       "      <td>77</td>\n",
       "      <td>83</td>\n",
       "      <td>72</td>\n",
       "      <td>98</td>\n",
       "      <td>98</td>\n",
       "    </tr>\n",
       "    <tr>\n",
       "      <th>Hindi</th>\n",
       "      <td>75</td>\n",
       "      <td>84</td>\n",
       "      <td>84</td>\n",
       "      <td>85</td>\n",
       "      <td>87</td>\n",
       "      <td>98</td>\n",
       "      <td>98</td>\n",
       "    </tr>\n",
       "  </tbody>\n",
       "</table>\n",
       "</div>"
      ],
      "text/plain": [
       "         Rajesh  Seema  Ruchi  Ashish  Sonia  Sheena  Reema\n",
       "English      89     68     88      81     78      98     98\n",
       "Maths        68     89     67      82     75      98     98\n",
       "Science      91     78     77      83     72      98     98\n",
       "Hindi        75     84     84      85     87      98     98"
      ]
     },
     "execution_count": 12,
     "metadata": {},
     "output_type": "execute_result"
    }
   ],
   "source": [
    "# to drop row Science\n",
    "df10=df9.drop('SST',axis=0)\n",
    "df10"
   ]
  },
  {
   "cell_type": "code",
   "execution_count": 13,
   "metadata": {},
   "outputs": [
    {
     "data": {
      "text/html": [
       "<div>\n",
       "<style scoped>\n",
       "    .dataframe tbody tr th:only-of-type {\n",
       "        vertical-align: middle;\n",
       "    }\n",
       "\n",
       "    .dataframe tbody tr th {\n",
       "        vertical-align: top;\n",
       "    }\n",
       "\n",
       "    .dataframe thead th {\n",
       "        text-align: right;\n",
       "    }\n",
       "</style>\n",
       "<table border=\"1\" class=\"dataframe\">\n",
       "  <thead>\n",
       "    <tr style=\"text-align: right;\">\n",
       "      <th></th>\n",
       "      <th>Rajesh</th>\n",
       "      <th>Rehan</th>\n",
       "      <th>Seema</th>\n",
       "      <th>Ruchi</th>\n",
       "      <th>Ashish</th>\n",
       "      <th>Sonia</th>\n",
       "      <th>Sheena</th>\n",
       "      <th>Reema</th>\n",
       "    </tr>\n",
       "  </thead>\n",
       "  <tbody>\n",
       "    <tr>\n",
       "      <th>English</th>\n",
       "      <td>89</td>\n",
       "      <td>82</td>\n",
       "      <td>68</td>\n",
       "      <td>88</td>\n",
       "      <td>81</td>\n",
       "      <td>78</td>\n",
       "      <td>98</td>\n",
       "      <td>98</td>\n",
       "    </tr>\n",
       "    <tr>\n",
       "      <th>Maths</th>\n",
       "      <td>68</td>\n",
       "      <td>69</td>\n",
       "      <td>89</td>\n",
       "      <td>67</td>\n",
       "      <td>82</td>\n",
       "      <td>75</td>\n",
       "      <td>98</td>\n",
       "      <td>98</td>\n",
       "    </tr>\n",
       "    <tr>\n",
       "      <th>Science</th>\n",
       "      <td>91</td>\n",
       "      <td>73</td>\n",
       "      <td>78</td>\n",
       "      <td>77</td>\n",
       "      <td>83</td>\n",
       "      <td>72</td>\n",
       "      <td>98</td>\n",
       "      <td>98</td>\n",
       "    </tr>\n",
       "    <tr>\n",
       "      <th>SST</th>\n",
       "      <td>88</td>\n",
       "      <td>88</td>\n",
       "      <td>72</td>\n",
       "      <td>92</td>\n",
       "      <td>84</td>\n",
       "      <td>69</td>\n",
       "      <td>98</td>\n",
       "      <td>98</td>\n",
       "    </tr>\n",
       "    <tr>\n",
       "      <th>Hindi</th>\n",
       "      <td>75</td>\n",
       "      <td>90</td>\n",
       "      <td>84</td>\n",
       "      <td>84</td>\n",
       "      <td>85</td>\n",
       "      <td>87</td>\n",
       "      <td>98</td>\n",
       "      <td>98</td>\n",
       "    </tr>\n",
       "  </tbody>\n",
       "</table>\n",
       "</div>"
      ],
      "text/plain": [
       "         Rajesh  Rehan  Seema  Ruchi  Ashish  Sonia  Sheena  Reema\n",
       "English      89     82     68     88      81     78      98     98\n",
       "Maths        68     69     89     67      82     75      98     98\n",
       "Science      91     73     78     77      83     72      98     98\n",
       "SST          88     88     72     92      84     69      98     98\n",
       "Hindi        75     90     84     84      85     87      98     98"
      ]
     },
     "execution_count": 13,
     "metadata": {},
     "output_type": "execute_result"
    }
   ],
   "source": [
    "df8"
   ]
  },
  {
   "cell_type": "code",
   "execution_count": 14,
   "metadata": {},
   "outputs": [
    {
     "data": {
      "text/html": [
       "<div>\n",
       "<style scoped>\n",
       "    .dataframe tbody tr th:only-of-type {\n",
       "        vertical-align: middle;\n",
       "    }\n",
       "\n",
       "    .dataframe tbody tr th {\n",
       "        vertical-align: top;\n",
       "    }\n",
       "\n",
       "    .dataframe thead th {\n",
       "        text-align: right;\n",
       "    }\n",
       "</style>\n",
       "<table border=\"1\" class=\"dataframe\">\n",
       "  <thead>\n",
       "    <tr style=\"text-align: right;\">\n",
       "      <th></th>\n",
       "      <th>Rajesh</th>\n",
       "      <th>Seema</th>\n",
       "      <th>Ashish</th>\n",
       "      <th>Sonia</th>\n",
       "      <th>Sheena</th>\n",
       "      <th>Reema</th>\n",
       "    </tr>\n",
       "  </thead>\n",
       "  <tbody>\n",
       "    <tr>\n",
       "      <th>English</th>\n",
       "      <td>89</td>\n",
       "      <td>68</td>\n",
       "      <td>81</td>\n",
       "      <td>78</td>\n",
       "      <td>98</td>\n",
       "      <td>98</td>\n",
       "    </tr>\n",
       "    <tr>\n",
       "      <th>Maths</th>\n",
       "      <td>68</td>\n",
       "      <td>89</td>\n",
       "      <td>82</td>\n",
       "      <td>75</td>\n",
       "      <td>98</td>\n",
       "      <td>98</td>\n",
       "    </tr>\n",
       "    <tr>\n",
       "      <th>Science</th>\n",
       "      <td>91</td>\n",
       "      <td>78</td>\n",
       "      <td>83</td>\n",
       "      <td>72</td>\n",
       "      <td>98</td>\n",
       "      <td>98</td>\n",
       "    </tr>\n",
       "    <tr>\n",
       "      <th>SST</th>\n",
       "      <td>88</td>\n",
       "      <td>72</td>\n",
       "      <td>84</td>\n",
       "      <td>69</td>\n",
       "      <td>98</td>\n",
       "      <td>98</td>\n",
       "    </tr>\n",
       "    <tr>\n",
       "      <th>Hindi</th>\n",
       "      <td>75</td>\n",
       "      <td>84</td>\n",
       "      <td>85</td>\n",
       "      <td>87</td>\n",
       "      <td>98</td>\n",
       "      <td>98</td>\n",
       "    </tr>\n",
       "  </tbody>\n",
       "</table>\n",
       "</div>"
      ],
      "text/plain": [
       "         Rajesh  Seema  Ashish  Sonia  Sheena  Reema\n",
       "English      89     68      81     78      98     98\n",
       "Maths        68     89      82     75      98     98\n",
       "Science      91     78      83     72      98     98\n",
       "SST          88     72      84     69      98     98\n",
       "Hindi        75     84      85     87      98     98"
      ]
     },
     "execution_count": 14,
     "metadata": {},
     "output_type": "execute_result"
    }
   ],
   "source": [
    "# to remove multiple columns from a dataframe\n",
    "df10=df8.drop(['Rehan','Ruchi'],axis=1)\n",
    "df10"
   ]
  },
  {
   "cell_type": "code",
   "execution_count": 15,
   "metadata": {},
   "outputs": [
    {
     "data": {
      "text/html": [
       "<div>\n",
       "<style scoped>\n",
       "    .dataframe tbody tr th:only-of-type {\n",
       "        vertical-align: middle;\n",
       "    }\n",
       "\n",
       "    .dataframe tbody tr th {\n",
       "        vertical-align: top;\n",
       "    }\n",
       "\n",
       "    .dataframe thead th {\n",
       "        text-align: right;\n",
       "    }\n",
       "</style>\n",
       "<table border=\"1\" class=\"dataframe\">\n",
       "  <thead>\n",
       "    <tr style=\"text-align: right;\">\n",
       "      <th></th>\n",
       "      <th>Rajesh</th>\n",
       "      <th>Rehan</th>\n",
       "      <th>Seema</th>\n",
       "      <th>Ruchi</th>\n",
       "      <th>Ashish</th>\n",
       "      <th>Sonia</th>\n",
       "      <th>Sheena</th>\n",
       "      <th>Reema</th>\n",
       "    </tr>\n",
       "  </thead>\n",
       "  <tbody>\n",
       "    <tr>\n",
       "      <th>English</th>\n",
       "      <td>89</td>\n",
       "      <td>82</td>\n",
       "      <td>68</td>\n",
       "      <td>88</td>\n",
       "      <td>81</td>\n",
       "      <td>78</td>\n",
       "      <td>98</td>\n",
       "      <td>98</td>\n",
       "    </tr>\n",
       "    <tr>\n",
       "      <th>Science</th>\n",
       "      <td>91</td>\n",
       "      <td>73</td>\n",
       "      <td>78</td>\n",
       "      <td>77</td>\n",
       "      <td>83</td>\n",
       "      <td>72</td>\n",
       "      <td>98</td>\n",
       "      <td>98</td>\n",
       "    </tr>\n",
       "    <tr>\n",
       "      <th>Hindi</th>\n",
       "      <td>75</td>\n",
       "      <td>90</td>\n",
       "      <td>84</td>\n",
       "      <td>84</td>\n",
       "      <td>85</td>\n",
       "      <td>87</td>\n",
       "      <td>98</td>\n",
       "      <td>98</td>\n",
       "    </tr>\n",
       "  </tbody>\n",
       "</table>\n",
       "</div>"
      ],
      "text/plain": [
       "         Rajesh  Rehan  Seema  Ruchi  Ashish  Sonia  Sheena  Reema\n",
       "English      89     82     68     88      81     78      98     98\n",
       "Science      91     73     78     77      83     72      98     98\n",
       "Hindi        75     90     84     84      85     87      98     98"
      ]
     },
     "execution_count": 15,
     "metadata": {},
     "output_type": "execute_result"
    }
   ],
   "source": [
    "# to remove multiple rows from a dataframe\n",
    "df10=df8.drop(['Maths','SST'],axis=0)\n",
    "df10"
   ]
  },
  {
   "cell_type": "code",
   "execution_count": 16,
   "metadata": {},
   "outputs": [
    {
     "data": {
      "text/html": [
       "<div>\n",
       "<style scoped>\n",
       "    .dataframe tbody tr th:only-of-type {\n",
       "        vertical-align: middle;\n",
       "    }\n",
       "\n",
       "    .dataframe tbody tr th {\n",
       "        vertical-align: top;\n",
       "    }\n",
       "\n",
       "    .dataframe thead th {\n",
       "        text-align: right;\n",
       "    }\n",
       "</style>\n",
       "<table border=\"1\" class=\"dataframe\">\n",
       "  <thead>\n",
       "    <tr style=\"text-align: right;\">\n",
       "      <th></th>\n",
       "      <th>Rajesh</th>\n",
       "      <th>Rehan</th>\n",
       "      <th>Seema</th>\n",
       "      <th>Ruchi</th>\n",
       "      <th>Ashish</th>\n",
       "      <th>Sonia</th>\n",
       "      <th>Sheena</th>\n",
       "      <th>Reema</th>\n",
       "    </tr>\n",
       "  </thead>\n",
       "  <tbody>\n",
       "    <tr>\n",
       "      <th>English</th>\n",
       "      <td>89</td>\n",
       "      <td>82</td>\n",
       "      <td>68</td>\n",
       "      <td>88</td>\n",
       "      <td>81</td>\n",
       "      <td>78</td>\n",
       "      <td>98</td>\n",
       "      <td>98</td>\n",
       "    </tr>\n",
       "    <tr>\n",
       "      <th>Science</th>\n",
       "      <td>91</td>\n",
       "      <td>73</td>\n",
       "      <td>78</td>\n",
       "      <td>77</td>\n",
       "      <td>83</td>\n",
       "      <td>72</td>\n",
       "      <td>98</td>\n",
       "      <td>98</td>\n",
       "    </tr>\n",
       "    <tr>\n",
       "      <th>Hindi</th>\n",
       "      <td>75</td>\n",
       "      <td>90</td>\n",
       "      <td>84</td>\n",
       "      <td>84</td>\n",
       "      <td>85</td>\n",
       "      <td>87</td>\n",
       "      <td>98</td>\n",
       "      <td>98</td>\n",
       "    </tr>\n",
       "    <tr>\n",
       "      <th>Hindi</th>\n",
       "      <td>58</td>\n",
       "      <td>65</td>\n",
       "      <td>96</td>\n",
       "      <td>87</td>\n",
       "      <td>54</td>\n",
       "      <td>68</td>\n",
       "      <td>88</td>\n",
       "      <td>81</td>\n",
       "    </tr>\n",
       "  </tbody>\n",
       "</table>\n",
       "</div>"
      ],
      "text/plain": [
       "         Rajesh  Rehan  Seema  Ruchi  Ashish  Sonia  Sheena  Reema\n",
       "English      89     82     68     88      81     78      98     98\n",
       "Science      91     73     78     77      83     72      98     98\n",
       "Hindi        75     90     84     84      85     87      98     98\n",
       "Hindi        58     65     96     87      54     68      88     81"
      ]
     },
     "execution_count": 16,
     "metadata": {},
     "output_type": "execute_result"
    }
   ],
   "source": [
    "df10.loc['Sanskrit']=[58,65,96,87,54,68,88,81]\n",
    "df10=df10.rename({'Sanskrit': 'Hindi'},axis=0)\n",
    "df10"
   ]
  },
  {
   "cell_type": "code",
   "execution_count": 17,
   "metadata": {},
   "outputs": [
    {
     "data": {
      "text/html": [
       "<div>\n",
       "<style scoped>\n",
       "    .dataframe tbody tr th:only-of-type {\n",
       "        vertical-align: middle;\n",
       "    }\n",
       "\n",
       "    .dataframe tbody tr th {\n",
       "        vertical-align: top;\n",
       "    }\n",
       "\n",
       "    .dataframe thead th {\n",
       "        text-align: right;\n",
       "    }\n",
       "</style>\n",
       "<table border=\"1\" class=\"dataframe\">\n",
       "  <thead>\n",
       "    <tr style=\"text-align: right;\">\n",
       "      <th></th>\n",
       "      <th>Rajesh</th>\n",
       "      <th>Rehan</th>\n",
       "      <th>Seema</th>\n",
       "      <th>Ruchi</th>\n",
       "      <th>Ashish</th>\n",
       "      <th>Sonia</th>\n",
       "      <th>Sheena</th>\n",
       "      <th>Reema</th>\n",
       "    </tr>\n",
       "  </thead>\n",
       "  <tbody>\n",
       "    <tr>\n",
       "      <th>English</th>\n",
       "      <td>89</td>\n",
       "      <td>82</td>\n",
       "      <td>68</td>\n",
       "      <td>88</td>\n",
       "      <td>81</td>\n",
       "      <td>78</td>\n",
       "      <td>98</td>\n",
       "      <td>98</td>\n",
       "    </tr>\n",
       "    <tr>\n",
       "      <th>Science</th>\n",
       "      <td>91</td>\n",
       "      <td>73</td>\n",
       "      <td>78</td>\n",
       "      <td>77</td>\n",
       "      <td>83</td>\n",
       "      <td>72</td>\n",
       "      <td>98</td>\n",
       "      <td>98</td>\n",
       "    </tr>\n",
       "  </tbody>\n",
       "</table>\n",
       "</div>"
      ],
      "text/plain": [
       "         Rajesh  Rehan  Seema  Ruchi  Ashish  Sonia  Sheena  Reema\n",
       "English      89     82     68     88      81     78      98     98\n",
       "Science      91     73     78     77      83     72      98     98"
      ]
     },
     "execution_count": 17,
     "metadata": {},
     "output_type": "execute_result"
    }
   ],
   "source": [
    "df10=df10.drop('Hindi',axis='index')\n",
    "df10"
   ]
  },
  {
   "cell_type": "code",
   "execution_count": 18,
   "metadata": {},
   "outputs": [
    {
     "data": {
      "text/html": [
       "<div>\n",
       "<style scoped>\n",
       "    .dataframe tbody tr th:only-of-type {\n",
       "        vertical-align: middle;\n",
       "    }\n",
       "\n",
       "    .dataframe tbody tr th {\n",
       "        vertical-align: top;\n",
       "    }\n",
       "\n",
       "    .dataframe thead th {\n",
       "        text-align: right;\n",
       "    }\n",
       "</style>\n",
       "<table border=\"1\" class=\"dataframe\">\n",
       "  <thead>\n",
       "    <tr style=\"text-align: right;\">\n",
       "      <th></th>\n",
       "      <th>Rajesh</th>\n",
       "      <th>Rehan</th>\n",
       "      <th>Seema</th>\n",
       "      <th>Ruchi</th>\n",
       "      <th>Ashish</th>\n",
       "      <th>Sonia</th>\n",
       "      <th>Sheena</th>\n",
       "      <th>Reema</th>\n",
       "    </tr>\n",
       "  </thead>\n",
       "  <tbody>\n",
       "    <tr>\n",
       "      <th>English</th>\n",
       "      <td>89</td>\n",
       "      <td>82</td>\n",
       "      <td>68</td>\n",
       "      <td>88</td>\n",
       "      <td>81</td>\n",
       "      <td>78</td>\n",
       "      <td>98</td>\n",
       "      <td>98</td>\n",
       "    </tr>\n",
       "    <tr>\n",
       "      <th>Maths</th>\n",
       "      <td>68</td>\n",
       "      <td>69</td>\n",
       "      <td>89</td>\n",
       "      <td>67</td>\n",
       "      <td>82</td>\n",
       "      <td>75</td>\n",
       "      <td>98</td>\n",
       "      <td>98</td>\n",
       "    </tr>\n",
       "    <tr>\n",
       "      <th>Science</th>\n",
       "      <td>91</td>\n",
       "      <td>73</td>\n",
       "      <td>78</td>\n",
       "      <td>77</td>\n",
       "      <td>83</td>\n",
       "      <td>72</td>\n",
       "      <td>98</td>\n",
       "      <td>98</td>\n",
       "    </tr>\n",
       "    <tr>\n",
       "      <th>SST</th>\n",
       "      <td>88</td>\n",
       "      <td>88</td>\n",
       "      <td>72</td>\n",
       "      <td>92</td>\n",
       "      <td>84</td>\n",
       "      <td>69</td>\n",
       "      <td>98</td>\n",
       "      <td>98</td>\n",
       "    </tr>\n",
       "    <tr>\n",
       "      <th>Hindi</th>\n",
       "      <td>75</td>\n",
       "      <td>90</td>\n",
       "      <td>84</td>\n",
       "      <td>84</td>\n",
       "      <td>85</td>\n",
       "      <td>87</td>\n",
       "      <td>98</td>\n",
       "      <td>98</td>\n",
       "    </tr>\n",
       "  </tbody>\n",
       "</table>\n",
       "</div>"
      ],
      "text/plain": [
       "         Rajesh  Rehan  Seema  Ruchi  Ashish  Sonia  Sheena  Reema\n",
       "English      89     82     68     88      81     78      98     98\n",
       "Maths        68     69     89     67      82     75      98     98\n",
       "Science      91     73     78     77      83     72      98     98\n",
       "SST          88     88     72     92      84     69      98     98\n",
       "Hindi        75     90     84     84      85     87      98     98"
      ]
     },
     "execution_count": 18,
     "metadata": {},
     "output_type": "execute_result"
    }
   ],
   "source": [
    "df8"
   ]
  },
  {
   "cell_type": "code",
   "execution_count": 19,
   "metadata": {},
   "outputs": [
    {
     "data": {
      "text/html": [
       "<div>\n",
       "<style scoped>\n",
       "    .dataframe tbody tr th:only-of-type {\n",
       "        vertical-align: middle;\n",
       "    }\n",
       "\n",
       "    .dataframe tbody tr th {\n",
       "        vertical-align: top;\n",
       "    }\n",
       "\n",
       "    .dataframe thead th {\n",
       "        text-align: right;\n",
       "    }\n",
       "</style>\n",
       "<table border=\"1\" class=\"dataframe\">\n",
       "  <thead>\n",
       "    <tr style=\"text-align: right;\">\n",
       "      <th></th>\n",
       "      <th>Rajesh</th>\n",
       "      <th>Rehan</th>\n",
       "      <th>Seema</th>\n",
       "      <th>Ruchi</th>\n",
       "      <th>Ashish</th>\n",
       "      <th>Sonia</th>\n",
       "      <th>Sheena</th>\n",
       "      <th>Reema</th>\n",
       "    </tr>\n",
       "  </thead>\n",
       "  <tbody>\n",
       "    <tr>\n",
       "      <th>Eng</th>\n",
       "      <td>89</td>\n",
       "      <td>82</td>\n",
       "      <td>68</td>\n",
       "      <td>88</td>\n",
       "      <td>81</td>\n",
       "      <td>78</td>\n",
       "      <td>98</td>\n",
       "      <td>98</td>\n",
       "    </tr>\n",
       "    <tr>\n",
       "      <th>Maths</th>\n",
       "      <td>68</td>\n",
       "      <td>69</td>\n",
       "      <td>89</td>\n",
       "      <td>67</td>\n",
       "      <td>82</td>\n",
       "      <td>75</td>\n",
       "      <td>98</td>\n",
       "      <td>98</td>\n",
       "    </tr>\n",
       "    <tr>\n",
       "      <th>Science</th>\n",
       "      <td>91</td>\n",
       "      <td>73</td>\n",
       "      <td>78</td>\n",
       "      <td>77</td>\n",
       "      <td>83</td>\n",
       "      <td>72</td>\n",
       "      <td>98</td>\n",
       "      <td>98</td>\n",
       "    </tr>\n",
       "    <tr>\n",
       "      <th>Social Science</th>\n",
       "      <td>88</td>\n",
       "      <td>88</td>\n",
       "      <td>72</td>\n",
       "      <td>92</td>\n",
       "      <td>84</td>\n",
       "      <td>69</td>\n",
       "      <td>98</td>\n",
       "      <td>98</td>\n",
       "    </tr>\n",
       "    <tr>\n",
       "      <th>Hindi</th>\n",
       "      <td>75</td>\n",
       "      <td>90</td>\n",
       "      <td>84</td>\n",
       "      <td>84</td>\n",
       "      <td>85</td>\n",
       "      <td>87</td>\n",
       "      <td>98</td>\n",
       "      <td>98</td>\n",
       "    </tr>\n",
       "  </tbody>\n",
       "</table>\n",
       "</div>"
      ],
      "text/plain": [
       "                Rajesh  Rehan  Seema  Ruchi  Ashish  Sonia  Sheena  Reema\n",
       "Eng                 89     82     68     88      81     78      98     98\n",
       "Maths               68     69     89     67      82     75      98     98\n",
       "Science             91     73     78     77      83     72      98     98\n",
       "Social Science      88     88     72     92      84     69      98     98\n",
       "Hindi               75     90     84     84      85     87      98     98"
      ]
     },
     "execution_count": 19,
     "metadata": {},
     "output_type": "execute_result"
    }
   ],
   "source": [
    "# to rename a row/ index in a Dataframe using axis parameter\n",
    "df8=df8.rename({'English':'Eng'},axis=0)\n",
    "df8=df8.rename({'SST':'Social Science'},axis=0)\n",
    "df8"
   ]
  },
  {
   "cell_type": "code",
   "execution_count": 20,
   "metadata": {},
   "outputs": [
    {
     "data": {
      "text/html": [
       "<div>\n",
       "<style scoped>\n",
       "    .dataframe tbody tr th:only-of-type {\n",
       "        vertical-align: middle;\n",
       "    }\n",
       "\n",
       "    .dataframe tbody tr th {\n",
       "        vertical-align: top;\n",
       "    }\n",
       "\n",
       "    .dataframe thead th {\n",
       "        text-align: right;\n",
       "    }\n",
       "</style>\n",
       "<table border=\"1\" class=\"dataframe\">\n",
       "  <thead>\n",
       "    <tr style=\"text-align: right;\">\n",
       "      <th></th>\n",
       "      <th>Rajesh</th>\n",
       "      <th>Rehan</th>\n",
       "      <th>Seema</th>\n",
       "      <th>Ruchi</th>\n",
       "      <th>Ashish</th>\n",
       "      <th>Sonia</th>\n",
       "      <th>Sheena</th>\n",
       "      <th>Reema</th>\n",
       "    </tr>\n",
       "  </thead>\n",
       "  <tbody>\n",
       "    <tr>\n",
       "      <th>Eng</th>\n",
       "      <td>89</td>\n",
       "      <td>82</td>\n",
       "      <td>68</td>\n",
       "      <td>88</td>\n",
       "      <td>81</td>\n",
       "      <td>78</td>\n",
       "      <td>98</td>\n",
       "      <td>98</td>\n",
       "    </tr>\n",
       "    <tr>\n",
       "      <th>Mathematics</th>\n",
       "      <td>68</td>\n",
       "      <td>69</td>\n",
       "      <td>89</td>\n",
       "      <td>67</td>\n",
       "      <td>82</td>\n",
       "      <td>75</td>\n",
       "      <td>98</td>\n",
       "      <td>98</td>\n",
       "    </tr>\n",
       "    <tr>\n",
       "      <th>Science</th>\n",
       "      <td>91</td>\n",
       "      <td>73</td>\n",
       "      <td>78</td>\n",
       "      <td>77</td>\n",
       "      <td>83</td>\n",
       "      <td>72</td>\n",
       "      <td>98</td>\n",
       "      <td>98</td>\n",
       "    </tr>\n",
       "    <tr>\n",
       "      <th>Social Science</th>\n",
       "      <td>88</td>\n",
       "      <td>88</td>\n",
       "      <td>72</td>\n",
       "      <td>92</td>\n",
       "      <td>84</td>\n",
       "      <td>69</td>\n",
       "      <td>98</td>\n",
       "      <td>98</td>\n",
       "    </tr>\n",
       "    <tr>\n",
       "      <th>Hindi</th>\n",
       "      <td>75</td>\n",
       "      <td>90</td>\n",
       "      <td>84</td>\n",
       "      <td>84</td>\n",
       "      <td>85</td>\n",
       "      <td>87</td>\n",
       "      <td>98</td>\n",
       "      <td>98</td>\n",
       "    </tr>\n",
       "  </tbody>\n",
       "</table>\n",
       "</div>"
      ],
      "text/plain": [
       "                Rajesh  Rehan  Seema  Ruchi  Ashish  Sonia  Sheena  Reema\n",
       "Eng                 89     82     68     88      81     78      98     98\n",
       "Mathematics         68     69     89     67      82     75      98     98\n",
       "Science             91     73     78     77      83     72      98     98\n",
       "Social Science      88     88     72     92      84     69      98     98\n",
       "Hindi               75     90     84     84      85     87      98     98"
      ]
     },
     "execution_count": 20,
     "metadata": {},
     "output_type": "execute_result"
    }
   ],
   "source": [
    "# to rename a row/ index in a Dataframe using index parameter\n",
    "df8=df8.rename(index={'Maths':'Mathematics'})\n",
    "df8"
   ]
  },
  {
   "cell_type": "code",
   "execution_count": 21,
   "metadata": {},
   "outputs": [
    {
     "data": {
      "text/html": [
       "<div>\n",
       "<style scoped>\n",
       "    .dataframe tbody tr th:only-of-type {\n",
       "        vertical-align: middle;\n",
       "    }\n",
       "\n",
       "    .dataframe tbody tr th {\n",
       "        vertical-align: top;\n",
       "    }\n",
       "\n",
       "    .dataframe thead th {\n",
       "        text-align: right;\n",
       "    }\n",
       "</style>\n",
       "<table border=\"1\" class=\"dataframe\">\n",
       "  <thead>\n",
       "    <tr style=\"text-align: right;\">\n",
       "      <th></th>\n",
       "      <th>Ramesh</th>\n",
       "      <th>Rehan</th>\n",
       "      <th>Seema</th>\n",
       "      <th>Ruchi</th>\n",
       "      <th>Ashish</th>\n",
       "      <th>Sonia</th>\n",
       "      <th>Sheena</th>\n",
       "      <th>Reema</th>\n",
       "    </tr>\n",
       "  </thead>\n",
       "  <tbody>\n",
       "    <tr>\n",
       "      <th>Eng</th>\n",
       "      <td>89</td>\n",
       "      <td>82</td>\n",
       "      <td>68</td>\n",
       "      <td>88</td>\n",
       "      <td>81</td>\n",
       "      <td>78</td>\n",
       "      <td>98</td>\n",
       "      <td>98</td>\n",
       "    </tr>\n",
       "    <tr>\n",
       "      <th>Mathematics</th>\n",
       "      <td>68</td>\n",
       "      <td>69</td>\n",
       "      <td>89</td>\n",
       "      <td>67</td>\n",
       "      <td>82</td>\n",
       "      <td>75</td>\n",
       "      <td>98</td>\n",
       "      <td>98</td>\n",
       "    </tr>\n",
       "    <tr>\n",
       "      <th>Science</th>\n",
       "      <td>91</td>\n",
       "      <td>73</td>\n",
       "      <td>78</td>\n",
       "      <td>77</td>\n",
       "      <td>83</td>\n",
       "      <td>72</td>\n",
       "      <td>98</td>\n",
       "      <td>98</td>\n",
       "    </tr>\n",
       "    <tr>\n",
       "      <th>Social Science</th>\n",
       "      <td>88</td>\n",
       "      <td>88</td>\n",
       "      <td>72</td>\n",
       "      <td>92</td>\n",
       "      <td>84</td>\n",
       "      <td>69</td>\n",
       "      <td>98</td>\n",
       "      <td>98</td>\n",
       "    </tr>\n",
       "    <tr>\n",
       "      <th>Hindi</th>\n",
       "      <td>75</td>\n",
       "      <td>90</td>\n",
       "      <td>84</td>\n",
       "      <td>84</td>\n",
       "      <td>85</td>\n",
       "      <td>87</td>\n",
       "      <td>98</td>\n",
       "      <td>98</td>\n",
       "    </tr>\n",
       "  </tbody>\n",
       "</table>\n",
       "</div>"
      ],
      "text/plain": [
       "                Ramesh  Rehan  Seema  Ruchi  Ashish  Sonia  Sheena  Reema\n",
       "Eng                 89     82     68     88      81     78      98     98\n",
       "Mathematics         68     69     89     67      82     75      98     98\n",
       "Science             91     73     78     77      83     72      98     98\n",
       "Social Science      88     88     72     92      84     69      98     98\n",
       "Hindi               75     90     84     84      85     87      98     98"
      ]
     },
     "execution_count": 21,
     "metadata": {},
     "output_type": "execute_result"
    }
   ],
   "source": [
    "# to rename a column in  a Dataframe using axis parameter\n",
    "df8=df8.rename({'Rajesh':'Ramesh'},axis=1)\n",
    "df8"
   ]
  },
  {
   "cell_type": "code",
   "execution_count": 22,
   "metadata": {},
   "outputs": [
    {
     "data": {
      "text/html": [
       "<div>\n",
       "<style scoped>\n",
       "    .dataframe tbody tr th:only-of-type {\n",
       "        vertical-align: middle;\n",
       "    }\n",
       "\n",
       "    .dataframe tbody tr th {\n",
       "        vertical-align: top;\n",
       "    }\n",
       "\n",
       "    .dataframe thead th {\n",
       "        text-align: right;\n",
       "    }\n",
       "</style>\n",
       "<table border=\"1\" class=\"dataframe\">\n",
       "  <thead>\n",
       "    <tr style=\"text-align: right;\">\n",
       "      <th></th>\n",
       "      <th>Ramesh</th>\n",
       "      <th>Rohan</th>\n",
       "      <th>Seema</th>\n",
       "      <th>Ruchi</th>\n",
       "      <th>Ashish</th>\n",
       "      <th>Sonia</th>\n",
       "      <th>Sheena</th>\n",
       "      <th>Reema</th>\n",
       "    </tr>\n",
       "  </thead>\n",
       "  <tbody>\n",
       "    <tr>\n",
       "      <th>Eng</th>\n",
       "      <td>89</td>\n",
       "      <td>82</td>\n",
       "      <td>68</td>\n",
       "      <td>88</td>\n",
       "      <td>81</td>\n",
       "      <td>78</td>\n",
       "      <td>98</td>\n",
       "      <td>98</td>\n",
       "    </tr>\n",
       "    <tr>\n",
       "      <th>Mathematics</th>\n",
       "      <td>68</td>\n",
       "      <td>69</td>\n",
       "      <td>89</td>\n",
       "      <td>67</td>\n",
       "      <td>82</td>\n",
       "      <td>75</td>\n",
       "      <td>98</td>\n",
       "      <td>98</td>\n",
       "    </tr>\n",
       "    <tr>\n",
       "      <th>Science</th>\n",
       "      <td>91</td>\n",
       "      <td>73</td>\n",
       "      <td>78</td>\n",
       "      <td>77</td>\n",
       "      <td>83</td>\n",
       "      <td>72</td>\n",
       "      <td>98</td>\n",
       "      <td>98</td>\n",
       "    </tr>\n",
       "    <tr>\n",
       "      <th>Social Science</th>\n",
       "      <td>88</td>\n",
       "      <td>88</td>\n",
       "      <td>72</td>\n",
       "      <td>92</td>\n",
       "      <td>84</td>\n",
       "      <td>69</td>\n",
       "      <td>98</td>\n",
       "      <td>98</td>\n",
       "    </tr>\n",
       "    <tr>\n",
       "      <th>Hindi</th>\n",
       "      <td>75</td>\n",
       "      <td>90</td>\n",
       "      <td>84</td>\n",
       "      <td>84</td>\n",
       "      <td>85</td>\n",
       "      <td>87</td>\n",
       "      <td>98</td>\n",
       "      <td>98</td>\n",
       "    </tr>\n",
       "  </tbody>\n",
       "</table>\n",
       "</div>"
      ],
      "text/plain": [
       "                Ramesh  Rohan  Seema  Ruchi  Ashish  Sonia  Sheena  Reema\n",
       "Eng                 89     82     68     88      81     78      98     98\n",
       "Mathematics         68     69     89     67      82     75      98     98\n",
       "Science             91     73     78     77      83     72      98     98\n",
       "Social Science      88     88     72     92      84     69      98     98\n",
       "Hindi               75     90     84     84      85     87      98     98"
      ]
     },
     "execution_count": 22,
     "metadata": {},
     "output_type": "execute_result"
    }
   ],
   "source": [
    "# to rename a column in a Dataframe using index parameter\n",
    "df8=df8.rename(columns={'Rehan':'Rohan'})\n",
    "df8"
   ]
  },
  {
   "cell_type": "code",
   "execution_count": 23,
   "metadata": {},
   "outputs": [
    {
     "data": {
      "text/html": [
       "<div>\n",
       "<style scoped>\n",
       "    .dataframe tbody tr th:only-of-type {\n",
       "        vertical-align: middle;\n",
       "    }\n",
       "\n",
       "    .dataframe tbody tr th {\n",
       "        vertical-align: top;\n",
       "    }\n",
       "\n",
       "    .dataframe thead th {\n",
       "        text-align: right;\n",
       "    }\n",
       "</style>\n",
       "<table border=\"1\" class=\"dataframe\">\n",
       "  <thead>\n",
       "    <tr style=\"text-align: right;\">\n",
       "      <th></th>\n",
       "      <th>Ramesh</th>\n",
       "      <th>Rohan</th>\n",
       "      <th>Samiksha</th>\n",
       "      <th>Roohi</th>\n",
       "      <th>Ashish</th>\n",
       "      <th>Sakshi</th>\n",
       "      <th>Shikha</th>\n",
       "      <th>Ridhika</th>\n",
       "    </tr>\n",
       "  </thead>\n",
       "  <tbody>\n",
       "    <tr>\n",
       "      <th>Eng</th>\n",
       "      <td>89</td>\n",
       "      <td>82</td>\n",
       "      <td>68</td>\n",
       "      <td>88</td>\n",
       "      <td>81</td>\n",
       "      <td>78</td>\n",
       "      <td>98</td>\n",
       "      <td>98</td>\n",
       "    </tr>\n",
       "    <tr>\n",
       "      <th>Mathematics</th>\n",
       "      <td>68</td>\n",
       "      <td>69</td>\n",
       "      <td>89</td>\n",
       "      <td>67</td>\n",
       "      <td>82</td>\n",
       "      <td>75</td>\n",
       "      <td>98</td>\n",
       "      <td>98</td>\n",
       "    </tr>\n",
       "    <tr>\n",
       "      <th>Science</th>\n",
       "      <td>91</td>\n",
       "      <td>73</td>\n",
       "      <td>78</td>\n",
       "      <td>77</td>\n",
       "      <td>83</td>\n",
       "      <td>72</td>\n",
       "      <td>98</td>\n",
       "      <td>98</td>\n",
       "    </tr>\n",
       "    <tr>\n",
       "      <th>Social Science</th>\n",
       "      <td>88</td>\n",
       "      <td>88</td>\n",
       "      <td>72</td>\n",
       "      <td>92</td>\n",
       "      <td>84</td>\n",
       "      <td>69</td>\n",
       "      <td>98</td>\n",
       "      <td>98</td>\n",
       "    </tr>\n",
       "    <tr>\n",
       "      <th>Hindi</th>\n",
       "      <td>75</td>\n",
       "      <td>90</td>\n",
       "      <td>84</td>\n",
       "      <td>84</td>\n",
       "      <td>85</td>\n",
       "      <td>87</td>\n",
       "      <td>98</td>\n",
       "      <td>98</td>\n",
       "    </tr>\n",
       "  </tbody>\n",
       "</table>\n",
       "</div>"
      ],
      "text/plain": [
       "                Ramesh  Rohan  Samiksha  Roohi  Ashish  Sakshi  Shikha  \\\n",
       "Eng                 89     82        68     88      81      78      98   \n",
       "Mathematics         68     69        89     67      82      75      98   \n",
       "Science             91     73        78     77      83      72      98   \n",
       "Social Science      88     88        72     92      84      69      98   \n",
       "Hindi               75     90        84     84      85      87      98   \n",
       "\n",
       "                Ridhika  \n",
       "Eng                  98  \n",
       "Mathematics          98  \n",
       "Science              98  \n",
       "Social Science       98  \n",
       "Hindi                98  "
      ]
     },
     "execution_count": 23,
     "metadata": {},
     "output_type": "execute_result"
    }
   ],
   "source": [
    "df8=df8.rename({'Seema':'Samiksha','Ruchi':'Roohi','Sonia': 'Sakshi',\n",
    "                'Sheena':'Shikha','Reema':'Ridhika'},axis=1)\n",
    "df8"
   ]
  },
  {
   "cell_type": "code",
   "execution_count": 26,
   "metadata": {},
   "outputs": [
    {
     "data": {
      "text/plain": [
       "Eng               82\n",
       "Mathematics       69\n",
       "Science           73\n",
       "Social Science    88\n",
       "Hindi             90\n",
       "Name: Rohan, dtype: int64"
      ]
     },
     "execution_count": 26,
     "metadata": {},
     "output_type": "execute_result"
    }
   ],
   "source": [
    "# Indexing using index operator for showing a specific column\n",
    "df8['Rohan']"
   ]
  },
  {
   "cell_type": "code",
   "execution_count": 35,
   "metadata": {},
   "outputs": [
    {
     "data": {
      "text/plain": [
       "Eng               82\n",
       "Mathematics       69\n",
       "Science           73\n",
       "Social Science    88\n",
       "Hindi             90\n",
       "Name: Rohan, dtype: int64"
      ]
     },
     "execution_count": 35,
     "metadata": {},
     "output_type": "execute_result"
    }
   ],
   "source": [
    "# Indexing a column using .loc\n",
    "df8.loc[:,'Rohan']"
   ]
  },
  {
   "cell_type": "code",
   "execution_count": 37,
   "metadata": {},
   "outputs": [
    {
     "data": {
      "text/html": [
       "<div>\n",
       "<style scoped>\n",
       "    .dataframe tbody tr th:only-of-type {\n",
       "        vertical-align: middle;\n",
       "    }\n",
       "\n",
       "    .dataframe tbody tr th {\n",
       "        vertical-align: top;\n",
       "    }\n",
       "\n",
       "    .dataframe thead th {\n",
       "        text-align: right;\n",
       "    }\n",
       "</style>\n",
       "<table border=\"1\" class=\"dataframe\">\n",
       "  <thead>\n",
       "    <tr style=\"text-align: right;\">\n",
       "      <th></th>\n",
       "      <th>Ramesh</th>\n",
       "      <th>Rohan</th>\n",
       "      <th>Samiksha</th>\n",
       "      <th>Roohi</th>\n",
       "      <th>Ashish</th>\n",
       "      <th>Sakshi</th>\n",
       "      <th>Shikha</th>\n",
       "      <th>Ridhika</th>\n",
       "    </tr>\n",
       "  </thead>\n",
       "  <tbody>\n",
       "    <tr>\n",
       "      <th>Science</th>\n",
       "      <td>91</td>\n",
       "      <td>73</td>\n",
       "      <td>78</td>\n",
       "      <td>77</td>\n",
       "      <td>83</td>\n",
       "      <td>72</td>\n",
       "      <td>98</td>\n",
       "      <td>98</td>\n",
       "    </tr>\n",
       "    <tr>\n",
       "      <th>Hindi</th>\n",
       "      <td>75</td>\n",
       "      <td>90</td>\n",
       "      <td>84</td>\n",
       "      <td>84</td>\n",
       "      <td>85</td>\n",
       "      <td>87</td>\n",
       "      <td>98</td>\n",
       "      <td>98</td>\n",
       "    </tr>\n",
       "  </tbody>\n",
       "</table>\n",
       "</div>"
      ],
      "text/plain": [
       "         Ramesh  Rohan  Samiksha  Roohi  Ashish  Sakshi  Shikha  Ridhika\n",
       "Science      91     73        78     77      83      72      98       98\n",
       "Hindi        75     90        84     84      85      87      98       98"
      ]
     },
     "execution_count": 37,
     "metadata": {},
     "output_type": "execute_result"
    }
   ],
   "source": [
    "# indexing  more than one row using .loc\n",
    "df8.loc[['Science','Hindi']]"
   ]
  },
  {
   "cell_type": "code",
   "execution_count": 28,
   "metadata": {},
   "outputs": [
    {
     "data": {
      "text/plain": [
       "Ramesh      75\n",
       "Rohan       90\n",
       "Samiksha    84\n",
       "Roohi       84\n",
       "Ashish      85\n",
       "Sakshi      87\n",
       "Shikha      98\n",
       "Ridhika     98\n",
       "Name: Hindi, dtype: int64"
      ]
     },
     "execution_count": 28,
     "metadata": {},
     "output_type": "execute_result"
    }
   ],
   "source": [
    "# Indexing using .loc[] for showing specific row\n",
    "df8.loc['Hindi']"
   ]
  },
  {
   "cell_type": "code",
   "execution_count": 29,
   "metadata": {},
   "outputs": [
    {
     "data": {
      "text/plain": [
       "84"
      ]
     },
     "execution_count": 29,
     "metadata": {},
     "output_type": "execute_result"
    }
   ],
   "source": [
    "# Indexing using .loc[] for showing specific row and specific column\n",
    "df8.loc['Hindi','Roohi']"
   ]
  },
  {
   "cell_type": "code",
   "execution_count": 30,
   "metadata": {},
   "outputs": [
    {
     "data": {
      "text/html": [
       "<div>\n",
       "<style scoped>\n",
       "    .dataframe tbody tr th:only-of-type {\n",
       "        vertical-align: middle;\n",
       "    }\n",
       "\n",
       "    .dataframe tbody tr th {\n",
       "        vertical-align: top;\n",
       "    }\n",
       "\n",
       "    .dataframe thead th {\n",
       "        text-align: right;\n",
       "    }\n",
       "</style>\n",
       "<table border=\"1\" class=\"dataframe\">\n",
       "  <thead>\n",
       "    <tr style=\"text-align: right;\">\n",
       "      <th></th>\n",
       "      <th>0</th>\n",
       "      <th>1</th>\n",
       "      <th>2</th>\n",
       "      <th>3</th>\n",
       "      <th>4</th>\n",
       "    </tr>\n",
       "  </thead>\n",
       "  <tbody>\n",
       "    <tr>\n",
       "      <th>0</th>\n",
       "      <td>121</td>\n",
       "      <td>125</td>\n",
       "      <td>130</td>\n",
       "      <td>140</td>\n",
       "      <td>150</td>\n",
       "    </tr>\n",
       "    <tr>\n",
       "      <th>1</th>\n",
       "      <td>1</td>\n",
       "      <td>2</td>\n",
       "      <td>3</td>\n",
       "      <td>4</td>\n",
       "      <td>5</td>\n",
       "    </tr>\n",
       "    <tr>\n",
       "      <th>2</th>\n",
       "      <td>11</td>\n",
       "      <td>12</td>\n",
       "      <td>13</td>\n",
       "      <td>14</td>\n",
       "      <td>15</td>\n",
       "    </tr>\n",
       "  </tbody>\n",
       "</table>\n",
       "</div>"
      ],
      "text/plain": [
       "     0    1    2    3    4\n",
       "0  121  125  130  140  150\n",
       "1    1    2    3    4    5\n",
       "2   11   12   13   14   15"
      ]
     },
     "execution_count": 30,
     "metadata": {},
     "output_type": "execute_result"
    }
   ],
   "source": [
    "# Indexing using .iloc[] for showing specific row\n",
    "df9 = pd.DataFrame([[121,125,130,140,150],[1,2,3,4,5],[11,12,13,14,15]])\n",
    "df9"
   ]
  },
  {
   "cell_type": "code",
   "execution_count": 31,
   "metadata": {},
   "outputs": [
    {
     "data": {
      "text/plain": [
       "0    11\n",
       "1    12\n",
       "2    13\n",
       "3    14\n",
       "4    15\n",
       "Name: 2, dtype: int64"
      ]
     },
     "execution_count": 31,
     "metadata": {},
     "output_type": "execute_result"
    }
   ],
   "source": [
    "# Indexing using .iloc[] for showing specific row\n",
    "df9.iloc[2]"
   ]
  },
  {
   "cell_type": "code",
   "execution_count": 32,
   "metadata": {},
   "outputs": [
    {
     "data": {
      "text/plain": [
       "0    125\n",
       "1      2\n",
       "2     12\n",
       "Name: 1, dtype: int64"
      ]
     },
     "execution_count": 32,
     "metadata": {},
     "output_type": "execute_result"
    }
   ],
   "source": [
    "# Indexing using [] index operator for showing specific row\n",
    "df9[1]"
   ]
  },
  {
   "cell_type": "code",
   "execution_count": 33,
   "metadata": {},
   "outputs": [
    {
     "data": {
      "text/plain": [
       "130"
      ]
     },
     "execution_count": 33,
     "metadata": {},
     "output_type": "execute_result"
    }
   ],
   "source": [
    "# Indexing using .iloc[] for showing specific row and specific column\n",
    "df9.iloc[0,2] # here 0th row and 2nd column"
   ]
  },
  {
   "cell_type": "code",
   "execution_count": 38,
   "metadata": {},
   "outputs": [
    {
     "data": {
      "text/html": [
       "<div>\n",
       "<style scoped>\n",
       "    .dataframe tbody tr th:only-of-type {\n",
       "        vertical-align: middle;\n",
       "    }\n",
       "\n",
       "    .dataframe tbody tr th {\n",
       "        vertical-align: top;\n",
       "    }\n",
       "\n",
       "    .dataframe thead th {\n",
       "        text-align: right;\n",
       "    }\n",
       "</style>\n",
       "<table border=\"1\" class=\"dataframe\">\n",
       "  <thead>\n",
       "    <tr style=\"text-align: right;\">\n",
       "      <th></th>\n",
       "      <th>Ramesh</th>\n",
       "      <th>Rohan</th>\n",
       "      <th>Samiksha</th>\n",
       "      <th>Roohi</th>\n",
       "      <th>Ashish</th>\n",
       "      <th>Sakshi</th>\n",
       "      <th>Shikha</th>\n",
       "      <th>Ridhika</th>\n",
       "    </tr>\n",
       "  </thead>\n",
       "  <tbody>\n",
       "    <tr>\n",
       "      <th>Eng</th>\n",
       "      <td>89</td>\n",
       "      <td>82</td>\n",
       "      <td>68</td>\n",
       "      <td>88</td>\n",
       "      <td>81</td>\n",
       "      <td>78</td>\n",
       "      <td>98</td>\n",
       "      <td>98</td>\n",
       "    </tr>\n",
       "    <tr>\n",
       "      <th>Mathematics</th>\n",
       "      <td>68</td>\n",
       "      <td>69</td>\n",
       "      <td>89</td>\n",
       "      <td>67</td>\n",
       "      <td>82</td>\n",
       "      <td>75</td>\n",
       "      <td>98</td>\n",
       "      <td>98</td>\n",
       "    </tr>\n",
       "    <tr>\n",
       "      <th>Science</th>\n",
       "      <td>91</td>\n",
       "      <td>73</td>\n",
       "      <td>78</td>\n",
       "      <td>77</td>\n",
       "      <td>83</td>\n",
       "      <td>72</td>\n",
       "      <td>98</td>\n",
       "      <td>98</td>\n",
       "    </tr>\n",
       "    <tr>\n",
       "      <th>Social Science</th>\n",
       "      <td>88</td>\n",
       "      <td>88</td>\n",
       "      <td>72</td>\n",
       "      <td>92</td>\n",
       "      <td>84</td>\n",
       "      <td>69</td>\n",
       "      <td>98</td>\n",
       "      <td>98</td>\n",
       "    </tr>\n",
       "    <tr>\n",
       "      <th>Hindi</th>\n",
       "      <td>75</td>\n",
       "      <td>90</td>\n",
       "      <td>84</td>\n",
       "      <td>84</td>\n",
       "      <td>85</td>\n",
       "      <td>87</td>\n",
       "      <td>98</td>\n",
       "      <td>98</td>\n",
       "    </tr>\n",
       "  </tbody>\n",
       "</table>\n",
       "</div>"
      ],
      "text/plain": [
       "                Ramesh  Rohan  Samiksha  Roohi  Ashish  Sakshi  Shikha  \\\n",
       "Eng                 89     82        68     88      81      78      98   \n",
       "Mathematics         68     69        89     67      82      75      98   \n",
       "Science             91     73        78     77      83      72      98   \n",
       "Social Science      88     88        72     92      84      69      98   \n",
       "Hindi               75     90        84     84      85      87      98   \n",
       "\n",
       "                Ridhika  \n",
       "Eng                  98  \n",
       "Mathematics          98  \n",
       "Science              98  \n",
       "Social Science       98  \n",
       "Hindi                98  "
      ]
     },
     "execution_count": 38,
     "metadata": {},
     "output_type": "execute_result"
    }
   ],
   "source": [
    "df8"
   ]
  },
  {
   "cell_type": "code",
   "execution_count": 47,
   "metadata": {},
   "outputs": [
    {
     "data": {
      "text/plain": [
       "Eng                True\n",
       "Mathematics       False\n",
       "Science           False\n",
       "Social Science     True\n",
       "Hindi              True\n",
       "Name: Rohan, dtype: bool"
      ]
     },
     "execution_count": 47,
     "metadata": {},
     "output_type": "execute_result"
    }
   ],
   "source": [
    "# Creating a boolean condition for column\n",
    "df8['Rohan'] > 80\n"
   ]
  },
  {
   "cell_type": "code",
   "execution_count": 48,
   "metadata": {},
   "outputs": [
    {
     "data": {
      "text/plain": [
       "Eng                True\n",
       "Mathematics       False\n",
       "Science           False\n",
       "Social Science     True\n",
       "Hindi              True\n",
       "Name: Rohan, dtype: bool"
      ]
     },
     "execution_count": 48,
     "metadata": {},
     "output_type": "execute_result"
    }
   ],
   "source": [
    "# Creating a boolean condition for column\n",
    "df8.loc[:,'Rohan'] > 80"
   ]
  },
  {
   "cell_type": "code",
   "execution_count": 49,
   "metadata": {},
   "outputs": [
    {
     "data": {
      "text/plain": [
       "Ramesh       True\n",
       "Rohan       False\n",
       "Samiksha    False\n",
       "Roohi       False\n",
       "Ashish       True\n",
       "Sakshi      False\n",
       "Shikha       True\n",
       "Ridhika      True\n",
       "Name: Science, dtype: bool"
      ]
     },
     "execution_count": 49,
     "metadata": {},
     "output_type": "execute_result"
    }
   ],
   "source": [
    "# Creating a boolean condition for row\n",
    "df8.loc['Science'] > 80"
   ]
  },
  {
   "cell_type": "code",
   "execution_count": 60,
   "metadata": {},
   "outputs": [
    {
     "data": {
      "text/html": [
       "<div>\n",
       "<style scoped>\n",
       "    .dataframe tbody tr th:only-of-type {\n",
       "        vertical-align: middle;\n",
       "    }\n",
       "\n",
       "    .dataframe tbody tr th {\n",
       "        vertical-align: top;\n",
       "    }\n",
       "\n",
       "    .dataframe thead th {\n",
       "        text-align: right;\n",
       "    }\n",
       "</style>\n",
       "<table border=\"1\" class=\"dataframe\">\n",
       "  <thead>\n",
       "    <tr style=\"text-align: right;\">\n",
       "      <th></th>\n",
       "      <th>Ramesh</th>\n",
       "      <th>Rohan</th>\n",
       "      <th>Samiksha</th>\n",
       "      <th>Roohi</th>\n",
       "      <th>Ashish</th>\n",
       "      <th>Sakshi</th>\n",
       "      <th>Shikha</th>\n",
       "      <th>Ridhika</th>\n",
       "    </tr>\n",
       "  </thead>\n",
       "  <tbody>\n",
       "    <tr>\n",
       "      <th>Eng</th>\n",
       "      <td>89</td>\n",
       "      <td>82</td>\n",
       "      <td>68</td>\n",
       "      <td>88</td>\n",
       "      <td>81</td>\n",
       "      <td>78</td>\n",
       "      <td>98</td>\n",
       "      <td>98</td>\n",
       "    </tr>\n",
       "    <tr>\n",
       "      <th>Social Science</th>\n",
       "      <td>88</td>\n",
       "      <td>88</td>\n",
       "      <td>72</td>\n",
       "      <td>92</td>\n",
       "      <td>84</td>\n",
       "      <td>69</td>\n",
       "      <td>98</td>\n",
       "      <td>98</td>\n",
       "    </tr>\n",
       "  </tbody>\n",
       "</table>\n",
       "</div>"
      ],
      "text/plain": [
       "                Ramesh  Rohan  Samiksha  Roohi  Ashish  Sakshi  Shikha  \\\n",
       "Eng                 89     82        68     88      81      78      98   \n",
       "Social Science      88     88        72     92      84      69      98   \n",
       "\n",
       "                Ridhika  \n",
       "Eng                  98  \n",
       "Social Science       98  "
      ]
     },
     "execution_count": 60,
     "metadata": {},
     "output_type": "execute_result"
    }
   ],
   "source": [
    "# Creating a boolean condition for column by creating a separate dataframe \n",
    "df8[df8['Roohi'] > 85]"
   ]
  },
  {
   "cell_type": "code",
   "execution_count": 81,
   "metadata": {},
   "outputs": [
    {
     "data": {
      "text/html": [
       "<div>\n",
       "<style scoped>\n",
       "    .dataframe tbody tr th:only-of-type {\n",
       "        vertical-align: middle;\n",
       "    }\n",
       "\n",
       "    .dataframe tbody tr th {\n",
       "        vertical-align: top;\n",
       "    }\n",
       "\n",
       "    .dataframe thead th {\n",
       "        text-align: right;\n",
       "    }\n",
       "</style>\n",
       "<table border=\"1\" class=\"dataframe\">\n",
       "  <thead>\n",
       "    <tr style=\"text-align: right;\">\n",
       "      <th></th>\n",
       "      <th>Ramesh</th>\n",
       "      <th>Rohan</th>\n",
       "      <th>Samiksha</th>\n",
       "      <th>Roohi</th>\n",
       "      <th>Ashish</th>\n",
       "      <th>Sakshi</th>\n",
       "      <th>Shikha</th>\n",
       "      <th>Ridhika</th>\n",
       "    </tr>\n",
       "  </thead>\n",
       "  <tbody>\n",
       "    <tr>\n",
       "      <th>Eng</th>\n",
       "      <td>89</td>\n",
       "      <td>82</td>\n",
       "      <td>68</td>\n",
       "      <td>88</td>\n",
       "      <td>81</td>\n",
       "      <td>78</td>\n",
       "      <td>98</td>\n",
       "      <td>98</td>\n",
       "    </tr>\n",
       "    <tr>\n",
       "      <th>Social Science</th>\n",
       "      <td>88</td>\n",
       "      <td>88</td>\n",
       "      <td>72</td>\n",
       "      <td>92</td>\n",
       "      <td>84</td>\n",
       "      <td>69</td>\n",
       "      <td>98</td>\n",
       "      <td>98</td>\n",
       "    </tr>\n",
       "  </tbody>\n",
       "</table>\n",
       "</div>"
      ],
      "text/plain": [
       "                Ramesh  Rohan  Samiksha  Roohi  Ashish  Sakshi  Shikha  \\\n",
       "Eng                 89     82        68     88      81      78      98   \n",
       "Social Science      88     88        72     92      84      69      98   \n",
       "\n",
       "                Ridhika  \n",
       "Eng                  98  \n",
       "Social Science       98  "
      ]
     },
     "execution_count": 81,
     "metadata": {},
     "output_type": "execute_result"
    }
   ],
   "source": [
    "# Multiple conditions  for boolean indexing\n",
    "\n",
    "dfnew = df8[(df8['Roohi'] > 85) & (df8['Sakshi'] < 90)]\n",
    "dfnew"
   ]
  },
  {
   "cell_type": "code",
   "execution_count": 77,
   "metadata": {},
   "outputs": [
    {
     "data": {
      "text/plain": [
       "Eng               True\n",
       "Mathematics       True\n",
       "Science           True\n",
       "Social Science    True\n",
       "Hindi             True\n",
       "Name: Sakshi, dtype: bool"
      ]
     },
     "execution_count": 77,
     "metadata": {},
     "output_type": "execute_result"
    }
   ],
   "source": [
    "df8['Sakshi'] < 90"
   ]
  },
  {
   "cell_type": "code",
   "execution_count": 82,
   "metadata": {},
   "outputs": [
    {
     "data": {
      "text/html": [
       "<div>\n",
       "<style scoped>\n",
       "    .dataframe tbody tr th:only-of-type {\n",
       "        vertical-align: middle;\n",
       "    }\n",
       "\n",
       "    .dataframe tbody tr th {\n",
       "        vertical-align: top;\n",
       "    }\n",
       "\n",
       "    .dataframe thead th {\n",
       "        text-align: right;\n",
       "    }\n",
       "</style>\n",
       "<table border=\"1\" class=\"dataframe\">\n",
       "  <thead>\n",
       "    <tr style=\"text-align: right;\">\n",
       "      <th></th>\n",
       "      <th>Ramesh</th>\n",
       "      <th>Rohan</th>\n",
       "      <th>Samiksha</th>\n",
       "      <th>Roohi</th>\n",
       "      <th>Ashish</th>\n",
       "      <th>Sakshi</th>\n",
       "      <th>Shikha</th>\n",
       "      <th>Ridhika</th>\n",
       "    </tr>\n",
       "  </thead>\n",
       "  <tbody>\n",
       "    <tr>\n",
       "      <th>Science</th>\n",
       "      <td>91</td>\n",
       "      <td>73</td>\n",
       "      <td>78</td>\n",
       "      <td>77</td>\n",
       "      <td>83</td>\n",
       "      <td>72</td>\n",
       "      <td>98</td>\n",
       "      <td>98</td>\n",
       "    </tr>\n",
       "    <tr>\n",
       "      <th>Social Science</th>\n",
       "      <td>88</td>\n",
       "      <td>88</td>\n",
       "      <td>72</td>\n",
       "      <td>92</td>\n",
       "      <td>84</td>\n",
       "      <td>69</td>\n",
       "      <td>98</td>\n",
       "      <td>98</td>\n",
       "    </tr>\n",
       "  </tbody>\n",
       "</table>\n",
       "</div>"
      ],
      "text/plain": [
       "                Ramesh  Rohan  Samiksha  Roohi  Ashish  Sakshi  Shikha  \\\n",
       "Science             91     73        78     77      83      72      98   \n",
       "Social Science      88     88        72     92      84      69      98   \n",
       "\n",
       "                Ridhika  \n",
       "Science              98  \n",
       "Social Science       98  "
      ]
     },
     "execution_count": 82,
     "metadata": {},
     "output_type": "execute_result"
    }
   ],
   "source": [
    "# row slicing using iloc\n",
    "df8.iloc[2:4]"
   ]
  },
  {
   "cell_type": "code",
   "execution_count": 83,
   "metadata": {},
   "outputs": [
    {
     "data": {
      "text/html": [
       "<div>\n",
       "<style scoped>\n",
       "    .dataframe tbody tr th:only-of-type {\n",
       "        vertical-align: middle;\n",
       "    }\n",
       "\n",
       "    .dataframe tbody tr th {\n",
       "        vertical-align: top;\n",
       "    }\n",
       "\n",
       "    .dataframe thead th {\n",
       "        text-align: right;\n",
       "    }\n",
       "</style>\n",
       "<table border=\"1\" class=\"dataframe\">\n",
       "  <thead>\n",
       "    <tr style=\"text-align: right;\">\n",
       "      <th></th>\n",
       "      <th>Ramesh</th>\n",
       "      <th>Rohan</th>\n",
       "      <th>Samiksha</th>\n",
       "      <th>Roohi</th>\n",
       "      <th>Ashish</th>\n",
       "      <th>Sakshi</th>\n",
       "      <th>Shikha</th>\n",
       "      <th>Ridhika</th>\n",
       "    </tr>\n",
       "  </thead>\n",
       "  <tbody>\n",
       "    <tr>\n",
       "      <th>Eng</th>\n",
       "      <td>89</td>\n",
       "      <td>82</td>\n",
       "      <td>68</td>\n",
       "      <td>88</td>\n",
       "      <td>81</td>\n",
       "      <td>78</td>\n",
       "      <td>98</td>\n",
       "      <td>98</td>\n",
       "    </tr>\n",
       "    <tr>\n",
       "      <th>Mathematics</th>\n",
       "      <td>68</td>\n",
       "      <td>69</td>\n",
       "      <td>89</td>\n",
       "      <td>67</td>\n",
       "      <td>82</td>\n",
       "      <td>75</td>\n",
       "      <td>98</td>\n",
       "      <td>98</td>\n",
       "    </tr>\n",
       "    <tr>\n",
       "      <th>Science</th>\n",
       "      <td>91</td>\n",
       "      <td>73</td>\n",
       "      <td>78</td>\n",
       "      <td>77</td>\n",
       "      <td>83</td>\n",
       "      <td>72</td>\n",
       "      <td>98</td>\n",
       "      <td>98</td>\n",
       "    </tr>\n",
       "  </tbody>\n",
       "</table>\n",
       "</div>"
      ],
      "text/plain": [
       "             Ramesh  Rohan  Samiksha  Roohi  Ashish  Sakshi  Shikha  Ridhika\n",
       "Eng              89     82        68     88      81      78      98       98\n",
       "Mathematics      68     69        89     67      82      75      98       98\n",
       "Science          91     73        78     77      83      72      98       98"
      ]
     },
     "execution_count": 83,
     "metadata": {},
     "output_type": "execute_result"
    }
   ],
   "source": [
    "# row slicing using loc\n",
    "df8.loc['Eng':'Science']"
   ]
  },
  {
   "cell_type": "code",
   "execution_count": 40,
   "metadata": {},
   "outputs": [
    {
     "data": {
      "text/html": [
       "<div>\n",
       "<style scoped>\n",
       "    .dataframe tbody tr th:only-of-type {\n",
       "        vertical-align: middle;\n",
       "    }\n",
       "\n",
       "    .dataframe tbody tr th {\n",
       "        vertical-align: top;\n",
       "    }\n",
       "\n",
       "    .dataframe thead th {\n",
       "        text-align: right;\n",
       "    }\n",
       "</style>\n",
       "<table border=\"1\" class=\"dataframe\">\n",
       "  <thead>\n",
       "    <tr style=\"text-align: right;\">\n",
       "      <th></th>\n",
       "      <th>Rehan</th>\n",
       "      <th>Ashish</th>\n",
       "    </tr>\n",
       "  </thead>\n",
       "  <tbody>\n",
       "    <tr>\n",
       "      <th>English</th>\n",
       "      <td>82</td>\n",
       "      <td>81</td>\n",
       "    </tr>\n",
       "    <tr>\n",
       "      <th>Maths</th>\n",
       "      <td>69</td>\n",
       "      <td>82</td>\n",
       "    </tr>\n",
       "    <tr>\n",
       "      <th>Science</th>\n",
       "      <td>73</td>\n",
       "      <td>83</td>\n",
       "    </tr>\n",
       "    <tr>\n",
       "      <th>SST</th>\n",
       "      <td>88</td>\n",
       "      <td>84</td>\n",
       "    </tr>\n",
       "    <tr>\n",
       "      <th>Hindi</th>\n",
       "      <td>90</td>\n",
       "      <td>85</td>\n",
       "    </tr>\n",
       "  </tbody>\n",
       "</table>\n",
       "</div>"
      ],
      "text/plain": [
       "         Rehan  Ashish\n",
       "English     82      81\n",
       "Maths       69      82\n",
       "Science     73      83\n",
       "SST         88      84\n",
       "Hindi       90      85"
      ]
     },
     "execution_count": 40,
     "metadata": {},
     "output_type": "execute_result"
    }
   ],
   "source": [
    "# column Slicing by label using index operator \n",
    "df8[['Rehan','Ashish']]"
   ]
  },
  {
   "cell_type": "code",
   "execution_count": 84,
   "metadata": {},
   "outputs": [
    {
     "data": {
      "text/html": [
       "<div>\n",
       "<style scoped>\n",
       "    .dataframe tbody tr th:only-of-type {\n",
       "        vertical-align: middle;\n",
       "    }\n",
       "\n",
       "    .dataframe tbody tr th {\n",
       "        vertical-align: top;\n",
       "    }\n",
       "\n",
       "    .dataframe thead th {\n",
       "        text-align: right;\n",
       "    }\n",
       "</style>\n",
       "<table border=\"1\" class=\"dataframe\">\n",
       "  <thead>\n",
       "    <tr style=\"text-align: right;\">\n",
       "      <th></th>\n",
       "      <th>Samiksha</th>\n",
       "      <th>Roohi</th>\n",
       "      <th>Ashish</th>\n",
       "    </tr>\n",
       "  </thead>\n",
       "  <tbody>\n",
       "    <tr>\n",
       "      <th>Eng</th>\n",
       "      <td>68</td>\n",
       "      <td>88</td>\n",
       "      <td>81</td>\n",
       "    </tr>\n",
       "    <tr>\n",
       "      <th>Mathematics</th>\n",
       "      <td>89</td>\n",
       "      <td>67</td>\n",
       "      <td>82</td>\n",
       "    </tr>\n",
       "    <tr>\n",
       "      <th>Science</th>\n",
       "      <td>78</td>\n",
       "      <td>77</td>\n",
       "      <td>83</td>\n",
       "    </tr>\n",
       "    <tr>\n",
       "      <th>Social Science</th>\n",
       "      <td>72</td>\n",
       "      <td>92</td>\n",
       "      <td>84</td>\n",
       "    </tr>\n",
       "    <tr>\n",
       "      <th>Hindi</th>\n",
       "      <td>84</td>\n",
       "      <td>84</td>\n",
       "      <td>85</td>\n",
       "    </tr>\n",
       "  </tbody>\n",
       "</table>\n",
       "</div>"
      ],
      "text/plain": [
       "                Samiksha  Roohi  Ashish\n",
       "Eng                   68     88      81\n",
       "Mathematics           89     67      82\n",
       "Science               78     77      83\n",
       "Social Science        72     92      84\n",
       "Hindi                 84     84      85"
      ]
     },
     "execution_count": 84,
     "metadata": {},
     "output_type": "execute_result"
    }
   ],
   "source": [
    "# column slicing using iloc\n",
    "df8.iloc[:,2:5]"
   ]
  },
  {
   "cell_type": "code",
   "execution_count": 85,
   "metadata": {},
   "outputs": [
    {
     "data": {
      "text/html": [
       "<div>\n",
       "<style scoped>\n",
       "    .dataframe tbody tr th:only-of-type {\n",
       "        vertical-align: middle;\n",
       "    }\n",
       "\n",
       "    .dataframe tbody tr th {\n",
       "        vertical-align: top;\n",
       "    }\n",
       "\n",
       "    .dataframe thead th {\n",
       "        text-align: right;\n",
       "    }\n",
       "</style>\n",
       "<table border=\"1\" class=\"dataframe\">\n",
       "  <thead>\n",
       "    <tr style=\"text-align: right;\">\n",
       "      <th></th>\n",
       "      <th>Samiksha</th>\n",
       "      <th>Roohi</th>\n",
       "      <th>Ashish</th>\n",
       "    </tr>\n",
       "  </thead>\n",
       "  <tbody>\n",
       "    <tr>\n",
       "      <th>Mathematics</th>\n",
       "      <td>89</td>\n",
       "      <td>67</td>\n",
       "      <td>82</td>\n",
       "    </tr>\n",
       "    <tr>\n",
       "      <th>Science</th>\n",
       "      <td>78</td>\n",
       "      <td>77</td>\n",
       "      <td>83</td>\n",
       "    </tr>\n",
       "    <tr>\n",
       "      <th>Social Science</th>\n",
       "      <td>72</td>\n",
       "      <td>92</td>\n",
       "      <td>84</td>\n",
       "    </tr>\n",
       "  </tbody>\n",
       "</table>\n",
       "</div>"
      ],
      "text/plain": [
       "                Samiksha  Roohi  Ashish\n",
       "Mathematics           89     67      82\n",
       "Science               78     77      83\n",
       "Social Science        72     92      84"
      ]
     },
     "execution_count": 85,
     "metadata": {},
     "output_type": "execute_result"
    }
   ],
   "source": [
    "# Slicing both rows and columns simultaneously\n",
    "df8.iloc[1:4, 2:5]  # Rows 2-4, Columns 3-5\n"
   ]
  },
  {
   "cell_type": "code",
   "execution_count": 87,
   "metadata": {},
   "outputs": [
    {
     "data": {
      "text/html": [
       "<div>\n",
       "<style scoped>\n",
       "    .dataframe tbody tr th:only-of-type {\n",
       "        vertical-align: middle;\n",
       "    }\n",
       "\n",
       "    .dataframe tbody tr th {\n",
       "        vertical-align: top;\n",
       "    }\n",
       "\n",
       "    .dataframe thead th {\n",
       "        text-align: right;\n",
       "    }\n",
       "</style>\n",
       "<table border=\"1\" class=\"dataframe\">\n",
       "  <thead>\n",
       "    <tr style=\"text-align: right;\">\n",
       "      <th></th>\n",
       "      <th>Samiksha</th>\n",
       "      <th>Roohi</th>\n",
       "      <th>Ashish</th>\n",
       "    </tr>\n",
       "  </thead>\n",
       "  <tbody>\n",
       "    <tr>\n",
       "      <th>Mathematics</th>\n",
       "      <td>89</td>\n",
       "      <td>67</td>\n",
       "      <td>82</td>\n",
       "    </tr>\n",
       "    <tr>\n",
       "      <th>Science</th>\n",
       "      <td>78</td>\n",
       "      <td>77</td>\n",
       "      <td>83</td>\n",
       "    </tr>\n",
       "    <tr>\n",
       "      <th>Social Science</th>\n",
       "      <td>72</td>\n",
       "      <td>92</td>\n",
       "      <td>84</td>\n",
       "    </tr>\n",
       "  </tbody>\n",
       "</table>\n",
       "</div>"
      ],
      "text/plain": [
       "                Samiksha  Roohi  Ashish\n",
       "Mathematics           89     67      82\n",
       "Science               78     77      83\n",
       "Social Science        72     92      84"
      ]
     },
     "execution_count": 87,
     "metadata": {},
     "output_type": "execute_result"
    }
   ],
   "source": [
    "# Slicing both rows and columns simultaneously\n",
    "df8.loc[\"Mathematics\":\"Social Science\", \"Samiksha\":\"Ashish\"]  # Rows 2-4, Columns 3-5"
   ]
  },
  {
   "cell_type": "code",
   "execution_count": 91,
   "metadata": {},
   "outputs": [
    {
     "data": {
      "text/html": [
       "<div>\n",
       "<style scoped>\n",
       "    .dataframe tbody tr th:only-of-type {\n",
       "        vertical-align: middle;\n",
       "    }\n",
       "\n",
       "    .dataframe tbody tr th {\n",
       "        vertical-align: top;\n",
       "    }\n",
       "\n",
       "    .dataframe thead th {\n",
       "        text-align: right;\n",
       "    }\n",
       "</style>\n",
       "<table border=\"1\" class=\"dataframe\">\n",
       "  <thead>\n",
       "    <tr style=\"text-align: right;\">\n",
       "      <th></th>\n",
       "      <th>Samiksha</th>\n",
       "      <th>Ashish</th>\n",
       "    </tr>\n",
       "  </thead>\n",
       "  <tbody>\n",
       "    <tr>\n",
       "      <th>Mathematics</th>\n",
       "      <td>89</td>\n",
       "      <td>82</td>\n",
       "    </tr>\n",
       "    <tr>\n",
       "      <th>Science</th>\n",
       "      <td>78</td>\n",
       "      <td>83</td>\n",
       "    </tr>\n",
       "    <tr>\n",
       "      <th>Social Science</th>\n",
       "      <td>72</td>\n",
       "      <td>84</td>\n",
       "    </tr>\n",
       "  </tbody>\n",
       "</table>\n",
       "</div>"
      ],
      "text/plain": [
       "                Samiksha  Ashish\n",
       "Mathematics           89      82\n",
       "Science               78      83\n",
       "Social Science        72      84"
      ]
     },
     "execution_count": 91,
     "metadata": {},
     "output_type": "execute_result"
    }
   ],
   "source": [
    "# Slicing both rows but specific columns simultaneously\n",
    "df8.loc[\"Mathematics\":\"Social Science\",[ \"Samiksha\",\"Ashish\"]]  # Rows 2-4, Columns 3-5"
   ]
  },
  {
   "cell_type": "code",
   "execution_count": 97,
   "metadata": {},
   "outputs": [
    {
     "data": {
      "text/html": [
       "<div>\n",
       "<style scoped>\n",
       "    .dataframe tbody tr th:only-of-type {\n",
       "        vertical-align: middle;\n",
       "    }\n",
       "\n",
       "    .dataframe tbody tr th {\n",
       "        vertical-align: top;\n",
       "    }\n",
       "\n",
       "    .dataframe thead th {\n",
       "        text-align: right;\n",
       "    }\n",
       "</style>\n",
       "<table border=\"1\" class=\"dataframe\">\n",
       "  <thead>\n",
       "    <tr style=\"text-align: right;\">\n",
       "      <th></th>\n",
       "      <th>Ramesh</th>\n",
       "      <th>Rohan</th>\n",
       "      <th>Samiksha</th>\n",
       "      <th>Roohi</th>\n",
       "      <th>Ashish</th>\n",
       "      <th>Sakshi</th>\n",
       "      <th>Shikha</th>\n",
       "      <th>Ridhika</th>\n",
       "    </tr>\n",
       "  </thead>\n",
       "  <tbody>\n",
       "    <tr>\n",
       "      <th>Eng</th>\n",
       "      <td>89</td>\n",
       "      <td>82</td>\n",
       "      <td>68</td>\n",
       "      <td>88</td>\n",
       "      <td>81</td>\n",
       "      <td>78</td>\n",
       "      <td>98</td>\n",
       "      <td>98</td>\n",
       "    </tr>\n",
       "    <tr>\n",
       "      <th>Mathematics</th>\n",
       "      <td>68</td>\n",
       "      <td>69</td>\n",
       "      <td>89</td>\n",
       "      <td>67</td>\n",
       "      <td>82</td>\n",
       "      <td>75</td>\n",
       "      <td>98</td>\n",
       "      <td>98</td>\n",
       "    </tr>\n",
       "    <tr>\n",
       "      <th>Science</th>\n",
       "      <td>91</td>\n",
       "      <td>73</td>\n",
       "      <td>78</td>\n",
       "      <td>77</td>\n",
       "      <td>83</td>\n",
       "      <td>72</td>\n",
       "      <td>98</td>\n",
       "      <td>98</td>\n",
       "    </tr>\n",
       "    <tr>\n",
       "      <th>Social Science</th>\n",
       "      <td>88</td>\n",
       "      <td>88</td>\n",
       "      <td>72</td>\n",
       "      <td>92</td>\n",
       "      <td>84</td>\n",
       "      <td>69</td>\n",
       "      <td>98</td>\n",
       "      <td>98</td>\n",
       "    </tr>\n",
       "    <tr>\n",
       "      <th>Hindi</th>\n",
       "      <td>75</td>\n",
       "      <td>90</td>\n",
       "      <td>84</td>\n",
       "      <td>84</td>\n",
       "      <td>85</td>\n",
       "      <td>87</td>\n",
       "      <td>98</td>\n",
       "      <td>98</td>\n",
       "    </tr>\n",
       "  </tbody>\n",
       "</table>\n",
       "</div>"
      ],
      "text/plain": [
       "                Ramesh  Rohan  Samiksha  Roohi  Ashish  Sakshi  Shikha  \\\n",
       "Eng                 89     82        68     88      81      78      98   \n",
       "Mathematics         68     69        89     67      82      75      98   \n",
       "Science             91     73        78     77      83      72      98   \n",
       "Social Science      88     88        72     92      84      69      98   \n",
       "Hindi               75     90        84     84      85      87      98   \n",
       "\n",
       "                Ridhika  \n",
       "Eng                  98  \n",
       "Mathematics          98  \n",
       "Science              98  \n",
       "Social Science       98  \n",
       "Hindi                98  "
      ]
     },
     "execution_count": 97,
     "metadata": {},
     "output_type": "execute_result"
    }
   ],
   "source": [
    "# printing dataframe df8 already created\n",
    "df8"
   ]
  },
  {
   "cell_type": "code",
   "execution_count": 98,
   "metadata": {},
   "outputs": [
    {
     "data": {
      "text/html": [
       "<div>\n",
       "<style scoped>\n",
       "    .dataframe tbody tr th:only-of-type {\n",
       "        vertical-align: middle;\n",
       "    }\n",
       "\n",
       "    .dataframe tbody tr th {\n",
       "        vertical-align: top;\n",
       "    }\n",
       "\n",
       "    .dataframe thead th {\n",
       "        text-align: right;\n",
       "    }\n",
       "</style>\n",
       "<table border=\"1\" class=\"dataframe\">\n",
       "  <thead>\n",
       "    <tr style=\"text-align: right;\">\n",
       "      <th></th>\n",
       "      <th>Ramesh</th>\n",
       "      <th>Rohan</th>\n",
       "      <th>Samiksha</th>\n",
       "      <th>Roohi</th>\n",
       "      <th>Ashish</th>\n",
       "      <th>Sakshi</th>\n",
       "      <th>Shikha</th>\n",
       "      <th>Ridhika</th>\n",
       "    </tr>\n",
       "  </thead>\n",
       "  <tbody>\n",
       "    <tr>\n",
       "      <th>Eng</th>\n",
       "      <td>89</td>\n",
       "      <td>82</td>\n",
       "      <td>68</td>\n",
       "      <td>88</td>\n",
       "      <td>81</td>\n",
       "      <td>78</td>\n",
       "      <td>98</td>\n",
       "      <td>98</td>\n",
       "    </tr>\n",
       "    <tr>\n",
       "      <th>Science</th>\n",
       "      <td>91</td>\n",
       "      <td>73</td>\n",
       "      <td>78</td>\n",
       "      <td>77</td>\n",
       "      <td>83</td>\n",
       "      <td>72</td>\n",
       "      <td>98</td>\n",
       "      <td>98</td>\n",
       "    </tr>\n",
       "    <tr>\n",
       "      <th>Social Science</th>\n",
       "      <td>88</td>\n",
       "      <td>88</td>\n",
       "      <td>72</td>\n",
       "      <td>92</td>\n",
       "      <td>84</td>\n",
       "      <td>69</td>\n",
       "      <td>98</td>\n",
       "      <td>98</td>\n",
       "    </tr>\n",
       "  </tbody>\n",
       "</table>\n",
       "</div>"
      ],
      "text/plain": [
       "                Ramesh  Rohan  Samiksha  Roohi  Ashish  Sakshi  Shikha  \\\n",
       "Eng                 89     82        68     88      81      78      98   \n",
       "Science             91     73        78     77      83      72      98   \n",
       "Social Science      88     88        72     92      84      69      98   \n",
       "\n",
       "                Ridhika  \n",
       "Eng                  98  \n",
       "Science              98  \n",
       "Social Science       98  "
      ]
     },
     "execution_count": 98,
     "metadata": {},
     "output_type": "execute_result"
    }
   ],
   "source": [
    "# Filtering using .loc method\n",
    "df8.loc[[True, False, True, True, False]]"
   ]
  },
  {
   "cell_type": "code",
   "execution_count": 115,
   "metadata": {},
   "outputs": [
    {
     "data": {
      "text/html": [
       "<div>\n",
       "<style scoped>\n",
       "    .dataframe tbody tr th:only-of-type {\n",
       "        vertical-align: middle;\n",
       "    }\n",
       "\n",
       "    .dataframe tbody tr th {\n",
       "        vertical-align: top;\n",
       "    }\n",
       "\n",
       "    .dataframe thead th {\n",
       "        text-align: right;\n",
       "    }\n",
       "</style>\n",
       "<table border=\"1\" class=\"dataframe\">\n",
       "  <thead>\n",
       "    <tr style=\"text-align: right;\">\n",
       "      <th></th>\n",
       "      <th>Productid</th>\n",
       "      <th>Name</th>\n",
       "      <th>Price</th>\n",
       "    </tr>\n",
       "  </thead>\n",
       "  <tbody>\n",
       "    <tr>\n",
       "      <th>R1</th>\n",
       "      <td>101</td>\n",
       "      <td>Soap</td>\n",
       "      <td>78</td>\n",
       "    </tr>\n",
       "    <tr>\n",
       "      <th>R2</th>\n",
       "      <td>102</td>\n",
       "      <td>Biscuit</td>\n",
       "      <td>59</td>\n",
       "    </tr>\n",
       "    <tr>\n",
       "      <th>R3</th>\n",
       "      <td>103</td>\n",
       "      <td>Notebook</td>\n",
       "      <td>145</td>\n",
       "    </tr>\n",
       "    <tr>\n",
       "      <th>R2</th>\n",
       "      <td>104</td>\n",
       "      <td>Pen</td>\n",
       "      <td>315</td>\n",
       "    </tr>\n",
       "    <tr>\n",
       "      <th>R4</th>\n",
       "      <td>105</td>\n",
       "      <td>Pencil</td>\n",
       "      <td>29</td>\n",
       "    </tr>\n",
       "    <tr>\n",
       "      <th>R5</th>\n",
       "      <td>106</td>\n",
       "      <td>Eraser</td>\n",
       "      <td>45</td>\n",
       "    </tr>\n",
       "  </tbody>\n",
       "</table>\n",
       "</div>"
      ],
      "text/plain": [
       "    Productid      Name  Price\n",
       "R1        101      Soap     78\n",
       "R2        102   Biscuit     59\n",
       "R3        103  Notebook    145\n",
       "R2        104       Pen    315\n",
       "R4        105    Pencil     29\n",
       "R5        106    Eraser     45"
      ]
     },
     "execution_count": 115,
     "metadata": {},
     "output_type": "execute_result"
    }
   ],
   "source": [
    "#Joining, Merging and Concatenation of DataFrames\n",
    "import pandas as pd\n",
    "\n",
    "# Sample DataFrames\n",
    "d1 = {'Productid': [101, 102, 103], 'Name': ['Soap', 'Biscuit', 'Notebook'],'Price':[78,59,145]}\n",
    "d2 = {'Productid': [104, 105, 106], 'Name': ['Pen', 'Pencil', 'Eraser'],'Price':[315,29,45]}\n",
    "df1 = pd.DataFrame(d1,index=['R1','R2','R3'])\n",
    "df2 = pd.DataFrame(d2, index=['R2','R4','R5'])\n",
    "\n",
    "# Append df2 below df1\n",
    "dfNew = df1.append(df2)\n",
    "dfNew"
   ]
  },
  {
   "cell_type": "code",
   "execution_count": 118,
   "metadata": {},
   "outputs": [
    {
     "data": {
      "text/html": [
       "<div>\n",
       "<style scoped>\n",
       "    .dataframe tbody tr th:only-of-type {\n",
       "        vertical-align: middle;\n",
       "    }\n",
       "\n",
       "    .dataframe tbody tr th {\n",
       "        vertical-align: top;\n",
       "    }\n",
       "\n",
       "    .dataframe thead th {\n",
       "        text-align: right;\n",
       "    }\n",
       "</style>\n",
       "<table border=\"1\" class=\"dataframe\">\n",
       "  <thead>\n",
       "    <tr style=\"text-align: right;\">\n",
       "      <th></th>\n",
       "      <th>Productid</th>\n",
       "      <th>Name</th>\n",
       "      <th>Price</th>\n",
       "    </tr>\n",
       "  </thead>\n",
       "  <tbody>\n",
       "    <tr>\n",
       "      <th>0</th>\n",
       "      <td>101</td>\n",
       "      <td>Soap</td>\n",
       "      <td>78</td>\n",
       "    </tr>\n",
       "    <tr>\n",
       "      <th>1</th>\n",
       "      <td>102</td>\n",
       "      <td>Biscuit</td>\n",
       "      <td>59</td>\n",
       "    </tr>\n",
       "    <tr>\n",
       "      <th>2</th>\n",
       "      <td>103</td>\n",
       "      <td>Notebook</td>\n",
       "      <td>145</td>\n",
       "    </tr>\n",
       "    <tr>\n",
       "      <th>3</th>\n",
       "      <td>104</td>\n",
       "      <td>Pen</td>\n",
       "      <td>315</td>\n",
       "    </tr>\n",
       "    <tr>\n",
       "      <th>4</th>\n",
       "      <td>105</td>\n",
       "      <td>Pencil</td>\n",
       "      <td>29</td>\n",
       "    </tr>\n",
       "    <tr>\n",
       "      <th>5</th>\n",
       "      <td>106</td>\n",
       "      <td>Eraser</td>\n",
       "      <td>45</td>\n",
       "    </tr>\n",
       "  </tbody>\n",
       "</table>\n",
       "</div>"
      ],
      "text/plain": [
       "   Productid      Name  Price\n",
       "0        101      Soap     78\n",
       "1        102   Biscuit     59\n",
       "2        103  Notebook    145\n",
       "3        104       Pen    315\n",
       "4        105    Pencil     29\n",
       "5        106    Eraser     45"
      ]
     },
     "execution_count": 118,
     "metadata": {},
     "output_type": "execute_result"
    }
   ],
   "source": [
    "#Joining, Merging and Concatenation of DataFrames\n",
    "import pandas as pd\n",
    "\n",
    "# Sample DataFrames\n",
    "d1 = {'Productid': [101, 102, 103], 'Name': ['Soap', 'Biscuit', 'Notebook'],'Price':[78,59,145]}\n",
    "d2 = {'Productid': [104, 105, 106], 'Name': ['Pen', 'Pencil', 'Eraser'],'Price':[315,29,45]}\n",
    "df1 = pd.DataFrame(d1,index=['R1','R2','R3'])\n",
    "df2 = pd.DataFrame(d2, index=['R2','R4','R5'])\n",
    "\n",
    "# Append df2 below df1 using parameter ignore_index\n",
    "dfNew = df1.append(df2, ignore_index=True)\n",
    "dfNew"
   ]
  },
  {
   "cell_type": "code",
   "execution_count": 119,
   "metadata": {},
   "outputs": [
    {
     "data": {
      "text/html": [
       "<div>\n",
       "<style scoped>\n",
       "    .dataframe tbody tr th:only-of-type {\n",
       "        vertical-align: middle;\n",
       "    }\n",
       "\n",
       "    .dataframe tbody tr th {\n",
       "        vertical-align: top;\n",
       "    }\n",
       "\n",
       "    .dataframe thead th {\n",
       "        text-align: right;\n",
       "    }\n",
       "</style>\n",
       "<table border=\"1\" class=\"dataframe\">\n",
       "  <thead>\n",
       "    <tr style=\"text-align: right;\">\n",
       "      <th></th>\n",
       "      <th>Productid</th>\n",
       "      <th>Name</th>\n",
       "      <th>Price</th>\n",
       "    </tr>\n",
       "  </thead>\n",
       "  <tbody>\n",
       "    <tr>\n",
       "      <th>R1</th>\n",
       "      <td>101</td>\n",
       "      <td>Soap</td>\n",
       "      <td>78</td>\n",
       "    </tr>\n",
       "    <tr>\n",
       "      <th>R2</th>\n",
       "      <td>102</td>\n",
       "      <td>Biscuit</td>\n",
       "      <td>59</td>\n",
       "    </tr>\n",
       "    <tr>\n",
       "      <th>R3</th>\n",
       "      <td>103</td>\n",
       "      <td>Notebook</td>\n",
       "      <td>145</td>\n",
       "    </tr>\n",
       "    <tr>\n",
       "      <th>R2</th>\n",
       "      <td>104</td>\n",
       "      <td>Pen</td>\n",
       "      <td>315</td>\n",
       "    </tr>\n",
       "    <tr>\n",
       "      <th>R4</th>\n",
       "      <td>105</td>\n",
       "      <td>Pencil</td>\n",
       "      <td>29</td>\n",
       "    </tr>\n",
       "    <tr>\n",
       "      <th>R5</th>\n",
       "      <td>106</td>\n",
       "      <td>Eraser</td>\n",
       "      <td>45</td>\n",
       "    </tr>\n",
       "  </tbody>\n",
       "</table>\n",
       "</div>"
      ],
      "text/plain": [
       "    Productid      Name  Price\n",
       "R1        101      Soap     78\n",
       "R2        102   Biscuit     59\n",
       "R3        103  Notebook    145\n",
       "R2        104       Pen    315\n",
       "R4        105    Pencil     29\n",
       "R5        106    Eraser     45"
      ]
     },
     "execution_count": 119,
     "metadata": {},
     "output_type": "execute_result"
    }
   ],
   "source": [
    "#Joining, Merging and Concatenation of DataFrames\n",
    "import pandas as pd\n",
    "\n",
    "# Sample DataFrames\n",
    "d1 = {'Productid': [101, 102, 103], 'Name': ['Soap', 'Biscuit', 'Notebook'],'Price':[78,59,145]}\n",
    "d2 = {'Productid': [104, 105, 106], 'Name': ['Pen', 'Pencil', 'Eraser'],'Price':[315,29,45]}\n",
    "df1 = pd.DataFrame(d1,index=['R1','R2','R3'])\n",
    "df2 = pd.DataFrame(d2, index=['R2','R4','R5'])\n",
    "\n",
    "# Append df2 below df1 using parameter ignore_index\n",
    "dfNew = df1.append(df2, ignore_index=False)\n",
    "dfNew"
   ]
  },
  {
   "cell_type": "code",
   "execution_count": 134,
   "metadata": {},
   "outputs": [
    {
     "ename": "ValueError",
     "evalue": "Indexes have overlapping values: Index(['R1'], dtype='object')",
     "output_type": "error",
     "traceback": [
      "\u001b[1;31m---------------------------------------------------------------------------\u001b[0m",
      "\u001b[1;31mValueError\u001b[0m                                Traceback (most recent call last)",
      "\u001b[1;32m<ipython-input-134-c779922650a0>\u001b[0m in \u001b[0;36m<module>\u001b[1;34m\u001b[0m\n\u001b[0;32m      9\u001b[0m \u001b[1;33m\u001b[0m\u001b[0m\n\u001b[0;32m     10\u001b[0m \u001b[1;31m# Append df2 below df1 using parameter verify_integrity\u001b[0m\u001b[1;33m\u001b[0m\u001b[1;33m\u001b[0m\u001b[1;33m\u001b[0m\u001b[0m\n\u001b[1;32m---> 11\u001b[1;33m \u001b[0mdfNew\u001b[0m \u001b[1;33m=\u001b[0m \u001b[0mdf1\u001b[0m\u001b[1;33m.\u001b[0m\u001b[0mappend\u001b[0m\u001b[1;33m(\u001b[0m\u001b[0mdf2\u001b[0m\u001b[1;33m,\u001b[0m \u001b[0mverify_integrity\u001b[0m\u001b[1;33m=\u001b[0m\u001b[1;32mTrue\u001b[0m\u001b[1;33m)\u001b[0m\u001b[1;33m\u001b[0m\u001b[1;33m\u001b[0m\u001b[0m\n\u001b[0m\u001b[0;32m     12\u001b[0m \u001b[0mdfNew\u001b[0m\u001b[1;33m\u001b[0m\u001b[1;33m\u001b[0m\u001b[0m\n",
      "\u001b[1;32mD:\\Anaconda-Personal\\lib\\site-packages\\pandas\\core\\frame.py\u001b[0m in \u001b[0;36mappend\u001b[1;34m(self, other, ignore_index, verify_integrity, sort)\u001b[0m\n\u001b[0;32m   7741\u001b[0m         \u001b[1;32melse\u001b[0m\u001b[1;33m:\u001b[0m\u001b[1;33m\u001b[0m\u001b[1;33m\u001b[0m\u001b[0m\n\u001b[0;32m   7742\u001b[0m             \u001b[0mto_concat\u001b[0m \u001b[1;33m=\u001b[0m \u001b[1;33m[\u001b[0m\u001b[0mself\u001b[0m\u001b[1;33m,\u001b[0m \u001b[0mother\u001b[0m\u001b[1;33m]\u001b[0m\u001b[1;33m\u001b[0m\u001b[1;33m\u001b[0m\u001b[0m\n\u001b[1;32m-> 7743\u001b[1;33m         return concat(\n\u001b[0m\u001b[0;32m   7744\u001b[0m             \u001b[0mto_concat\u001b[0m\u001b[1;33m,\u001b[0m\u001b[1;33m\u001b[0m\u001b[1;33m\u001b[0m\u001b[0m\n\u001b[0;32m   7745\u001b[0m             \u001b[0mignore_index\u001b[0m\u001b[1;33m=\u001b[0m\u001b[0mignore_index\u001b[0m\u001b[1;33m,\u001b[0m\u001b[1;33m\u001b[0m\u001b[1;33m\u001b[0m\u001b[0m\n",
      "\u001b[1;32mD:\\Anaconda-Personal\\lib\\site-packages\\pandas\\core\\reshape\\concat.py\u001b[0m in \u001b[0;36mconcat\u001b[1;34m(objs, axis, join, ignore_index, keys, levels, names, verify_integrity, sort, copy)\u001b[0m\n\u001b[0;32m    272\u001b[0m     \u001b[0mValueError\u001b[0m\u001b[1;33m:\u001b[0m \u001b[0mIndexes\u001b[0m \u001b[0mhave\u001b[0m \u001b[0moverlapping\u001b[0m \u001b[0mvalues\u001b[0m\u001b[1;33m:\u001b[0m \u001b[1;33m[\u001b[0m\u001b[1;34m'a'\u001b[0m\u001b[1;33m]\u001b[0m\u001b[1;33m\u001b[0m\u001b[1;33m\u001b[0m\u001b[0m\n\u001b[0;32m    273\u001b[0m     \"\"\"\n\u001b[1;32m--> 274\u001b[1;33m     op = _Concatenator(\n\u001b[0m\u001b[0;32m    275\u001b[0m         \u001b[0mobjs\u001b[0m\u001b[1;33m,\u001b[0m\u001b[1;33m\u001b[0m\u001b[1;33m\u001b[0m\u001b[0m\n\u001b[0;32m    276\u001b[0m         \u001b[0maxis\u001b[0m\u001b[1;33m=\u001b[0m\u001b[0maxis\u001b[0m\u001b[1;33m,\u001b[0m\u001b[1;33m\u001b[0m\u001b[1;33m\u001b[0m\u001b[0m\n",
      "\u001b[1;32mD:\\Anaconda-Personal\\lib\\site-packages\\pandas\\core\\reshape\\concat.py\u001b[0m in \u001b[0;36m__init__\u001b[1;34m(self, objs, axis, join, keys, levels, names, ignore_index, verify_integrity, copy, sort)\u001b[0m\n\u001b[0;32m    452\u001b[0m         \u001b[0mself\u001b[0m\u001b[1;33m.\u001b[0m\u001b[0mcopy\u001b[0m \u001b[1;33m=\u001b[0m \u001b[0mcopy\u001b[0m\u001b[1;33m\u001b[0m\u001b[1;33m\u001b[0m\u001b[0m\n\u001b[0;32m    453\u001b[0m \u001b[1;33m\u001b[0m\u001b[0m\n\u001b[1;32m--> 454\u001b[1;33m         \u001b[0mself\u001b[0m\u001b[1;33m.\u001b[0m\u001b[0mnew_axes\u001b[0m \u001b[1;33m=\u001b[0m \u001b[0mself\u001b[0m\u001b[1;33m.\u001b[0m\u001b[0m_get_new_axes\u001b[0m\u001b[1;33m(\u001b[0m\u001b[1;33m)\u001b[0m\u001b[1;33m\u001b[0m\u001b[1;33m\u001b[0m\u001b[0m\n\u001b[0m\u001b[0;32m    455\u001b[0m \u001b[1;33m\u001b[0m\u001b[0m\n\u001b[0;32m    456\u001b[0m     \u001b[1;32mdef\u001b[0m \u001b[0mget_result\u001b[0m\u001b[1;33m(\u001b[0m\u001b[0mself\u001b[0m\u001b[1;33m)\u001b[0m\u001b[1;33m:\u001b[0m\u001b[1;33m\u001b[0m\u001b[1;33m\u001b[0m\u001b[0m\n",
      "\u001b[1;32mD:\\Anaconda-Personal\\lib\\site-packages\\pandas\\core\\reshape\\concat.py\u001b[0m in \u001b[0;36m_get_new_axes\u001b[1;34m(self)\u001b[0m\n\u001b[0;32m    517\u001b[0m     \u001b[1;32mdef\u001b[0m \u001b[0m_get_new_axes\u001b[0m\u001b[1;33m(\u001b[0m\u001b[0mself\u001b[0m\u001b[1;33m)\u001b[0m \u001b[1;33m->\u001b[0m \u001b[0mList\u001b[0m\u001b[1;33m[\u001b[0m\u001b[0mIndex\u001b[0m\u001b[1;33m]\u001b[0m\u001b[1;33m:\u001b[0m\u001b[1;33m\u001b[0m\u001b[1;33m\u001b[0m\u001b[0m\n\u001b[0;32m    518\u001b[0m         \u001b[0mndim\u001b[0m \u001b[1;33m=\u001b[0m \u001b[0mself\u001b[0m\u001b[1;33m.\u001b[0m\u001b[0m_get_result_dim\u001b[0m\u001b[1;33m(\u001b[0m\u001b[1;33m)\u001b[0m\u001b[1;33m\u001b[0m\u001b[1;33m\u001b[0m\u001b[0m\n\u001b[1;32m--> 519\u001b[1;33m         return [\n\u001b[0m\u001b[0;32m    520\u001b[0m             \u001b[0mself\u001b[0m\u001b[1;33m.\u001b[0m\u001b[0m_get_concat_axis\u001b[0m\u001b[1;33m(\u001b[0m\u001b[1;33m)\u001b[0m \u001b[1;32mif\u001b[0m \u001b[0mi\u001b[0m \u001b[1;33m==\u001b[0m \u001b[0mself\u001b[0m\u001b[1;33m.\u001b[0m\u001b[0mbm_axis\u001b[0m \u001b[1;32melse\u001b[0m \u001b[0mself\u001b[0m\u001b[1;33m.\u001b[0m\u001b[0m_get_comb_axis\u001b[0m\u001b[1;33m(\u001b[0m\u001b[0mi\u001b[0m\u001b[1;33m)\u001b[0m\u001b[1;33m\u001b[0m\u001b[1;33m\u001b[0m\u001b[0m\n\u001b[0;32m    521\u001b[0m             \u001b[1;32mfor\u001b[0m \u001b[0mi\u001b[0m \u001b[1;32min\u001b[0m \u001b[0mrange\u001b[0m\u001b[1;33m(\u001b[0m\u001b[0mndim\u001b[0m\u001b[1;33m)\u001b[0m\u001b[1;33m\u001b[0m\u001b[1;33m\u001b[0m\u001b[0m\n",
      "\u001b[1;32mD:\\Anaconda-Personal\\lib\\site-packages\\pandas\\core\\reshape\\concat.py\u001b[0m in \u001b[0;36m<listcomp>\u001b[1;34m(.0)\u001b[0m\n\u001b[0;32m    518\u001b[0m         \u001b[0mndim\u001b[0m \u001b[1;33m=\u001b[0m \u001b[0mself\u001b[0m\u001b[1;33m.\u001b[0m\u001b[0m_get_result_dim\u001b[0m\u001b[1;33m(\u001b[0m\u001b[1;33m)\u001b[0m\u001b[1;33m\u001b[0m\u001b[1;33m\u001b[0m\u001b[0m\n\u001b[0;32m    519\u001b[0m         return [\n\u001b[1;32m--> 520\u001b[1;33m             \u001b[0mself\u001b[0m\u001b[1;33m.\u001b[0m\u001b[0m_get_concat_axis\u001b[0m\u001b[1;33m(\u001b[0m\u001b[1;33m)\u001b[0m \u001b[1;32mif\u001b[0m \u001b[0mi\u001b[0m \u001b[1;33m==\u001b[0m \u001b[0mself\u001b[0m\u001b[1;33m.\u001b[0m\u001b[0mbm_axis\u001b[0m \u001b[1;32melse\u001b[0m \u001b[0mself\u001b[0m\u001b[1;33m.\u001b[0m\u001b[0m_get_comb_axis\u001b[0m\u001b[1;33m(\u001b[0m\u001b[0mi\u001b[0m\u001b[1;33m)\u001b[0m\u001b[1;33m\u001b[0m\u001b[1;33m\u001b[0m\u001b[0m\n\u001b[0m\u001b[0;32m    521\u001b[0m             \u001b[1;32mfor\u001b[0m \u001b[0mi\u001b[0m \u001b[1;32min\u001b[0m \u001b[0mrange\u001b[0m\u001b[1;33m(\u001b[0m\u001b[0mndim\u001b[0m\u001b[1;33m)\u001b[0m\u001b[1;33m\u001b[0m\u001b[1;33m\u001b[0m\u001b[0m\n\u001b[0;32m    522\u001b[0m         ]\n",
      "\u001b[1;32mD:\\Anaconda-Personal\\lib\\site-packages\\pandas\\core\\reshape\\concat.py\u001b[0m in \u001b[0;36m_get_concat_axis\u001b[1;34m(self)\u001b[0m\n\u001b[0;32m    578\u001b[0m             )\n\u001b[0;32m    579\u001b[0m \u001b[1;33m\u001b[0m\u001b[0m\n\u001b[1;32m--> 580\u001b[1;33m         \u001b[0mself\u001b[0m\u001b[1;33m.\u001b[0m\u001b[0m_maybe_check_integrity\u001b[0m\u001b[1;33m(\u001b[0m\u001b[0mconcat_axis\u001b[0m\u001b[1;33m)\u001b[0m\u001b[1;33m\u001b[0m\u001b[1;33m\u001b[0m\u001b[0m\n\u001b[0m\u001b[0;32m    581\u001b[0m \u001b[1;33m\u001b[0m\u001b[0m\n\u001b[0;32m    582\u001b[0m         \u001b[1;32mreturn\u001b[0m \u001b[0mconcat_axis\u001b[0m\u001b[1;33m\u001b[0m\u001b[1;33m\u001b[0m\u001b[0m\n",
      "\u001b[1;32mD:\\Anaconda-Personal\\lib\\site-packages\\pandas\\core\\reshape\\concat.py\u001b[0m in \u001b[0;36m_maybe_check_integrity\u001b[1;34m(self, concat_index)\u001b[0m\n\u001b[0;32m    586\u001b[0m             \u001b[1;32mif\u001b[0m \u001b[1;32mnot\u001b[0m \u001b[0mconcat_index\u001b[0m\u001b[1;33m.\u001b[0m\u001b[0mis_unique\u001b[0m\u001b[1;33m:\u001b[0m\u001b[1;33m\u001b[0m\u001b[1;33m\u001b[0m\u001b[0m\n\u001b[0;32m    587\u001b[0m                 \u001b[0moverlap\u001b[0m \u001b[1;33m=\u001b[0m \u001b[0mconcat_index\u001b[0m\u001b[1;33m[\u001b[0m\u001b[0mconcat_index\u001b[0m\u001b[1;33m.\u001b[0m\u001b[0mduplicated\u001b[0m\u001b[1;33m(\u001b[0m\u001b[1;33m)\u001b[0m\u001b[1;33m]\u001b[0m\u001b[1;33m.\u001b[0m\u001b[0munique\u001b[0m\u001b[1;33m(\u001b[0m\u001b[1;33m)\u001b[0m\u001b[1;33m\u001b[0m\u001b[1;33m\u001b[0m\u001b[0m\n\u001b[1;32m--> 588\u001b[1;33m                 \u001b[1;32mraise\u001b[0m \u001b[0mValueError\u001b[0m\u001b[1;33m(\u001b[0m\u001b[1;34mf\"Indexes have overlapping values: {overlap}\"\u001b[0m\u001b[1;33m)\u001b[0m\u001b[1;33m\u001b[0m\u001b[1;33m\u001b[0m\u001b[0m\n\u001b[0m\u001b[0;32m    589\u001b[0m \u001b[1;33m\u001b[0m\u001b[0m\n\u001b[0;32m    590\u001b[0m \u001b[1;33m\u001b[0m\u001b[0m\n",
      "\u001b[1;31mValueError\u001b[0m: Indexes have overlapping values: Index(['R1'], dtype='object')"
     ]
    }
   ],
   "source": [
    "#Joining, Merging and Concatenation of DataFrames\n",
    "import pandas as pd\n",
    "\n",
    "# Sample DataFrames\n",
    "d1 = {'Productid': [101, 102, 103], 'Name': ['Soap', 'Biscuit', 'Notebook'],'Price':[78,59,145]}\n",
    "d2 = {'Productid': [104, 105, 106], 'Name': ['Pen', 'Pencil', 'Eraser'],'Price':[315,29,45]}\n",
    "df1 = pd.DataFrame(d1,index=['R1','R2','R3'])\n",
    "df2 = pd.DataFrame(d2, index=['R1','R4','R5'])\n",
    "\n",
    "# Append df2 below df1 using parameter verify_integrity\n",
    "dfNew = df1.append(df2, verify_integrity=True)\n",
    "dfNew"
   ]
  },
  {
   "cell_type": "code",
   "execution_count": 117,
   "metadata": {},
   "outputs": [
    {
     "data": {
      "text/html": [
       "<div>\n",
       "<style scoped>\n",
       "    .dataframe tbody tr th:only-of-type {\n",
       "        vertical-align: middle;\n",
       "    }\n",
       "\n",
       "    .dataframe tbody tr th {\n",
       "        vertical-align: top;\n",
       "    }\n",
       "\n",
       "    .dataframe thead th {\n",
       "        text-align: right;\n",
       "    }\n",
       "</style>\n",
       "<table border=\"1\" class=\"dataframe\">\n",
       "  <thead>\n",
       "    <tr style=\"text-align: right;\">\n",
       "      <th></th>\n",
       "      <th>Name</th>\n",
       "      <th>Price</th>\n",
       "      <th>Productid</th>\n",
       "    </tr>\n",
       "  </thead>\n",
       "  <tbody>\n",
       "    <tr>\n",
       "      <th>R1</th>\n",
       "      <td>Soap</td>\n",
       "      <td>78</td>\n",
       "      <td>101</td>\n",
       "    </tr>\n",
       "    <tr>\n",
       "      <th>R2</th>\n",
       "      <td>Biscuit</td>\n",
       "      <td>59</td>\n",
       "      <td>102</td>\n",
       "    </tr>\n",
       "    <tr>\n",
       "      <th>R3</th>\n",
       "      <td>Notebook</td>\n",
       "      <td>145</td>\n",
       "      <td>103</td>\n",
       "    </tr>\n",
       "    <tr>\n",
       "      <th>R2</th>\n",
       "      <td>Pen</td>\n",
       "      <td>315</td>\n",
       "      <td>104</td>\n",
       "    </tr>\n",
       "    <tr>\n",
       "      <th>R4</th>\n",
       "      <td>Pencil</td>\n",
       "      <td>29</td>\n",
       "      <td>105</td>\n",
       "    </tr>\n",
       "    <tr>\n",
       "      <th>R5</th>\n",
       "      <td>Eraser</td>\n",
       "      <td>45</td>\n",
       "      <td>106</td>\n",
       "    </tr>\n",
       "  </tbody>\n",
       "</table>\n",
       "</div>"
      ],
      "text/plain": [
       "        Name  Price  Productid\n",
       "R1      Soap     78        101\n",
       "R2   Biscuit     59        102\n",
       "R3  Notebook    145        103\n",
       "R2       Pen    315        104\n",
       "R4    Pencil     29        105\n",
       "R5    Eraser     45        106"
      ]
     },
     "execution_count": 117,
     "metadata": {},
     "output_type": "execute_result"
    }
   ],
   "source": [
    "#Joining, Merging and Concatenation of DataFrames\n",
    "import pandas as pd\n",
    "\n",
    "# Sample DataFrames\n",
    "d1 = {'Productid': [101, 102, 103], 'Name': ['Soap', 'Biscuit', 'Notebook'],'Price':[78,59,145]}\n",
    "d2 = {'Productid': [104, 105, 106], 'Name': ['Pen', 'Pencil', 'Eraser'],'Price':[315,29,45]}\n",
    "df1 = pd.DataFrame(d1,index=['R1','R2','R3'])\n",
    "df2 = pd.DataFrame(d2, index=['R2','R4','R5'])\n",
    "\n",
    "# Append df2 below df1 using parameter ignore_index\n",
    "dfNew = df1.append(df2, sort=True)\n",
    "dfNew"
   ]
  },
  {
   "cell_type": "code",
   "execution_count": 124,
   "metadata": {},
   "outputs": [
    {
     "data": {
      "text/html": [
       "<div>\n",
       "<style scoped>\n",
       "    .dataframe tbody tr th:only-of-type {\n",
       "        vertical-align: middle;\n",
       "    }\n",
       "\n",
       "    .dataframe tbody tr th {\n",
       "        vertical-align: top;\n",
       "    }\n",
       "\n",
       "    .dataframe thead th {\n",
       "        text-align: right;\n",
       "    }\n",
       "</style>\n",
       "<table border=\"1\" class=\"dataframe\">\n",
       "  <thead>\n",
       "    <tr style=\"text-align: right;\">\n",
       "      <th></th>\n",
       "      <th>Productid</th>\n",
       "      <th>Name</th>\n",
       "      <th>Price</th>\n",
       "      <th>Company</th>\n",
       "    </tr>\n",
       "  </thead>\n",
       "  <tbody>\n",
       "    <tr>\n",
       "      <th>R1</th>\n",
       "      <td>101</td>\n",
       "      <td>Soap</td>\n",
       "      <td>78</td>\n",
       "      <td>Godrej</td>\n",
       "    </tr>\n",
       "    <tr>\n",
       "      <th>R2</th>\n",
       "      <td>102</td>\n",
       "      <td>Biscuit</td>\n",
       "      <td>59</td>\n",
       "      <td>Parle</td>\n",
       "    </tr>\n",
       "    <tr>\n",
       "      <th>R3</th>\n",
       "      <td>103</td>\n",
       "      <td>Notebook</td>\n",
       "      <td>145</td>\n",
       "      <td>Camel</td>\n",
       "    </tr>\n",
       "  </tbody>\n",
       "</table>\n",
       "</div>"
      ],
      "text/plain": [
       "    Productid      Name  Price Company\n",
       "R1        101      Soap     78  Godrej\n",
       "R2        102   Biscuit     59   Parle\n",
       "R3        103  Notebook    145   Camel"
      ]
     },
     "execution_count": 124,
     "metadata": {},
     "output_type": "execute_result"
    }
   ],
   "source": [
    "# joining dataframes\n",
    "import pandas as pd\n",
    "\n",
    "# Sample DataFrames\n",
    "d1 = {'Productid': [101, 102, 103], 'Name': ['Soap', 'Biscuit', 'Notebook'],'Price':[78,59,145]}\n",
    "d2 = {'Company': ['Godrej','Parle','Camel']}\n",
    "df1 = pd.DataFrame(d1,index=['R1','R2','R3'])\n",
    "df2 = pd.DataFrame(d2, index=['R1','R2','R3'])\n",
    "dfJ = df1.join(df2)  # Joining df1 with df2 based on their indices (inner join)\n",
    "dfJ"
   ]
  },
  {
   "cell_type": "code",
   "execution_count": 126,
   "metadata": {},
   "outputs": [
    {
     "data": {
      "text/html": [
       "<div>\n",
       "<style scoped>\n",
       "    .dataframe tbody tr th:only-of-type {\n",
       "        vertical-align: middle;\n",
       "    }\n",
       "\n",
       "    .dataframe tbody tr th {\n",
       "        vertical-align: top;\n",
       "    }\n",
       "\n",
       "    .dataframe thead th {\n",
       "        text-align: right;\n",
       "    }\n",
       "</style>\n",
       "<table border=\"1\" class=\"dataframe\">\n",
       "  <thead>\n",
       "    <tr style=\"text-align: right;\">\n",
       "      <th></th>\n",
       "      <th>Productid</th>\n",
       "      <th>Name</th>\n",
       "      <th>Price</th>\n",
       "      <th>Company</th>\n",
       "    </tr>\n",
       "  </thead>\n",
       "  <tbody>\n",
       "    <tr>\n",
       "      <th>0</th>\n",
       "      <td>101</td>\n",
       "      <td>Soap</td>\n",
       "      <td>78</td>\n",
       "      <td>Godrej</td>\n",
       "    </tr>\n",
       "    <tr>\n",
       "      <th>1</th>\n",
       "      <td>102</td>\n",
       "      <td>Biscuit</td>\n",
       "      <td>59</td>\n",
       "      <td>Parle</td>\n",
       "    </tr>\n",
       "    <tr>\n",
       "      <th>2</th>\n",
       "      <td>103</td>\n",
       "      <td>Notebook</td>\n",
       "      <td>145</td>\n",
       "      <td>Camel</td>\n",
       "    </tr>\n",
       "  </tbody>\n",
       "</table>\n",
       "</div>"
      ],
      "text/plain": [
       "   Productid      Name  Price Company\n",
       "0        101      Soap     78  Godrej\n",
       "1        102   Biscuit     59   Parle\n",
       "2        103  Notebook    145   Camel"
      ]
     },
     "execution_count": 126,
     "metadata": {},
     "output_type": "execute_result"
    }
   ],
   "source": [
    "# Merging dataframes\n",
    "import pandas as pd\n",
    "\n",
    "# Sample DataFrames\n",
    "d1 = {'Productid': [101, 102, 103], 'Name': ['Soap', 'Biscuit', 'Notebook'],'Price':[78,59,145]}\n",
    "d2 = {'Productid': [101, 102, 103],'Company': ['Godrej','Parle','Camel']}\n",
    "df1 = pd.DataFrame(d1,index=['R1','R2','R3'])\n",
    "df2 = pd.DataFrame(d2, index=['R1','R2','R3'])\n",
    "# Merging df1 with df2 based on their indices (inner join)\n",
    "dfM =pd.merge(df1, df2, on='Productid', how='inner')  \n",
    "dfM"
   ]
  },
  {
   "cell_type": "code",
   "execution_count": 129,
   "metadata": {},
   "outputs": [
    {
     "data": {
      "text/html": [
       "<div>\n",
       "<style scoped>\n",
       "    .dataframe tbody tr th:only-of-type {\n",
       "        vertical-align: middle;\n",
       "    }\n",
       "\n",
       "    .dataframe tbody tr th {\n",
       "        vertical-align: top;\n",
       "    }\n",
       "\n",
       "    .dataframe thead th {\n",
       "        text-align: right;\n",
       "    }\n",
       "</style>\n",
       "<table border=\"1\" class=\"dataframe\">\n",
       "  <thead>\n",
       "    <tr style=\"text-align: right;\">\n",
       "      <th></th>\n",
       "      <th>Productid</th>\n",
       "      <th>Name</th>\n",
       "      <th>Price</th>\n",
       "      <th>Productid</th>\n",
       "      <th>Name</th>\n",
       "      <th>Price</th>\n",
       "    </tr>\n",
       "  </thead>\n",
       "  <tbody>\n",
       "    <tr>\n",
       "      <th>R1</th>\n",
       "      <td>101.0</td>\n",
       "      <td>Soap</td>\n",
       "      <td>78.0</td>\n",
       "      <td>104.0</td>\n",
       "      <td>Pen</td>\n",
       "      <td>315.0</td>\n",
       "    </tr>\n",
       "    <tr>\n",
       "      <th>R2</th>\n",
       "      <td>102.0</td>\n",
       "      <td>Biscuit</td>\n",
       "      <td>59.0</td>\n",
       "      <td>NaN</td>\n",
       "      <td>NaN</td>\n",
       "      <td>NaN</td>\n",
       "    </tr>\n",
       "    <tr>\n",
       "      <th>R3</th>\n",
       "      <td>103.0</td>\n",
       "      <td>Notebook</td>\n",
       "      <td>145.0</td>\n",
       "      <td>NaN</td>\n",
       "      <td>NaN</td>\n",
       "      <td>NaN</td>\n",
       "    </tr>\n",
       "    <tr>\n",
       "      <th>R4</th>\n",
       "      <td>NaN</td>\n",
       "      <td>NaN</td>\n",
       "      <td>NaN</td>\n",
       "      <td>105.0</td>\n",
       "      <td>Pencil</td>\n",
       "      <td>29.0</td>\n",
       "    </tr>\n",
       "    <tr>\n",
       "      <th>R5</th>\n",
       "      <td>NaN</td>\n",
       "      <td>NaN</td>\n",
       "      <td>NaN</td>\n",
       "      <td>106.0</td>\n",
       "      <td>Eraser</td>\n",
       "      <td>45.0</td>\n",
       "    </tr>\n",
       "  </tbody>\n",
       "</table>\n",
       "</div>"
      ],
      "text/plain": [
       "    Productid      Name  Price  Productid    Name  Price\n",
       "R1      101.0      Soap   78.0      104.0     Pen  315.0\n",
       "R2      102.0   Biscuit   59.0        NaN     NaN    NaN\n",
       "R3      103.0  Notebook  145.0        NaN     NaN    NaN\n",
       "R4        NaN       NaN    NaN      105.0  Pencil   29.0\n",
       "R5        NaN       NaN    NaN      106.0  Eraser   45.0"
      ]
     },
     "execution_count": 129,
     "metadata": {},
     "output_type": "execute_result"
    }
   ],
   "source": [
    "# Concatenating  dataframes\n",
    "import pandas as pd\n",
    "\n",
    "# Sample DataFrames\n",
    "d1 = {'Productid': [101, 102, 103], 'Name': ['Soap', 'Biscuit', 'Notebook'],'Price':[78,59,145]}\n",
    "d2 = {'Productid': [104, 105, 106], 'Name': ['Pen', 'Pencil', 'Eraser'],'Price':[315,29,45]}\n",
    "df1 = pd.DataFrame(d1,index=['R1','R2','R3'])\n",
    "df2 = pd.DataFrame(d2, index=['R1','R4','R5'])\n",
    "dfC =pd.concat([df1, df2], axis=1)  # concatenating df1 with df2 \n",
    "dfC"
   ]
  },
  {
   "cell_type": "code",
   "execution_count": 135,
   "metadata": {},
   "outputs": [
    {
     "data": {
      "text/html": [
       "<div>\n",
       "<style scoped>\n",
       "    .dataframe tbody tr th:only-of-type {\n",
       "        vertical-align: middle;\n",
       "    }\n",
       "\n",
       "    .dataframe tbody tr th {\n",
       "        vertical-align: top;\n",
       "    }\n",
       "\n",
       "    .dataframe thead th {\n",
       "        text-align: right;\n",
       "    }\n",
       "</style>\n",
       "<table border=\"1\" class=\"dataframe\">\n",
       "  <thead>\n",
       "    <tr style=\"text-align: right;\">\n",
       "      <th></th>\n",
       "      <th>Patient_ID</th>\n",
       "      <th>Name</th>\n",
       "      <th>Age</th>\n",
       "      <th>Gender</th>\n",
       "      <th>Diagnosis</th>\n",
       "      <th>Admitted_Date</th>\n",
       "    </tr>\n",
       "  </thead>\n",
       "  <tbody>\n",
       "    <tr>\n",
       "      <th>0</th>\n",
       "      <td>1</td>\n",
       "      <td>Alice</td>\n",
       "      <td>35</td>\n",
       "      <td>Female</td>\n",
       "      <td>Flu</td>\n",
       "      <td>2023-01-05</td>\n",
       "    </tr>\n",
       "    <tr>\n",
       "      <th>1</th>\n",
       "      <td>2</td>\n",
       "      <td>Bob</td>\n",
       "      <td>28</td>\n",
       "      <td>Male</td>\n",
       "      <td>Fracture</td>\n",
       "      <td>2023-02-15</td>\n",
       "    </tr>\n",
       "    <tr>\n",
       "      <th>2</th>\n",
       "      <td>3</td>\n",
       "      <td>Charlie</td>\n",
       "      <td>40</td>\n",
       "      <td>Male</td>\n",
       "      <td>Migraine</td>\n",
       "      <td>2023-03-20</td>\n",
       "    </tr>\n",
       "    <tr>\n",
       "      <th>3</th>\n",
       "      <td>4</td>\n",
       "      <td>David</td>\n",
       "      <td>45</td>\n",
       "      <td>Male</td>\n",
       "      <td>COVID-19</td>\n",
       "      <td>2023-04-10</td>\n",
       "    </tr>\n",
       "    <tr>\n",
       "      <th>4</th>\n",
       "      <td>5</td>\n",
       "      <td>Eva</td>\n",
       "      <td>22</td>\n",
       "      <td>Female</td>\n",
       "      <td>Allergy</td>\n",
       "      <td>2023-05-12</td>\n",
       "    </tr>\n",
       "  </tbody>\n",
       "</table>\n",
       "</div>"
      ],
      "text/plain": [
       "   Patient_ID     Name  Age  Gender Diagnosis Admitted_Date\n",
       "0           1    Alice   35  Female       Flu    2023-01-05\n",
       "1           2      Bob   28    Male  Fracture    2023-02-15\n",
       "2           3  Charlie   40    Male  Migraine    2023-03-20\n",
       "3           4    David   45    Male  COVID-19    2023-04-10\n",
       "4           5      Eva   22  Female   Allergy    2023-05-12"
      ]
     },
     "execution_count": 135,
     "metadata": {},
     "output_type": "execute_result"
    }
   ],
   "source": [
    "import pandas as pd\n",
    "\n",
    "# Sample patient data\n",
    "data = {\n",
    "    'Patient_ID': [1, 2, 3, 4, 5],\n",
    "    'Name': ['Alice', 'Bob', 'Charlie', 'David', 'Eva'],\n",
    "    'Age': [35, 28, 40, 45, 22],\n",
    "    'Gender': ['Female', 'Male', 'Male', 'Male', 'Female'],\n",
    "    'Diagnosis': ['Flu', 'Fracture', 'Migraine', 'COVID-19', 'Allergy'],\n",
    "    'Admitted_Date': ['2023-01-05', '2023-02-15', '2023-03-20', '2023-04-10', '2023-05-12']\n",
    "}\n",
    "\n",
    "# Creating a DataFrame from the patient data\n",
    "dfP = pd.DataFrame(data)\n",
    "dfP\n",
    "\n"
   ]
  },
  {
   "cell_type": "code",
   "execution_count": 138,
   "metadata": {},
   "outputs": [
    {
     "data": {
      "text/plain": [
       "(5, 6)"
      ]
     },
     "execution_count": 138,
     "metadata": {},
     "output_type": "execute_result"
    }
   ],
   "source": [
    "dfP.shape"
   ]
  },
  {
   "cell_type": "code",
   "execution_count": 137,
   "metadata": {},
   "outputs": [
    {
     "data": {
      "text/plain": [
       "Index(['Patient_ID', 'Name', 'Age', 'Gender', 'Diagnosis', 'Admitted_Date'], dtype='object')"
      ]
     },
     "execution_count": 137,
     "metadata": {},
     "output_type": "execute_result"
    }
   ],
   "source": [
    "dfP.columns"
   ]
  },
  {
   "cell_type": "code",
   "execution_count": 139,
   "metadata": {},
   "outputs": [
    {
     "data": {
      "text/plain": [
       "RangeIndex(start=0, stop=5, step=1)"
      ]
     },
     "execution_count": 139,
     "metadata": {},
     "output_type": "execute_result"
    }
   ],
   "source": [
    "dfP.index"
   ]
  },
  {
   "cell_type": "code",
   "execution_count": 140,
   "metadata": {},
   "outputs": [
    {
     "data": {
      "text/plain": [
       "array([[1, 'Alice', 35, 'Female', 'Flu', '2023-01-05'],\n",
       "       [2, 'Bob', 28, 'Male', 'Fracture', '2023-02-15'],\n",
       "       [3, 'Charlie', 40, 'Male', 'Migraine', '2023-03-20'],\n",
       "       [4, 'David', 45, 'Male', 'COVID-19', '2023-04-10'],\n",
       "       [5, 'Eva', 22, 'Female', 'Allergy', '2023-05-12']], dtype=object)"
      ]
     },
     "execution_count": 140,
     "metadata": {},
     "output_type": "execute_result"
    }
   ],
   "source": [
    "dfP.values"
   ]
  },
  {
   "cell_type": "code",
   "execution_count": 141,
   "metadata": {},
   "outputs": [
    {
     "data": {
      "text/plain": [
       "Patient_ID        int64\n",
       "Name             object\n",
       "Age               int64\n",
       "Gender           object\n",
       "Diagnosis        object\n",
       "Admitted_Date    object\n",
       "dtype: object"
      ]
     },
     "execution_count": 141,
     "metadata": {},
     "output_type": "execute_result"
    }
   ],
   "source": [
    "dfP.dtypes"
   ]
  },
  {
   "cell_type": "code",
   "execution_count": 142,
   "metadata": {},
   "outputs": [
    {
     "data": {
      "text/plain": [
       "30"
      ]
     },
     "execution_count": 142,
     "metadata": {},
     "output_type": "execute_result"
    }
   ],
   "source": [
    "dfP.size"
   ]
  },
  {
   "cell_type": "code",
   "execution_count": 143,
   "metadata": {},
   "outputs": [
    {
     "name": "stdout",
     "output_type": "stream",
     "text": [
      "   Patient_ID     Name  Age  Gender Diagnosis Admitted_Date\n",
      "0           1    Alice   35  Female       Flu    2023-01-05\n",
      "1           2      Bob   28    Male  Fracture    2023-02-15\n",
      "2           3  Charlie   40    Male  Migraine    2023-03-20\n",
      "   Patient_ID     Name  Age  Gender Diagnosis Admitted_Date\n",
      "0           1    Alice   35  Female       Flu    2023-01-05\n",
      "1           2      Bob   28    Male  Fracture    2023-02-15\n",
      "2           3  Charlie   40    Male  Migraine    2023-03-20\n",
      "3           4    David   45    Male  COVID-19    2023-04-10\n",
      "4           5      Eva   22  Female   Allergy    2023-05-12\n"
     ]
    }
   ],
   "source": [
    "print(dfP.head(3))\n",
    "print(dfP.head())"
   ]
  },
  {
   "cell_type": "code",
   "execution_count": 144,
   "metadata": {},
   "outputs": [
    {
     "name": "stdout",
     "output_type": "stream",
     "text": [
      "   Patient_ID     Name  Age  Gender Diagnosis Admitted_Date\n",
      "1           2      Bob   28    Male  Fracture    2023-02-15\n",
      "2           3  Charlie   40    Male  Migraine    2023-03-20\n",
      "3           4    David   45    Male  COVID-19    2023-04-10\n",
      "4           5      Eva   22  Female   Allergy    2023-05-12\n",
      "   Patient_ID     Name  Age  Gender Diagnosis Admitted_Date\n",
      "0           1    Alice   35  Female       Flu    2023-01-05\n",
      "1           2      Bob   28    Male  Fracture    2023-02-15\n",
      "2           3  Charlie   40    Male  Migraine    2023-03-20\n",
      "3           4    David   45    Male  COVID-19    2023-04-10\n",
      "4           5      Eva   22  Female   Allergy    2023-05-12\n"
     ]
    }
   ],
   "source": [
    "print(dfP.tail(4))\n",
    "print(dfP.tail())"
   ]
  },
  {
   "cell_type": "code",
   "execution_count": 145,
   "metadata": {},
   "outputs": [
    {
     "data": {
      "text/html": [
       "<div>\n",
       "<style scoped>\n",
       "    .dataframe tbody tr th:only-of-type {\n",
       "        vertical-align: middle;\n",
       "    }\n",
       "\n",
       "    .dataframe tbody tr th {\n",
       "        vertical-align: top;\n",
       "    }\n",
       "\n",
       "    .dataframe thead th {\n",
       "        text-align: right;\n",
       "    }\n",
       "</style>\n",
       "<table border=\"1\" class=\"dataframe\">\n",
       "  <thead>\n",
       "    <tr style=\"text-align: right;\">\n",
       "      <th></th>\n",
       "      <th>Patient_ID</th>\n",
       "      <th>Age</th>\n",
       "    </tr>\n",
       "  </thead>\n",
       "  <tbody>\n",
       "    <tr>\n",
       "      <th>count</th>\n",
       "      <td>5.000000</td>\n",
       "      <td>5.000000</td>\n",
       "    </tr>\n",
       "    <tr>\n",
       "      <th>mean</th>\n",
       "      <td>3.000000</td>\n",
       "      <td>34.000000</td>\n",
       "    </tr>\n",
       "    <tr>\n",
       "      <th>std</th>\n",
       "      <td>1.581139</td>\n",
       "      <td>9.192388</td>\n",
       "    </tr>\n",
       "    <tr>\n",
       "      <th>min</th>\n",
       "      <td>1.000000</td>\n",
       "      <td>22.000000</td>\n",
       "    </tr>\n",
       "    <tr>\n",
       "      <th>25%</th>\n",
       "      <td>2.000000</td>\n",
       "      <td>28.000000</td>\n",
       "    </tr>\n",
       "    <tr>\n",
       "      <th>50%</th>\n",
       "      <td>3.000000</td>\n",
       "      <td>35.000000</td>\n",
       "    </tr>\n",
       "    <tr>\n",
       "      <th>75%</th>\n",
       "      <td>4.000000</td>\n",
       "      <td>40.000000</td>\n",
       "    </tr>\n",
       "    <tr>\n",
       "      <th>max</th>\n",
       "      <td>5.000000</td>\n",
       "      <td>45.000000</td>\n",
       "    </tr>\n",
       "  </tbody>\n",
       "</table>\n",
       "</div>"
      ],
      "text/plain": [
       "       Patient_ID        Age\n",
       "count    5.000000   5.000000\n",
       "mean     3.000000  34.000000\n",
       "std      1.581139   9.192388\n",
       "min      1.000000  22.000000\n",
       "25%      2.000000  28.000000\n",
       "50%      3.000000  35.000000\n",
       "75%      4.000000  40.000000\n",
       "max      5.000000  45.000000"
      ]
     },
     "execution_count": 145,
     "metadata": {},
     "output_type": "execute_result"
    }
   ],
   "source": [
    "dfP.describe()"
   ]
  },
  {
   "cell_type": "code",
   "execution_count": 146,
   "metadata": {},
   "outputs": [
    {
     "data": {
      "text/html": [
       "<div>\n",
       "<style scoped>\n",
       "    .dataframe tbody tr th:only-of-type {\n",
       "        vertical-align: middle;\n",
       "    }\n",
       "\n",
       "    .dataframe tbody tr th {\n",
       "        vertical-align: top;\n",
       "    }\n",
       "\n",
       "    .dataframe thead th {\n",
       "        text-align: right;\n",
       "    }\n",
       "</style>\n",
       "<table border=\"1\" class=\"dataframe\">\n",
       "  <thead>\n",
       "    <tr style=\"text-align: right;\">\n",
       "      <th></th>\n",
       "      <th>0</th>\n",
       "      <th>1</th>\n",
       "      <th>2</th>\n",
       "      <th>3</th>\n",
       "      <th>4</th>\n",
       "    </tr>\n",
       "  </thead>\n",
       "  <tbody>\n",
       "    <tr>\n",
       "      <th>Patient_ID</th>\n",
       "      <td>1</td>\n",
       "      <td>2</td>\n",
       "      <td>3</td>\n",
       "      <td>4</td>\n",
       "      <td>5</td>\n",
       "    </tr>\n",
       "    <tr>\n",
       "      <th>Name</th>\n",
       "      <td>Alice</td>\n",
       "      <td>Bob</td>\n",
       "      <td>Charlie</td>\n",
       "      <td>David</td>\n",
       "      <td>Eva</td>\n",
       "    </tr>\n",
       "    <tr>\n",
       "      <th>Age</th>\n",
       "      <td>35</td>\n",
       "      <td>28</td>\n",
       "      <td>40</td>\n",
       "      <td>45</td>\n",
       "      <td>22</td>\n",
       "    </tr>\n",
       "    <tr>\n",
       "      <th>Gender</th>\n",
       "      <td>Female</td>\n",
       "      <td>Male</td>\n",
       "      <td>Male</td>\n",
       "      <td>Male</td>\n",
       "      <td>Female</td>\n",
       "    </tr>\n",
       "    <tr>\n",
       "      <th>Diagnosis</th>\n",
       "      <td>Flu</td>\n",
       "      <td>Fracture</td>\n",
       "      <td>Migraine</td>\n",
       "      <td>COVID-19</td>\n",
       "      <td>Allergy</td>\n",
       "    </tr>\n",
       "    <tr>\n",
       "      <th>Admitted_Date</th>\n",
       "      <td>2023-01-05</td>\n",
       "      <td>2023-02-15</td>\n",
       "      <td>2023-03-20</td>\n",
       "      <td>2023-04-10</td>\n",
       "      <td>2023-05-12</td>\n",
       "    </tr>\n",
       "  </tbody>\n",
       "</table>\n",
       "</div>"
      ],
      "text/plain": [
       "                        0           1           2           3           4\n",
       "Patient_ID              1           2           3           4           5\n",
       "Name                Alice         Bob     Charlie       David         Eva\n",
       "Age                    35          28          40          45          22\n",
       "Gender             Female        Male        Male        Male      Female\n",
       "Diagnosis             Flu    Fracture    Migraine    COVID-19     Allergy\n",
       "Admitted_Date  2023-01-05  2023-02-15  2023-03-20  2023-04-10  2023-05-12"
      ]
     },
     "execution_count": 146,
     "metadata": {},
     "output_type": "execute_result"
    }
   ],
   "source": [
    "dfP.T"
   ]
  },
  {
   "cell_type": "code",
   "execution_count": 147,
   "metadata": {},
   "outputs": [
    {
     "data": {
      "text/plain": [
       "False"
      ]
     },
     "execution_count": 147,
     "metadata": {},
     "output_type": "execute_result"
    }
   ],
   "source": [
    "dfP.empty"
   ]
  },
  {
   "cell_type": "code",
   "execution_count": 148,
   "metadata": {},
   "outputs": [
    {
     "data": {
      "text/plain": [
       "True"
      ]
     },
     "execution_count": 148,
     "metadata": {},
     "output_type": "execute_result"
    }
   ],
   "source": [
    "df=pd.DataFrame()\n",
    "df.empty"
   ]
  },
  {
   "cell_type": "code",
   "execution_count": 14,
   "metadata": {},
   "outputs": [
    {
     "name": "stdout",
     "output_type": "stream",
     "text": [
      "         Name  Age        City\n",
      "0   Dr. Patel   35      Mumbai\n",
      "1  Dr. Sharma   40       Delhi\n",
      "2   Dr. Singh   32   Bangalore\n",
      "3   Dr. Goyal   41      Jaipur\n",
      "4   Dr. Gupta   43       Delhi\n"
     ]
    }
   ],
   "source": [
    "# importing data from CSV file in a dataframe\n",
    "import pandas as pd\n",
    "\n",
    "# Reading the CSV file into a DataFrame\n",
    "df = pd.read_csv('C:/Users/suvig/doctor.csv')\n",
    "\n",
    "# Displaying the DataFrame\n",
    "print(df)\n"
   ]
  },
  {
   "cell_type": "code",
   "execution_count": 15,
   "metadata": {},
   "outputs": [
    {
     "name": "stdout",
     "output_type": "stream",
     "text": [
      "         Name  Age        City\n",
      "0   Dr. Patel   35      Mumbai\n",
      "1  Dr. Sharma   40       Delhi\n",
      "2   Dr. Singh   32   Bangalore\n",
      "3   Dr. Goyal   41      Jaipur\n",
      "4   Dr. Gupta   43       Delhi\n"
     ]
    }
   ],
   "source": [
    "# importing data from CSV file in a dataframe\n",
    "import pandas as pd\n",
    "\n",
    "# Reading the CSV file into a DataFrame with  sep and header parameter\n",
    "df = pd.read_csv('C:/Users/suvig/doctor.csv',sep =\",\", header=0)\n",
    "\n",
    "# Displaying the DataFrame\n",
    "print(df)\n"
   ]
  },
  {
   "cell_type": "code",
   "execution_count": 16,
   "metadata": {},
   "outputs": [
    {
     "name": "stdout",
     "output_type": "stream",
     "text": [
      "    Dr. Patel  35      Mumbai\n",
      "0  Dr. Sharma  40       Delhi\n",
      "1   Dr. Singh  32   Bangalore\n",
      "2   Dr. Goyal  41      Jaipur\n",
      "3   Dr. Gupta  43       Delhi\n"
     ]
    }
   ],
   "source": [
    "# importing data from CSV file in a dataframe\n",
    "import pandas as pd\n",
    "\n",
    "# Reading the CSV file into a DataFrame with sep and header parameter\n",
    "df = pd.read_csv('C:/Users/suvig/doctor.csv',sep =\",\", header=1)\n",
    "\n",
    "# Displaying the DataFrame\n",
    "print(df)"
   ]
  },
  {
   "cell_type": "code",
   "execution_count": 20,
   "metadata": {},
   "outputs": [
    {
     "name": "stdout",
     "output_type": "stream",
     "text": [
      "  Doctor Name  D_Age      D_City\n",
      "0   Dr. Patel     35      Mumbai\n",
      "1  Dr. Sharma     40       Delhi\n",
      "2   Dr. Singh     32   Bangalore\n",
      "3   Dr. Goyal     41      Jaipur\n",
      "4   Dr. Gupta     43       Delhi\n"
     ]
    }
   ],
   "source": [
    "# importing data from CSV file in a dataframe\n",
    "import pandas as pd\n",
    "\n",
    "# Reading the CSV file into a DataFrame with sep , header and names  parameter\n",
    "df = pd.read_csv('C:/Users/suvig/doctor.csv',sep =\",\", header=0, names=['Doctor Name','D_Age','D_City'])\n",
    "\n",
    "# Displaying the DataFrame having only 2 columns\n",
    "print(df)"
   ]
  },
  {
   "cell_type": "code",
   "execution_count": 17,
   "metadata": {},
   "outputs": [
    {
     "name": "stdout",
     "output_type": "stream",
     "text": [
      "         Name  Age\n",
      "0   Dr. Patel   35\n",
      "1  Dr. Sharma   40\n",
      "2   Dr. Singh   32\n",
      "3   Dr. Goyal   41\n",
      "4   Dr. Gupta   43\n"
     ]
    }
   ],
   "source": [
    "# importing data from CSV file in a dataframe\n",
    "import pandas as pd\n",
    "\n",
    "# Reading the CSV file into a DataFrame with sep , header and usecols  parameter \n",
    "df = pd.read_csv('C:/Users/suvig/doctor.csv',sep =\",\", header=0, usecols=[0,1])\n",
    "\n",
    "# Displaying the DataFrame having only 2 columns\n",
    "print(df)"
   ]
  },
  {
   "cell_type": "code",
   "execution_count": 18,
   "metadata": {},
   "outputs": [
    {
     "name": "stdout",
     "output_type": "stream",
     "text": [
      "         Name  Age\n",
      "0   Dr. Patel   35\n",
      "1  Dr. Sharma   40\n",
      "2   Dr. Singh   32\n"
     ]
    }
   ],
   "source": [
    "# importing data from CSV file in a dataframe\n",
    "import pandas as pd\n",
    "\n",
    "# Reading the CSV file into a DataFrame with sep , header, usecols and nrows parameter\n",
    "df = pd.read_csv('C:/Users/suvig/doctor.csv',sep =\",\", header=0, usecols=[0,1],nrows=3)\n",
    "\n",
    "# Displaying the DataFrame having only 2 columns\n",
    "print(df)"
   ]
  },
  {
   "cell_type": "code",
   "execution_count": 21,
   "metadata": {},
   "outputs": [],
   "source": [
    "# Exporting data from dataframe to CSV file\n",
    "import pandas as pd\n",
    "\n",
    "# copying the DataFrame into a csv file\n",
    "df.to_csv(path_or_buf='C:/Users/suvig/Newdoctor.csv',sep =\",\")\n"
   ]
  },
  {
   "cell_type": "code",
   "execution_count": 22,
   "metadata": {},
   "outputs": [],
   "source": [
    "# Exporting data from dataframe to txt file\n",
    "import pandas as pd\n",
    "\n",
    "# copying the DataFrame into a Txt file with sep , header and index parameter\n",
    "df.to_csv(path_or_buf='C:/Users/suvig/Newfile.txt',sep = '@', header = False, index= False)\n"
   ]
  },
  {
   "cell_type": "code",
   "execution_count": null,
   "metadata": {},
   "outputs": [],
   "source": []
  }
 ],
 "metadata": {
  "kernelspec": {
   "display_name": "Python 3",
   "language": "python",
   "name": "python3"
  },
  "language_info": {
   "codemirror_mode": {
    "name": "ipython",
    "version": 3
   },
   "file_extension": ".py",
   "mimetype": "text/x-python",
   "name": "python",
   "nbconvert_exporter": "python",
   "pygments_lexer": "ipython3",
   "version": "3.8.5"
  }
 },
 "nbformat": 4,
 "nbformat_minor": 4
}
